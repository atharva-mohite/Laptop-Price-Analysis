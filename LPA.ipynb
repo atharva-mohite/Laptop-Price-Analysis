{
  "cells": [
    {
      "cell_type": "markdown",
      "source": [
        "# 1. Introduction to the Problem Statement"
      ],
      "metadata": {
        "id": "Srlj-4eJcgbg"
      },
      "id": "Srlj-4eJcgbg"
    },
    {
      "cell_type": "markdown",
      "metadata": {
        "id": "f5d80c60"
      },
      "source": [
        "The objective of this project is to analyze a dataset of laptop products scraped from an e-commerce website and identify the most significant factors mentioned in the product descriptions that influence the laptop prices. This will be achieved by using data analytics tools to extract insights from the dataset, allowing the e-commerce website to make informed decisions around pricing and product development, improve customer satisfaction and loyalty, stay competitive in the market, and optimize their resources.\n",
        "\n",
        "*   The rating of a laptop will be predicted by it's features. This will educate not only the manufacturers but also the buyers to gauge the opinion of the general public and make a better choice. By knowing which feature(s) affects the product rating the most, one can decide what to priortize the most while buying a laptop.\n",
        "*   We can make use of data from an E-Commerce site/platform for this problem\n",
        "*   I tried seacrhing for online shopping websites like flipkart, amazon. As the format and information available on each site is quite different, I had to settle with scarping the webpages on one website (flipkart). \n",
        "*   Descriptive and/or Inferential data analysis has been performed\n",
        " \n"
      ],
      "id": "f5d80c60"
    },
    {
      "cell_type": "markdown",
      "metadata": {
        "id": "3cc8e0cb"
      },
      "source": [
        "# 2. Data Acquisition\n",
        " \n",
        "\n",
        "\n"
      ],
      "id": "3cc8e0cb"
    },
    {
      "cell_type": "markdown",
      "source": [
        "## 2.1 Code for scraping data from website"
      ],
      "metadata": {
        "id": "KXRc6BnAc7ZA"
      },
      "id": "KXRc6BnAc7ZA"
    },
    {
      "cell_type": "code",
      "execution_count": null,
      "metadata": {
        "id": "4b51d895"
      },
      "outputs": [],
      "source": [
        "from bs4 import BeautifulSoup\n",
        "import requests\n",
        "import re"
      ],
      "id": "4b51d895"
    },
    {
      "cell_type": "code",
      "execution_count": null,
      "metadata": {
        "id": "ahWqJ2kMjznV"
      },
      "outputs": [],
      "source": [
        "def append_fun(element, list_name):\n",
        "  if element is None:\n",
        "    list_name.append('Null')\n",
        "  else :\n",
        "    list_name.append(element)"
      ],
      "id": "ahWqJ2kMjznV"
    },
    {
      "cell_type": "code",
      "execution_count": null,
      "metadata": {
        "id": "8J-b-CA_wyxq"
      },
      "outputs": [],
      "source": [
        "\n",
        "brand_names = ['ASUS', 'HP', 'Lenovo', 'Infinix', 'DELL', 'REDMI', 'acer', 'MSI', 'APPLE', 'Avita', 'realme', 'Nokia', 'SAMSUNG', 'MICROSOFT', 'ALIENWARE', 'LG', 'Mi', 'Vaio']\n",
        "\n",
        "Processor_names = ['Core i5', 'Core i3', 'Core i7', 'Ryzen 7 Quad Core', 'Ryzen 5 Quad Core', 'Core i9', 'Ryzen 5 Hexa Core', 'Ryzen 7 Octa Core','Dual Core', 'Hexa Core i5', \n",
        "                   'M1 Pro', 'Pentium Quad Core', 'Pentium Silver', 'Ryzen 3 Quad Core', 'Ryzen 5 Dual Core', \n",
        "                   'Ryzen 5 Octa Core', 'Ryzen 7 Hexa Core', 'Ryzen 9 Octa Core', 'Snapdragon 7c Gen 2']\n",
        "\n",
        "ram_type_names = ['DDR4', 'LPDDR5', 'LPDDR3', 'DDR3', 'LPDDR4', 'DDR5', 'LPDDR4X']\n",
        "\n",
        "ram_capacity_names = ['8 GB', '4 GB', '16 GB', '2 GB']\n",
        "\n",
        "OS_names = ['Windows 10', 'Mac OS', 'DOS', 'Windows 8.1', 'Linux/Ubuntu', 'Chrome', 'Windows 11']\n",
        "\n",
        "SSD_names = ['512 GB', '256 GB', '8 GB', '1 TB', '2 TB']\n"
      ],
      "id": "8J-b-CA_wyxq"
    },
    {
      "cell_type": "code",
      "execution_count": null,
      "metadata": {
        "colab": {
          "base_uri": "https://localhost:8080/"
        },
        "id": "z0tb8vzQIx0c",
        "outputId": "f9bdc8e9-c891-49ef-9739-70337a2a2c7e"
      },
      "outputs": [
        {
          "output_type": "stream",
          "name": "stdout",
          "text": [
            "18\n",
            "19\n",
            "7\n",
            "4\n",
            "7\n",
            "5\n"
          ]
        }
      ],
      "source": [
        "print(len(brand_names))\n",
        "print(len(Processor_names))\n",
        "print(len(ram_type_names))\n",
        "print(len(ram_capacity_names))\n",
        "print(len(OS_names))\n",
        "print(len(SSD_names))"
      ],
      "id": "z0tb8vzQIx0c"
    },
    {
      "cell_type": "code",
      "execution_count": null,
      "metadata": {
        "id": "EGTnhDoM5qdW"
      },
      "outputs": [],
      "source": [
        "names=[] #List to store name of the product\n",
        "processors=[]\n",
        "ram_types = []\n",
        "ram_capacitys = []\n",
        "oss = []\n",
        "ssds = []\n",
        "displays = []\n",
        "warrantys = []\n",
        "prices=[] #List to store price of the product\n",
        "ratings=[] #List to store rating of the product\n",
        "rating_values = []\n",
        "offers=[]\n",
        "\n",
        "for page in range(1,46):\n",
        "\n",
        "  url = \"https://www.flipkart.com/search?q=laptop&otracker=search&otracker1=search&marketplace=FLIPKART&as-show=on&as=off&page={}\".format(page)\n",
        "  req=requests.get(url)\n",
        "  content=req.text\n",
        "\n",
        "  soup = BeautifulSoup(content)\n",
        "\n",
        "  for a in soup.findAll('div', attrs={'class':'_3pLy-c row'}):\n",
        "\n",
        "    name_element = a.find('div', attrs={'class':'_4rR01T'})\n",
        "\n",
        "    for brand_name in brand_names:\n",
        "      if brand_name in name_element.text:\n",
        "        name = brand_name\n",
        "      elif 'lenovo' in name_element.text:\n",
        "        name = 'Lenovo'\n",
        "      elif 'RedmiBook' in name_element.text:\n",
        "        name = 'REDMI'\n",
        "\n",
        "    specification = list(a.find_all('li', attrs={'class':'rgWa7D'}))\n",
        "\n",
        "    processor = None\n",
        "    ram = None\n",
        "    os = None\n",
        "    ssd = None\n",
        "    display = None\n",
        "    warranty = None\n",
        "\n",
        "    for list_element in specification:\n",
        "\n",
        "      if 'Processor' in list_element.text:\n",
        "        for Processor_name in Processor_names:\n",
        "          if Processor_name in list_element.text:\n",
        "            processor = Processor_name\n",
        "\n",
        "      elif 'RAM' in list_element.text:\n",
        "        ram = list_element\n",
        "\n",
        "        for ram_type in ram_type_names:\n",
        "          if re.search(r'\\b' + ram_type + r'\\b', list_element.text):\n",
        "            ram_type_ = ram_type\n",
        "        \n",
        "        for ram_capacity in ram_capacity_names:\n",
        "          if ram_capacity in list_element.text:\n",
        "            ram_capacity_ = ram_capacity\n",
        "\n",
        "      elif 'Operating System' in list_element.text:\n",
        "        for OS in OS_names:\n",
        "          if OS in list_element.text:\n",
        "            OS_ = OS\n",
        "\n",
        "      elif 'SSD' in list_element.text:\n",
        "        if 'HDD' in list_element.text:\n",
        "          ssd_string = list_element.text[(list_element.text).find('HDD'):]\n",
        "        else:\n",
        "          ssd_string = list_element.text\n",
        "\n",
        "        for SSD in SSD_names:\n",
        "          if SSD in ssd_string:\n",
        "            ssd_ = SSD\n",
        "\n",
        "      elif 'Display' in list_element.text:\n",
        "        \n",
        "        display_string = ((list_element.text)[(list_element.text).find('('):]).replace(((list_element.text)[(list_element.text).find('('):])[((list_element.text)[(list_element.text).find('('):]).find(')'):], '')   \n",
        " \n",
        "        if (len(re.findall(r\"[-+]?\\d*\\.\\d+|\\d+\", display_string)) != 0):\n",
        "\n",
        "          display_float = float((re.findall(r\"[-+]?\\d*\\.\\d+|\\d+\", display_string))[0])\n",
        "          if (display_float < 12):\n",
        "            display = 'Below 12 inch'\n",
        "          elif (display_float >= 13) and (display_float < 14):\n",
        "            display = '13 inch - 14 inch'\n",
        "          elif (display_float >= 14) and (display_float < 15):\n",
        "            display = '14 inch - 15 inch'\n",
        "          elif (display_float >= 15) and (display_float < 16):\n",
        "            display = '15 inch - 16 inch'\n",
        "          elif (display_float >= 16) and (display_float <= 18):\n",
        "            display = '16 inch - 18 inch'\n",
        "\n",
        "      elif 'Warranty' in list_element.text:\n",
        "        warranty = str(list_element.text)\n",
        "\n",
        "    price_element = (a.find('div', attrs={'class':'_30jeq3 _1_WHN1'})).text\n",
        "    price_integer = int(float((price_element.replace('₹','')).replace(',','')))\n",
        "\n",
        "    price_ranges = ['Below ₹20,000', '₹20,000 to ₹45,000', '₹45,000 to ₹70,000', '₹70,000 to ₹95,000', '₹95,000 to ₹1,20,000', '₹1,20,000 to ₹1,75,000', \n",
        "                '₹1,75,000 to ₹2,00,000', '₹2,00,000 to ₹2,50,000', '₹2,50,000 to ₹3,00,000', 'Above ₹3,00,000']\n",
        "\n",
        "    if (price_integer < 35000):\n",
        "      price = 'Below ₹35,000'\n",
        "    elif (price_integer >= 35000) and (price_integer < 50000):\n",
        "      price = '₹35,000 to ₹50,000'\n",
        "    elif (price_integer >= 50000) and (price_integer < 60000):\n",
        "      price = '₹50,000 to ₹60,000'\n",
        "    elif (price_integer >= 60000) and (price_integer < 80000):\n",
        "      price = '₹60,000 to ₹80,000'\n",
        "    elif (price_integer >= 80000) and (price_integer < 95000):\n",
        "      price = '₹80,000 to ₹95,000'\n",
        "    elif (price_integer >= 95000) and (price_integer < 120000):\n",
        "      price = '₹95,000 to ₹1,20,000'\n",
        "    elif (price_integer >= 120000):\n",
        "      price = 'Above ₹1,20,000'\n",
        "\n",
        "    if a.find('div', attrs={'class':'_3LWZlK'}) != None:\n",
        "      rating_float = float((a.find('div', attrs={'class':'_3LWZlK'})).text)\n",
        "      if (rating_float >= 2) and (rating_float <= 4):\n",
        "        rating = '2 to 4'\n",
        "      elif (rating_float >= 4) and (rating_float <= 4.2):\n",
        "        rating = '4 to 4.2'\n",
        "      elif (rating_float >= 4.2) and (rating_float <= 4.3):\n",
        "        rating = '4.2 to 4.3'\n",
        "      elif (rating_float >= 4.3) and (rating_float <= 4.4):\n",
        "        rating = '4.3 to 4.4'\n",
        "      elif (rating_float >= 4.4) and (rating_float <= 4.5):\n",
        "        rating = '4.4 to 4.5'\n",
        "      elif (rating_float >= 4.5) and (rating_float <= 5):\n",
        "        rating = '4.5 to 5'\n",
        "\n",
        "    offer_element = a.find('div', attrs={'class':'_3Ay6Sb'})\n",
        "    if offer_element != None:\n",
        "      offer_string = offer_element.text\n",
        "      offer_integer = int((re.findall(r\"[-+]?\\d*\\.\\d+|\\d+\", offer_string))[0])\n",
        "      if (offer_integer <= 10):\n",
        "        offer = '10% and below'\n",
        "      elif (offer_integer > 10) and (offer_integer <= 20):\n",
        "        offer = '10% to 20%'\n",
        "      elif (offer_integer > 20) and (offer_integer <= 30):\n",
        "        offer = '20% to 30%'\n",
        "      elif (offer_integer > 30) and (offer_integer <= 40):\n",
        "        offer = '30% to 40%'\n",
        "      elif (offer_integer > 40) and (offer_integer < 50):\n",
        "        offer = '40% to 50%'\n",
        "\n",
        "    append_fun(name, names)\n",
        "    append_fun(processor, processors)\n",
        "    append_fun(ram_type_,ram_types)\n",
        "    append_fun(ram_capacity_, ram_capacitys)\n",
        "    append_fun(OS_,oss)\n",
        "    append_fun(ssd_,ssds) \n",
        "    append_fun(display, displays) \n",
        "    append_fun(warranty, warrantys)\n",
        "    append_fun(price, prices)\n",
        "    append_fun(rating, ratings)\n",
        "    append_fun(rating_float, rating_values)\n",
        "    append_fun(offer, offers)"
      ],
      "id": "EGTnhDoM5qdW"
    },
    {
      "cell_type": "code",
      "execution_count": null,
      "metadata": {
        "colab": {
          "base_uri": "https://localhost:8080/"
        },
        "id": "A9Rb9Su-4ZGm",
        "outputId": "850c9b23-b868-4ff5-8313-2d857bd4bae6"
      },
      "outputs": [
        {
          "output_type": "stream",
          "name": "stdout",
          "text": [
            "960\n",
            "960\n"
          ]
        }
      ],
      "source": [
        "print(len(ratings))\n",
        "print(len(rating_values))"
      ],
      "id": "A9Rb9Su-4ZGm"
    },
    {
      "cell_type": "markdown",
      "metadata": {
        "id": "49530d0c"
      },
      "source": [
        "## 2.2 Code for converting the above scraped data into a dataframe"
      ],
      "id": "49530d0c"
    },
    {
      "cell_type": "code",
      "execution_count": null,
      "metadata": {
        "id": "c1f4c171"
      },
      "outputs": [],
      "source": [
        "##---------Type the code below this line------------------##\n",
        "import pandas as pd\n",
        "df = pd.DataFrame(list(zip(names, processors, ram_types, ram_capacitys, oss, ssds, displays, prices, offers, ratings)), \n",
        "                  columns =['Brand', 'Processor', 'RAM_type', 'RAM_capacity', 'OS', 'SSD_capacity', 'Display', 'Price_Range', 'Discount', 'Rating'])\n",
        "df_with_rating_value = pd.DataFrame(list(zip(names, processors, ram_types, ram_capacitys, oss, ssds, displays, prices, offers, ratings, rating_values)), \n",
        "                  columns =['Brand', 'Processor', 'RAM_type', 'RAM_capacity', 'OS', 'SSD_capacity', 'Display', 'Price_Range', 'Discount', 'Rating', 'Rating_values'])\n"
      ],
      "id": "c1f4c171"
    },
    {
      "cell_type": "markdown",
      "metadata": {
        "id": "7b1fea4d"
      },
      "source": [
        "## 2.3 Confirm the data has been correctly by displaying the first 5 and last 5 records."
      ],
      "id": "7b1fea4d"
    },
    {
      "cell_type": "code",
      "execution_count": null,
      "metadata": {
        "colab": {
          "base_uri": "https://localhost:8080/",
          "height": 206
        },
        "id": "624e6c58",
        "outputId": "665eb7e9-fbb8-48dc-ef55-f350de0dd110"
      },
      "outputs": [
        {
          "output_type": "display_data",
          "data": {
            "text/plain": [
              "    Brand  Processor RAM_type RAM_capacity          OS SSD_capacity  \\\n",
              "0  Lenovo    Core i3     DDR4         8 GB  Windows 11       512 GB   \n",
              "1    DELL    Core i3     DDR4         8 GB  Windows 11       512 GB   \n",
              "2  Lenovo    Core i3     DDR4         8 GB  Windows 11       256 GB   \n",
              "3    DELL  Dual Core     DDR4         8 GB  Windows 11       256 GB   \n",
              "4    DELL    Core i3     DDR4         8 GB  Windows 11       256 GB   \n",
              "\n",
              "             Display         Price_Range    Discount      Rating  \n",
              "0  15 inch - 16 inch  ₹35,000 to ₹50,000  30% to 40%  4.2 to 4.3  \n",
              "1  15 inch - 16 inch       Below ₹35,000  30% to 40%      2 to 4  \n",
              "2  15 inch - 16 inch       Below ₹35,000  30% to 40%  4.2 to 4.3  \n",
              "3  15 inch - 16 inch       Below ₹35,000  30% to 40%    4 to 4.2  \n",
              "4  14 inch - 15 inch  ₹35,000 to ₹50,000  30% to 40%    4 to 4.2  "
            ],
            "text/html": [
              "\n",
              "  <div id=\"df-929f6e02-7014-4009-9a8f-5a6cdfbe7a2c\">\n",
              "    <div class=\"colab-df-container\">\n",
              "      <div>\n",
              "<style scoped>\n",
              "    .dataframe tbody tr th:only-of-type {\n",
              "        vertical-align: middle;\n",
              "    }\n",
              "\n",
              "    .dataframe tbody tr th {\n",
              "        vertical-align: top;\n",
              "    }\n",
              "\n",
              "    .dataframe thead th {\n",
              "        text-align: right;\n",
              "    }\n",
              "</style>\n",
              "<table border=\"1\" class=\"dataframe\">\n",
              "  <thead>\n",
              "    <tr style=\"text-align: right;\">\n",
              "      <th></th>\n",
              "      <th>Brand</th>\n",
              "      <th>Processor</th>\n",
              "      <th>RAM_type</th>\n",
              "      <th>RAM_capacity</th>\n",
              "      <th>OS</th>\n",
              "      <th>SSD_capacity</th>\n",
              "      <th>Display</th>\n",
              "      <th>Price_Range</th>\n",
              "      <th>Discount</th>\n",
              "      <th>Rating</th>\n",
              "    </tr>\n",
              "  </thead>\n",
              "  <tbody>\n",
              "    <tr>\n",
              "      <th>0</th>\n",
              "      <td>Lenovo</td>\n",
              "      <td>Core i3</td>\n",
              "      <td>DDR4</td>\n",
              "      <td>8 GB</td>\n",
              "      <td>Windows 11</td>\n",
              "      <td>512 GB</td>\n",
              "      <td>15 inch - 16 inch</td>\n",
              "      <td>₹35,000 to ₹50,000</td>\n",
              "      <td>30% to 40%</td>\n",
              "      <td>4.2 to 4.3</td>\n",
              "    </tr>\n",
              "    <tr>\n",
              "      <th>1</th>\n",
              "      <td>DELL</td>\n",
              "      <td>Core i3</td>\n",
              "      <td>DDR4</td>\n",
              "      <td>8 GB</td>\n",
              "      <td>Windows 11</td>\n",
              "      <td>512 GB</td>\n",
              "      <td>15 inch - 16 inch</td>\n",
              "      <td>Below ₹35,000</td>\n",
              "      <td>30% to 40%</td>\n",
              "      <td>2 to 4</td>\n",
              "    </tr>\n",
              "    <tr>\n",
              "      <th>2</th>\n",
              "      <td>Lenovo</td>\n",
              "      <td>Core i3</td>\n",
              "      <td>DDR4</td>\n",
              "      <td>8 GB</td>\n",
              "      <td>Windows 11</td>\n",
              "      <td>256 GB</td>\n",
              "      <td>15 inch - 16 inch</td>\n",
              "      <td>Below ₹35,000</td>\n",
              "      <td>30% to 40%</td>\n",
              "      <td>4.2 to 4.3</td>\n",
              "    </tr>\n",
              "    <tr>\n",
              "      <th>3</th>\n",
              "      <td>DELL</td>\n",
              "      <td>Dual Core</td>\n",
              "      <td>DDR4</td>\n",
              "      <td>8 GB</td>\n",
              "      <td>Windows 11</td>\n",
              "      <td>256 GB</td>\n",
              "      <td>15 inch - 16 inch</td>\n",
              "      <td>Below ₹35,000</td>\n",
              "      <td>30% to 40%</td>\n",
              "      <td>4 to 4.2</td>\n",
              "    </tr>\n",
              "    <tr>\n",
              "      <th>4</th>\n",
              "      <td>DELL</td>\n",
              "      <td>Core i3</td>\n",
              "      <td>DDR4</td>\n",
              "      <td>8 GB</td>\n",
              "      <td>Windows 11</td>\n",
              "      <td>256 GB</td>\n",
              "      <td>14 inch - 15 inch</td>\n",
              "      <td>₹35,000 to ₹50,000</td>\n",
              "      <td>30% to 40%</td>\n",
              "      <td>4 to 4.2</td>\n",
              "    </tr>\n",
              "  </tbody>\n",
              "</table>\n",
              "</div>\n",
              "      <button class=\"colab-df-convert\" onclick=\"convertToInteractive('df-929f6e02-7014-4009-9a8f-5a6cdfbe7a2c')\"\n",
              "              title=\"Convert this dataframe to an interactive table.\"\n",
              "              style=\"display:none;\">\n",
              "        \n",
              "  <svg xmlns=\"http://www.w3.org/2000/svg\" height=\"24px\"viewBox=\"0 0 24 24\"\n",
              "       width=\"24px\">\n",
              "    <path d=\"M0 0h24v24H0V0z\" fill=\"none\"/>\n",
              "    <path d=\"M18.56 5.44l.94 2.06.94-2.06 2.06-.94-2.06-.94-.94-2.06-.94 2.06-2.06.94zm-11 1L8.5 8.5l.94-2.06 2.06-.94-2.06-.94L8.5 2.5l-.94 2.06-2.06.94zm10 10l.94 2.06.94-2.06 2.06-.94-2.06-.94-.94-2.06-.94 2.06-2.06.94z\"/><path d=\"M17.41 7.96l-1.37-1.37c-.4-.4-.92-.59-1.43-.59-.52 0-1.04.2-1.43.59L10.3 9.45l-7.72 7.72c-.78.78-.78 2.05 0 2.83L4 21.41c.39.39.9.59 1.41.59.51 0 1.02-.2 1.41-.59l7.78-7.78 2.81-2.81c.8-.78.8-2.07 0-2.86zM5.41 20L4 18.59l7.72-7.72 1.47 1.35L5.41 20z\"/>\n",
              "  </svg>\n",
              "      </button>\n",
              "      \n",
              "  <style>\n",
              "    .colab-df-container {\n",
              "      display:flex;\n",
              "      flex-wrap:wrap;\n",
              "      gap: 12px;\n",
              "    }\n",
              "\n",
              "    .colab-df-convert {\n",
              "      background-color: #E8F0FE;\n",
              "      border: none;\n",
              "      border-radius: 50%;\n",
              "      cursor: pointer;\n",
              "      display: none;\n",
              "      fill: #1967D2;\n",
              "      height: 32px;\n",
              "      padding: 0 0 0 0;\n",
              "      width: 32px;\n",
              "    }\n",
              "\n",
              "    .colab-df-convert:hover {\n",
              "      background-color: #E2EBFA;\n",
              "      box-shadow: 0px 1px 2px rgba(60, 64, 67, 0.3), 0px 1px 3px 1px rgba(60, 64, 67, 0.15);\n",
              "      fill: #174EA6;\n",
              "    }\n",
              "\n",
              "    [theme=dark] .colab-df-convert {\n",
              "      background-color: #3B4455;\n",
              "      fill: #D2E3FC;\n",
              "    }\n",
              "\n",
              "    [theme=dark] .colab-df-convert:hover {\n",
              "      background-color: #434B5C;\n",
              "      box-shadow: 0px 1px 3px 1px rgba(0, 0, 0, 0.15);\n",
              "      filter: drop-shadow(0px 1px 2px rgba(0, 0, 0, 0.3));\n",
              "      fill: #FFFFFF;\n",
              "    }\n",
              "  </style>\n",
              "\n",
              "      <script>\n",
              "        const buttonEl =\n",
              "          document.querySelector('#df-929f6e02-7014-4009-9a8f-5a6cdfbe7a2c button.colab-df-convert');\n",
              "        buttonEl.style.display =\n",
              "          google.colab.kernel.accessAllowed ? 'block' : 'none';\n",
              "\n",
              "        async function convertToInteractive(key) {\n",
              "          const element = document.querySelector('#df-929f6e02-7014-4009-9a8f-5a6cdfbe7a2c');\n",
              "          const dataTable =\n",
              "            await google.colab.kernel.invokeFunction('convertToInteractive',\n",
              "                                                     [key], {});\n",
              "          if (!dataTable) return;\n",
              "\n",
              "          const docLinkHtml = 'Like what you see? Visit the ' +\n",
              "            '<a target=\"_blank\" href=https://colab.research.google.com/notebooks/data_table.ipynb>data table notebook</a>'\n",
              "            + ' to learn more about interactive tables.';\n",
              "          element.innerHTML = '';\n",
              "          dataTable['output_type'] = 'display_data';\n",
              "          await google.colab.output.renderOutput(dataTable, element);\n",
              "          const docLink = document.createElement('div');\n",
              "          docLink.innerHTML = docLinkHtml;\n",
              "          element.appendChild(docLink);\n",
              "        }\n",
              "      </script>\n",
              "    </div>\n",
              "  </div>\n",
              "  "
            ]
          },
          "metadata": {}
        }
      ],
      "source": [
        "##---------Type the code below this line------------------##\n",
        "from IPython.display import display\n",
        "display(df.head(5))"
      ],
      "id": "624e6c58"
    },
    {
      "cell_type": "code",
      "execution_count": null,
      "metadata": {
        "colab": {
          "base_uri": "https://localhost:8080/",
          "height": 206
        },
        "id": "ILNZf06aNaEz",
        "outputId": "c85ee187-0f5f-4626-bedc-f9ee83b438d1"
      },
      "outputs": [
        {
          "output_type": "display_data",
          "data": {
            "text/plain": [
              "      Brand          Processor RAM_type RAM_capacity          OS SSD_capacity  \\\n",
              "955    ASUS            Core i7     DDR4         8 GB  Windows 10       512 GB   \n",
              "956  Lenovo  Ryzen 7 Octa Core     DDR4        16 GB  Windows 10       512 GB   \n",
              "957     MSI            Core i7  LPDDR4X        16 GB  Windows 10       512 GB   \n",
              "958    ASUS            Core i7   LPDDR5        16 GB  Windows 11         1 TB   \n",
              "959  Lenovo  Ryzen 7 Octa Core     DDR4        16 GB  Windows 10       512 GB   \n",
              "\n",
              "               Display           Price_Range    Discount      Rating  \n",
              "955  14 inch - 15 inch    ₹80,000 to ₹95,000  10% to 20%  4.2 to 4.3  \n",
              "956  13 inch - 14 inch    ₹60,000 to ₹80,000  10% to 20%  4.4 to 4.5  \n",
              "957  14 inch - 15 inch    ₹60,000 to ₹80,000  20% to 30%  4.4 to 4.5  \n",
              "958  15 inch - 16 inch       Above ₹1,20,000  10% to 20%  4.4 to 4.5  \n",
              "959  14 inch - 15 inch  ₹95,000 to ₹1,20,000  20% to 30%  4.4 to 4.5  "
            ],
            "text/html": [
              "\n",
              "  <div id=\"df-d466b70a-dcf4-402e-9196-63352a9a6d8f\">\n",
              "    <div class=\"colab-df-container\">\n",
              "      <div>\n",
              "<style scoped>\n",
              "    .dataframe tbody tr th:only-of-type {\n",
              "        vertical-align: middle;\n",
              "    }\n",
              "\n",
              "    .dataframe tbody tr th {\n",
              "        vertical-align: top;\n",
              "    }\n",
              "\n",
              "    .dataframe thead th {\n",
              "        text-align: right;\n",
              "    }\n",
              "</style>\n",
              "<table border=\"1\" class=\"dataframe\">\n",
              "  <thead>\n",
              "    <tr style=\"text-align: right;\">\n",
              "      <th></th>\n",
              "      <th>Brand</th>\n",
              "      <th>Processor</th>\n",
              "      <th>RAM_type</th>\n",
              "      <th>RAM_capacity</th>\n",
              "      <th>OS</th>\n",
              "      <th>SSD_capacity</th>\n",
              "      <th>Display</th>\n",
              "      <th>Price_Range</th>\n",
              "      <th>Discount</th>\n",
              "      <th>Rating</th>\n",
              "    </tr>\n",
              "  </thead>\n",
              "  <tbody>\n",
              "    <tr>\n",
              "      <th>955</th>\n",
              "      <td>ASUS</td>\n",
              "      <td>Core i7</td>\n",
              "      <td>DDR4</td>\n",
              "      <td>8 GB</td>\n",
              "      <td>Windows 10</td>\n",
              "      <td>512 GB</td>\n",
              "      <td>14 inch - 15 inch</td>\n",
              "      <td>₹80,000 to ₹95,000</td>\n",
              "      <td>10% to 20%</td>\n",
              "      <td>4.2 to 4.3</td>\n",
              "    </tr>\n",
              "    <tr>\n",
              "      <th>956</th>\n",
              "      <td>Lenovo</td>\n",
              "      <td>Ryzen 7 Octa Core</td>\n",
              "      <td>DDR4</td>\n",
              "      <td>16 GB</td>\n",
              "      <td>Windows 10</td>\n",
              "      <td>512 GB</td>\n",
              "      <td>13 inch - 14 inch</td>\n",
              "      <td>₹60,000 to ₹80,000</td>\n",
              "      <td>10% to 20%</td>\n",
              "      <td>4.4 to 4.5</td>\n",
              "    </tr>\n",
              "    <tr>\n",
              "      <th>957</th>\n",
              "      <td>MSI</td>\n",
              "      <td>Core i7</td>\n",
              "      <td>LPDDR4X</td>\n",
              "      <td>16 GB</td>\n",
              "      <td>Windows 10</td>\n",
              "      <td>512 GB</td>\n",
              "      <td>14 inch - 15 inch</td>\n",
              "      <td>₹60,000 to ₹80,000</td>\n",
              "      <td>20% to 30%</td>\n",
              "      <td>4.4 to 4.5</td>\n",
              "    </tr>\n",
              "    <tr>\n",
              "      <th>958</th>\n",
              "      <td>ASUS</td>\n",
              "      <td>Core i7</td>\n",
              "      <td>LPDDR5</td>\n",
              "      <td>16 GB</td>\n",
              "      <td>Windows 11</td>\n",
              "      <td>1 TB</td>\n",
              "      <td>15 inch - 16 inch</td>\n",
              "      <td>Above ₹1,20,000</td>\n",
              "      <td>10% to 20%</td>\n",
              "      <td>4.4 to 4.5</td>\n",
              "    </tr>\n",
              "    <tr>\n",
              "      <th>959</th>\n",
              "      <td>Lenovo</td>\n",
              "      <td>Ryzen 7 Octa Core</td>\n",
              "      <td>DDR4</td>\n",
              "      <td>16 GB</td>\n",
              "      <td>Windows 10</td>\n",
              "      <td>512 GB</td>\n",
              "      <td>14 inch - 15 inch</td>\n",
              "      <td>₹95,000 to ₹1,20,000</td>\n",
              "      <td>20% to 30%</td>\n",
              "      <td>4.4 to 4.5</td>\n",
              "    </tr>\n",
              "  </tbody>\n",
              "</table>\n",
              "</div>\n",
              "      <button class=\"colab-df-convert\" onclick=\"convertToInteractive('df-d466b70a-dcf4-402e-9196-63352a9a6d8f')\"\n",
              "              title=\"Convert this dataframe to an interactive table.\"\n",
              "              style=\"display:none;\">\n",
              "        \n",
              "  <svg xmlns=\"http://www.w3.org/2000/svg\" height=\"24px\"viewBox=\"0 0 24 24\"\n",
              "       width=\"24px\">\n",
              "    <path d=\"M0 0h24v24H0V0z\" fill=\"none\"/>\n",
              "    <path d=\"M18.56 5.44l.94 2.06.94-2.06 2.06-.94-2.06-.94-.94-2.06-.94 2.06-2.06.94zm-11 1L8.5 8.5l.94-2.06 2.06-.94-2.06-.94L8.5 2.5l-.94 2.06-2.06.94zm10 10l.94 2.06.94-2.06 2.06-.94-2.06-.94-.94-2.06-.94 2.06-2.06.94z\"/><path d=\"M17.41 7.96l-1.37-1.37c-.4-.4-.92-.59-1.43-.59-.52 0-1.04.2-1.43.59L10.3 9.45l-7.72 7.72c-.78.78-.78 2.05 0 2.83L4 21.41c.39.39.9.59 1.41.59.51 0 1.02-.2 1.41-.59l7.78-7.78 2.81-2.81c.8-.78.8-2.07 0-2.86zM5.41 20L4 18.59l7.72-7.72 1.47 1.35L5.41 20z\"/>\n",
              "  </svg>\n",
              "      </button>\n",
              "      \n",
              "  <style>\n",
              "    .colab-df-container {\n",
              "      display:flex;\n",
              "      flex-wrap:wrap;\n",
              "      gap: 12px;\n",
              "    }\n",
              "\n",
              "    .colab-df-convert {\n",
              "      background-color: #E8F0FE;\n",
              "      border: none;\n",
              "      border-radius: 50%;\n",
              "      cursor: pointer;\n",
              "      display: none;\n",
              "      fill: #1967D2;\n",
              "      height: 32px;\n",
              "      padding: 0 0 0 0;\n",
              "      width: 32px;\n",
              "    }\n",
              "\n",
              "    .colab-df-convert:hover {\n",
              "      background-color: #E2EBFA;\n",
              "      box-shadow: 0px 1px 2px rgba(60, 64, 67, 0.3), 0px 1px 3px 1px rgba(60, 64, 67, 0.15);\n",
              "      fill: #174EA6;\n",
              "    }\n",
              "\n",
              "    [theme=dark] .colab-df-convert {\n",
              "      background-color: #3B4455;\n",
              "      fill: #D2E3FC;\n",
              "    }\n",
              "\n",
              "    [theme=dark] .colab-df-convert:hover {\n",
              "      background-color: #434B5C;\n",
              "      box-shadow: 0px 1px 3px 1px rgba(0, 0, 0, 0.15);\n",
              "      filter: drop-shadow(0px 1px 2px rgba(0, 0, 0, 0.3));\n",
              "      fill: #FFFFFF;\n",
              "    }\n",
              "  </style>\n",
              "\n",
              "      <script>\n",
              "        const buttonEl =\n",
              "          document.querySelector('#df-d466b70a-dcf4-402e-9196-63352a9a6d8f button.colab-df-convert');\n",
              "        buttonEl.style.display =\n",
              "          google.colab.kernel.accessAllowed ? 'block' : 'none';\n",
              "\n",
              "        async function convertToInteractive(key) {\n",
              "          const element = document.querySelector('#df-d466b70a-dcf4-402e-9196-63352a9a6d8f');\n",
              "          const dataTable =\n",
              "            await google.colab.kernel.invokeFunction('convertToInteractive',\n",
              "                                                     [key], {});\n",
              "          if (!dataTable) return;\n",
              "\n",
              "          const docLinkHtml = 'Like what you see? Visit the ' +\n",
              "            '<a target=\"_blank\" href=https://colab.research.google.com/notebooks/data_table.ipynb>data table notebook</a>'\n",
              "            + ' to learn more about interactive tables.';\n",
              "          element.innerHTML = '';\n",
              "          dataTable['output_type'] = 'display_data';\n",
              "          await google.colab.output.renderOutput(dataTable, element);\n",
              "          const docLink = document.createElement('div');\n",
              "          docLink.innerHTML = docLinkHtml;\n",
              "          element.appendChild(docLink);\n",
              "        }\n",
              "      </script>\n",
              "    </div>\n",
              "  </div>\n",
              "  "
            ]
          },
          "metadata": {}
        }
      ],
      "source": [
        "display(df.tail(5))"
      ],
      "id": "ILNZf06aNaEz"
    },
    {
      "cell_type": "markdown",
      "metadata": {
        "id": "bb84fc56"
      },
      "source": [
        "## 2.4 Display the column headings, statistical information, description and statistical summary of the data."
      ],
      "id": "bb84fc56"
    },
    {
      "cell_type": "code",
      "execution_count": null,
      "metadata": {
        "colab": {
          "base_uri": "https://localhost:8080/",
          "height": 400
        },
        "id": "086ad28e",
        "outputId": "faf978fb-445e-439a-c9ec-4679ae5fc8e4"
      },
      "outputs": [
        {
          "output_type": "stream",
          "name": "stdout",
          "text": [
            "['Brand', 'Processor', 'RAM_type', 'RAM_capacity', 'OS', 'SSD_capacity', 'Display', 'Price_Range', 'Discount', 'Rating']\n",
            "(960, 10)\n",
            "Brand           object\n",
            "Processor       object\n",
            "RAM_type        object\n",
            "RAM_capacity    object\n",
            "OS              object\n",
            "SSD_capacity    object\n",
            "Display         object\n",
            "Price_Range     object\n",
            "Discount        object\n",
            "Rating          object\n",
            "dtype: object\n"
          ]
        },
        {
          "output_type": "display_data",
          "data": {
            "text/plain": [
              "       Brand Processor RAM_type RAM_capacity          OS SSD_capacity  \\\n",
              "count    960       960      960          960         960          960   \n",
              "unique    17        20        7            4           6            5   \n",
              "top     ASUS   Core i5     DDR4         8 GB  Windows 10       512 GB   \n",
              "freq     278       325      825          545         526          574   \n",
              "\n",
              "                  Display         Price_Range    Discount  Rating  \n",
              "count                 960                 960         960     960  \n",
              "unique                  5                   7           5       6  \n",
              "top     15 inch - 16 inch  ₹35,000 to ₹50,000  20% to 30%  2 to 4  \n",
              "freq                  512                 237         352     200  "
            ],
            "text/html": [
              "\n",
              "  <div id=\"df-dddfa142-c9bc-45c0-ac5e-f469469dfcbd\">\n",
              "    <div class=\"colab-df-container\">\n",
              "      <div>\n",
              "<style scoped>\n",
              "    .dataframe tbody tr th:only-of-type {\n",
              "        vertical-align: middle;\n",
              "    }\n",
              "\n",
              "    .dataframe tbody tr th {\n",
              "        vertical-align: top;\n",
              "    }\n",
              "\n",
              "    .dataframe thead th {\n",
              "        text-align: right;\n",
              "    }\n",
              "</style>\n",
              "<table border=\"1\" class=\"dataframe\">\n",
              "  <thead>\n",
              "    <tr style=\"text-align: right;\">\n",
              "      <th></th>\n",
              "      <th>Brand</th>\n",
              "      <th>Processor</th>\n",
              "      <th>RAM_type</th>\n",
              "      <th>RAM_capacity</th>\n",
              "      <th>OS</th>\n",
              "      <th>SSD_capacity</th>\n",
              "      <th>Display</th>\n",
              "      <th>Price_Range</th>\n",
              "      <th>Discount</th>\n",
              "      <th>Rating</th>\n",
              "    </tr>\n",
              "  </thead>\n",
              "  <tbody>\n",
              "    <tr>\n",
              "      <th>count</th>\n",
              "      <td>960</td>\n",
              "      <td>960</td>\n",
              "      <td>960</td>\n",
              "      <td>960</td>\n",
              "      <td>960</td>\n",
              "      <td>960</td>\n",
              "      <td>960</td>\n",
              "      <td>960</td>\n",
              "      <td>960</td>\n",
              "      <td>960</td>\n",
              "    </tr>\n",
              "    <tr>\n",
              "      <th>unique</th>\n",
              "      <td>17</td>\n",
              "      <td>20</td>\n",
              "      <td>7</td>\n",
              "      <td>4</td>\n",
              "      <td>6</td>\n",
              "      <td>5</td>\n",
              "      <td>5</td>\n",
              "      <td>7</td>\n",
              "      <td>5</td>\n",
              "      <td>6</td>\n",
              "    </tr>\n",
              "    <tr>\n",
              "      <th>top</th>\n",
              "      <td>ASUS</td>\n",
              "      <td>Core i5</td>\n",
              "      <td>DDR4</td>\n",
              "      <td>8 GB</td>\n",
              "      <td>Windows 10</td>\n",
              "      <td>512 GB</td>\n",
              "      <td>15 inch - 16 inch</td>\n",
              "      <td>₹35,000 to ₹50,000</td>\n",
              "      <td>20% to 30%</td>\n",
              "      <td>2 to 4</td>\n",
              "    </tr>\n",
              "    <tr>\n",
              "      <th>freq</th>\n",
              "      <td>278</td>\n",
              "      <td>325</td>\n",
              "      <td>825</td>\n",
              "      <td>545</td>\n",
              "      <td>526</td>\n",
              "      <td>574</td>\n",
              "      <td>512</td>\n",
              "      <td>237</td>\n",
              "      <td>352</td>\n",
              "      <td>200</td>\n",
              "    </tr>\n",
              "  </tbody>\n",
              "</table>\n",
              "</div>\n",
              "      <button class=\"colab-df-convert\" onclick=\"convertToInteractive('df-dddfa142-c9bc-45c0-ac5e-f469469dfcbd')\"\n",
              "              title=\"Convert this dataframe to an interactive table.\"\n",
              "              style=\"display:none;\">\n",
              "        \n",
              "  <svg xmlns=\"http://www.w3.org/2000/svg\" height=\"24px\"viewBox=\"0 0 24 24\"\n",
              "       width=\"24px\">\n",
              "    <path d=\"M0 0h24v24H0V0z\" fill=\"none\"/>\n",
              "    <path d=\"M18.56 5.44l.94 2.06.94-2.06 2.06-.94-2.06-.94-.94-2.06-.94 2.06-2.06.94zm-11 1L8.5 8.5l.94-2.06 2.06-.94-2.06-.94L8.5 2.5l-.94 2.06-2.06.94zm10 10l.94 2.06.94-2.06 2.06-.94-2.06-.94-.94-2.06-.94 2.06-2.06.94z\"/><path d=\"M17.41 7.96l-1.37-1.37c-.4-.4-.92-.59-1.43-.59-.52 0-1.04.2-1.43.59L10.3 9.45l-7.72 7.72c-.78.78-.78 2.05 0 2.83L4 21.41c.39.39.9.59 1.41.59.51 0 1.02-.2 1.41-.59l7.78-7.78 2.81-2.81c.8-.78.8-2.07 0-2.86zM5.41 20L4 18.59l7.72-7.72 1.47 1.35L5.41 20z\"/>\n",
              "  </svg>\n",
              "      </button>\n",
              "      \n",
              "  <style>\n",
              "    .colab-df-container {\n",
              "      display:flex;\n",
              "      flex-wrap:wrap;\n",
              "      gap: 12px;\n",
              "    }\n",
              "\n",
              "    .colab-df-convert {\n",
              "      background-color: #E8F0FE;\n",
              "      border: none;\n",
              "      border-radius: 50%;\n",
              "      cursor: pointer;\n",
              "      display: none;\n",
              "      fill: #1967D2;\n",
              "      height: 32px;\n",
              "      padding: 0 0 0 0;\n",
              "      width: 32px;\n",
              "    }\n",
              "\n",
              "    .colab-df-convert:hover {\n",
              "      background-color: #E2EBFA;\n",
              "      box-shadow: 0px 1px 2px rgba(60, 64, 67, 0.3), 0px 1px 3px 1px rgba(60, 64, 67, 0.15);\n",
              "      fill: #174EA6;\n",
              "    }\n",
              "\n",
              "    [theme=dark] .colab-df-convert {\n",
              "      background-color: #3B4455;\n",
              "      fill: #D2E3FC;\n",
              "    }\n",
              "\n",
              "    [theme=dark] .colab-df-convert:hover {\n",
              "      background-color: #434B5C;\n",
              "      box-shadow: 0px 1px 3px 1px rgba(0, 0, 0, 0.15);\n",
              "      filter: drop-shadow(0px 1px 2px rgba(0, 0, 0, 0.3));\n",
              "      fill: #FFFFFF;\n",
              "    }\n",
              "  </style>\n",
              "\n",
              "      <script>\n",
              "        const buttonEl =\n",
              "          document.querySelector('#df-dddfa142-c9bc-45c0-ac5e-f469469dfcbd button.colab-df-convert');\n",
              "        buttonEl.style.display =\n",
              "          google.colab.kernel.accessAllowed ? 'block' : 'none';\n",
              "\n",
              "        async function convertToInteractive(key) {\n",
              "          const element = document.querySelector('#df-dddfa142-c9bc-45c0-ac5e-f469469dfcbd');\n",
              "          const dataTable =\n",
              "            await google.colab.kernel.invokeFunction('convertToInteractive',\n",
              "                                                     [key], {});\n",
              "          if (!dataTable) return;\n",
              "\n",
              "          const docLinkHtml = 'Like what you see? Visit the ' +\n",
              "            '<a target=\"_blank\" href=https://colab.research.google.com/notebooks/data_table.ipynb>data table notebook</a>'\n",
              "            + ' to learn more about interactive tables.';\n",
              "          element.innerHTML = '';\n",
              "          dataTable['output_type'] = 'display_data';\n",
              "          await google.colab.output.renderOutput(dataTable, element);\n",
              "          const docLink = document.createElement('div');\n",
              "          docLink.innerHTML = docLinkHtml;\n",
              "          element.appendChild(docLink);\n",
              "        }\n",
              "      </script>\n",
              "    </div>\n",
              "  </div>\n",
              "  "
            ]
          },
          "metadata": {}
        }
      ],
      "source": [
        "##---------Type the code below this line------------------##\n",
        "print(df.columns.values.tolist())\n",
        "print(df.shape)\n",
        "print(df.dtypes)\n",
        "display(df.describe())"
      ],
      "id": "086ad28e"
    },
    {
      "cell_type": "code",
      "execution_count": null,
      "metadata": {
        "colab": {
          "base_uri": "https://localhost:8080/"
        },
        "id": "OVsZDfwvQreH",
        "outputId": "08c9a476-ab4f-4bb5-81f2-e57ba988b529"
      },
      "outputs": [
        {
          "output_type": "stream",
          "name": "stdout",
          "text": [
            "9\n"
          ]
        }
      ],
      "source": [
        "num_nulls= 0\n",
        "\n",
        "for row_num in range(0, df.shape[0]):\n",
        "  for column_num in range(0, df.shape[1]):\n",
        "    if (df.iloc[row_num, column_num] == 'Null'):\n",
        "        num_nulls += 1\n",
        "\n",
        "print(num_nulls)"
      ],
      "id": "OVsZDfwvQreH"
    },
    {
      "cell_type": "markdown",
      "metadata": {
        "id": "812edb18"
      },
      "source": [
        "## 2.5 Preliminary Observations\n"
      ],
      "id": "812edb18"
    },
    {
      "cell_type": "raw",
      "metadata": {
        "id": "60d80d2f"
      },
      "source": [
        "--------------Type the answers below this line--------------\n",
        "\n",
        "Ans 1: The dataset has 984 entries (or rows) and 10 columns (labels)\n",
        "\n",
        "Ans 2: Data types of all entries in the datframe is pandas object\n",
        "\n",
        "Ans 3: Yes\n",
        "\n"
      ],
      "id": "60d80d2f"
    },
    {
      "cell_type": "markdown",
      "metadata": {
        "id": "102e0e36"
      },
      "source": [
        "# 3. Data Preparation"
      ],
      "id": "102e0e36"
    },
    {
      "cell_type": "markdown",
      "metadata": {
        "id": "2bcb953b"
      },
      "source": [
        "## 3.1 Display how many unique values are present in each attribute\n"
      ],
      "id": "2bcb953b"
    },
    {
      "cell_type": "code",
      "execution_count": null,
      "metadata": {
        "colab": {
          "base_uri": "https://localhost:8080/"
        },
        "id": "5a5b960e",
        "outputId": "4d32555b-1a35-4bf5-994f-154b6cb93fee"
      },
      "outputs": [
        {
          "output_type": "stream",
          "name": "stdout",
          "text": [
            "Brand           17\n",
            "Processor       20\n",
            "RAM_type         7\n",
            "RAM_capacity     4\n",
            "OS               6\n",
            "SSD_capacity     5\n",
            "Display          5\n",
            "Price_Range      7\n",
            "Discount         5\n",
            "Rating           6\n",
            "dtype: int64\n"
          ]
        }
      ],
      "source": [
        "##---------Type the code below this line------------------##\n",
        "print(df.nunique())"
      ],
      "id": "5a5b960e"
    },
    {
      "cell_type": "markdown",
      "metadata": {
        "id": "06fdebf8"
      },
      "source": [
        "## 3.2 Check for the presence of duplicate data, identify the attributes with duplicate data, report the attributes."
      ],
      "id": "06fdebf8"
    },
    {
      "cell_type": "code",
      "execution_count": null,
      "metadata": {
        "colab": {
          "base_uri": "https://localhost:8080/"
        },
        "id": "c86d5b0b",
        "outputId": "64f5eed7-4476-43de-c10d-734f484b251b"
      },
      "outputs": [
        {
          "output_type": "stream",
          "name": "stdout",
          "text": [
            "True\n",
            "There are 321 duplicate entries in the dataset\n"
          ]
        }
      ],
      "source": [
        "##---------Type the code below this line------------------##\n",
        "num_dupli = df[df.duplicated(keep=False)].shape[0]\n",
        "print(df.duplicated().any())\n",
        "print('There are', num_dupli, 'duplicate entries in the dataset')"
      ],
      "id": "c86d5b0b"
    },
    {
      "cell_type": "markdown",
      "metadata": {
        "id": "mmWzFnVZqza1"
      },
      "source": [
        "Since every row of this dataset is a unique combination of non-related attributes, we will drop the entire duplicate rows using 'drop_duplicates' function"
      ],
      "id": "mmWzFnVZqza1"
    },
    {
      "cell_type": "code",
      "execution_count": null,
      "metadata": {
        "id": "GL84fb43E2C7"
      },
      "outputs": [],
      "source": [
        "df_with_rating_value.drop_duplicates(subset=['Brand', 'Processor', 'RAM_type', 'RAM_capacity', 'OS', 'SSD_capacity',\t'Display',\t'Price_Range',\t'Discount',\t'Rating'], inplace=True)\n",
        "rating_values_list = df_with_rating_value['Rating_values'].tolist()\n",
        "df_with_rating_value.drop(\"Rating_values\", axis=1, inplace=True)"
      ],
      "id": "GL84fb43E2C7"
    },
    {
      "cell_type": "code",
      "execution_count": null,
      "metadata": {
        "colab": {
          "base_uri": "https://localhost:8080/",
          "height": 424
        },
        "id": "tfgKWMZKHx3V",
        "outputId": "dafc588c-b9d0-4ca7-d517-0e610b40c58b"
      },
      "outputs": [
        {
          "output_type": "display_data",
          "data": {
            "text/plain": [
              "      Brand          Processor RAM_type RAM_capacity          OS SSD_capacity  \\\n",
              "0    Lenovo            Core i3     DDR4         8 GB  Windows 11       512 GB   \n",
              "1      DELL            Core i3     DDR4         8 GB  Windows 11       512 GB   \n",
              "2    Lenovo            Core i3     DDR4         8 GB  Windows 11       256 GB   \n",
              "3      DELL          Dual Core     DDR4         8 GB  Windows 11       256 GB   \n",
              "4      DELL            Core i3     DDR4         8 GB  Windows 11       256 GB   \n",
              "..      ...                ...      ...          ...         ...          ...   \n",
              "766    ASUS            Core i7     DDR4         8 GB  Windows 10       512 GB   \n",
              "767  Lenovo  Ryzen 7 Octa Core     DDR4        16 GB  Windows 10       512 GB   \n",
              "768     MSI            Core i7  LPDDR4X        16 GB  Windows 10       512 GB   \n",
              "769    ASUS            Core i7   LPDDR5        16 GB  Windows 11         1 TB   \n",
              "770  Lenovo  Ryzen 7 Octa Core     DDR4        16 GB  Windows 10       512 GB   \n",
              "\n",
              "               Display           Price_Range    Discount      Rating  \n",
              "0    15 inch - 16 inch    ₹35,000 to ₹50,000  30% to 40%  4.2 to 4.3  \n",
              "1    15 inch - 16 inch         Below ₹35,000  30% to 40%      2 to 4  \n",
              "2    15 inch - 16 inch         Below ₹35,000  30% to 40%  4.2 to 4.3  \n",
              "3    15 inch - 16 inch         Below ₹35,000  30% to 40%    4 to 4.2  \n",
              "4    14 inch - 15 inch    ₹35,000 to ₹50,000  30% to 40%    4 to 4.2  \n",
              "..                 ...                   ...         ...         ...  \n",
              "766  14 inch - 15 inch    ₹80,000 to ₹95,000  10% to 20%  4.2 to 4.3  \n",
              "767  13 inch - 14 inch    ₹60,000 to ₹80,000  10% to 20%  4.4 to 4.5  \n",
              "768  14 inch - 15 inch    ₹60,000 to ₹80,000  20% to 30%  4.4 to 4.5  \n",
              "769  15 inch - 16 inch       Above ₹1,20,000  10% to 20%  4.4 to 4.5  \n",
              "770  14 inch - 15 inch  ₹95,000 to ₹1,20,000  20% to 30%  4.4 to 4.5  \n",
              "\n",
              "[771 rows x 10 columns]"
            ],
            "text/html": [
              "\n",
              "  <div id=\"df-193038a5-65cd-4108-89e4-609ea0225fa3\">\n",
              "    <div class=\"colab-df-container\">\n",
              "      <div>\n",
              "<style scoped>\n",
              "    .dataframe tbody tr th:only-of-type {\n",
              "        vertical-align: middle;\n",
              "    }\n",
              "\n",
              "    .dataframe tbody tr th {\n",
              "        vertical-align: top;\n",
              "    }\n",
              "\n",
              "    .dataframe thead th {\n",
              "        text-align: right;\n",
              "    }\n",
              "</style>\n",
              "<table border=\"1\" class=\"dataframe\">\n",
              "  <thead>\n",
              "    <tr style=\"text-align: right;\">\n",
              "      <th></th>\n",
              "      <th>Brand</th>\n",
              "      <th>Processor</th>\n",
              "      <th>RAM_type</th>\n",
              "      <th>RAM_capacity</th>\n",
              "      <th>OS</th>\n",
              "      <th>SSD_capacity</th>\n",
              "      <th>Display</th>\n",
              "      <th>Price_Range</th>\n",
              "      <th>Discount</th>\n",
              "      <th>Rating</th>\n",
              "    </tr>\n",
              "  </thead>\n",
              "  <tbody>\n",
              "    <tr>\n",
              "      <th>0</th>\n",
              "      <td>Lenovo</td>\n",
              "      <td>Core i3</td>\n",
              "      <td>DDR4</td>\n",
              "      <td>8 GB</td>\n",
              "      <td>Windows 11</td>\n",
              "      <td>512 GB</td>\n",
              "      <td>15 inch - 16 inch</td>\n",
              "      <td>₹35,000 to ₹50,000</td>\n",
              "      <td>30% to 40%</td>\n",
              "      <td>4.2 to 4.3</td>\n",
              "    </tr>\n",
              "    <tr>\n",
              "      <th>1</th>\n",
              "      <td>DELL</td>\n",
              "      <td>Core i3</td>\n",
              "      <td>DDR4</td>\n",
              "      <td>8 GB</td>\n",
              "      <td>Windows 11</td>\n",
              "      <td>512 GB</td>\n",
              "      <td>15 inch - 16 inch</td>\n",
              "      <td>Below ₹35,000</td>\n",
              "      <td>30% to 40%</td>\n",
              "      <td>2 to 4</td>\n",
              "    </tr>\n",
              "    <tr>\n",
              "      <th>2</th>\n",
              "      <td>Lenovo</td>\n",
              "      <td>Core i3</td>\n",
              "      <td>DDR4</td>\n",
              "      <td>8 GB</td>\n",
              "      <td>Windows 11</td>\n",
              "      <td>256 GB</td>\n",
              "      <td>15 inch - 16 inch</td>\n",
              "      <td>Below ₹35,000</td>\n",
              "      <td>30% to 40%</td>\n",
              "      <td>4.2 to 4.3</td>\n",
              "    </tr>\n",
              "    <tr>\n",
              "      <th>3</th>\n",
              "      <td>DELL</td>\n",
              "      <td>Dual Core</td>\n",
              "      <td>DDR4</td>\n",
              "      <td>8 GB</td>\n",
              "      <td>Windows 11</td>\n",
              "      <td>256 GB</td>\n",
              "      <td>15 inch - 16 inch</td>\n",
              "      <td>Below ₹35,000</td>\n",
              "      <td>30% to 40%</td>\n",
              "      <td>4 to 4.2</td>\n",
              "    </tr>\n",
              "    <tr>\n",
              "      <th>4</th>\n",
              "      <td>DELL</td>\n",
              "      <td>Core i3</td>\n",
              "      <td>DDR4</td>\n",
              "      <td>8 GB</td>\n",
              "      <td>Windows 11</td>\n",
              "      <td>256 GB</td>\n",
              "      <td>14 inch - 15 inch</td>\n",
              "      <td>₹35,000 to ₹50,000</td>\n",
              "      <td>30% to 40%</td>\n",
              "      <td>4 to 4.2</td>\n",
              "    </tr>\n",
              "    <tr>\n",
              "      <th>...</th>\n",
              "      <td>...</td>\n",
              "      <td>...</td>\n",
              "      <td>...</td>\n",
              "      <td>...</td>\n",
              "      <td>...</td>\n",
              "      <td>...</td>\n",
              "      <td>...</td>\n",
              "      <td>...</td>\n",
              "      <td>...</td>\n",
              "      <td>...</td>\n",
              "    </tr>\n",
              "    <tr>\n",
              "      <th>766</th>\n",
              "      <td>ASUS</td>\n",
              "      <td>Core i7</td>\n",
              "      <td>DDR4</td>\n",
              "      <td>8 GB</td>\n",
              "      <td>Windows 10</td>\n",
              "      <td>512 GB</td>\n",
              "      <td>14 inch - 15 inch</td>\n",
              "      <td>₹80,000 to ₹95,000</td>\n",
              "      <td>10% to 20%</td>\n",
              "      <td>4.2 to 4.3</td>\n",
              "    </tr>\n",
              "    <tr>\n",
              "      <th>767</th>\n",
              "      <td>Lenovo</td>\n",
              "      <td>Ryzen 7 Octa Core</td>\n",
              "      <td>DDR4</td>\n",
              "      <td>16 GB</td>\n",
              "      <td>Windows 10</td>\n",
              "      <td>512 GB</td>\n",
              "      <td>13 inch - 14 inch</td>\n",
              "      <td>₹60,000 to ₹80,000</td>\n",
              "      <td>10% to 20%</td>\n",
              "      <td>4.4 to 4.5</td>\n",
              "    </tr>\n",
              "    <tr>\n",
              "      <th>768</th>\n",
              "      <td>MSI</td>\n",
              "      <td>Core i7</td>\n",
              "      <td>LPDDR4X</td>\n",
              "      <td>16 GB</td>\n",
              "      <td>Windows 10</td>\n",
              "      <td>512 GB</td>\n",
              "      <td>14 inch - 15 inch</td>\n",
              "      <td>₹60,000 to ₹80,000</td>\n",
              "      <td>20% to 30%</td>\n",
              "      <td>4.4 to 4.5</td>\n",
              "    </tr>\n",
              "    <tr>\n",
              "      <th>769</th>\n",
              "      <td>ASUS</td>\n",
              "      <td>Core i7</td>\n",
              "      <td>LPDDR5</td>\n",
              "      <td>16 GB</td>\n",
              "      <td>Windows 11</td>\n",
              "      <td>1 TB</td>\n",
              "      <td>15 inch - 16 inch</td>\n",
              "      <td>Above ₹1,20,000</td>\n",
              "      <td>10% to 20%</td>\n",
              "      <td>4.4 to 4.5</td>\n",
              "    </tr>\n",
              "    <tr>\n",
              "      <th>770</th>\n",
              "      <td>Lenovo</td>\n",
              "      <td>Ryzen 7 Octa Core</td>\n",
              "      <td>DDR4</td>\n",
              "      <td>16 GB</td>\n",
              "      <td>Windows 10</td>\n",
              "      <td>512 GB</td>\n",
              "      <td>14 inch - 15 inch</td>\n",
              "      <td>₹95,000 to ₹1,20,000</td>\n",
              "      <td>20% to 30%</td>\n",
              "      <td>4.4 to 4.5</td>\n",
              "    </tr>\n",
              "  </tbody>\n",
              "</table>\n",
              "<p>771 rows × 10 columns</p>\n",
              "</div>\n",
              "      <button class=\"colab-df-convert\" onclick=\"convertToInteractive('df-193038a5-65cd-4108-89e4-609ea0225fa3')\"\n",
              "              title=\"Convert this dataframe to an interactive table.\"\n",
              "              style=\"display:none;\">\n",
              "        \n",
              "  <svg xmlns=\"http://www.w3.org/2000/svg\" height=\"24px\"viewBox=\"0 0 24 24\"\n",
              "       width=\"24px\">\n",
              "    <path d=\"M0 0h24v24H0V0z\" fill=\"none\"/>\n",
              "    <path d=\"M18.56 5.44l.94 2.06.94-2.06 2.06-.94-2.06-.94-.94-2.06-.94 2.06-2.06.94zm-11 1L8.5 8.5l.94-2.06 2.06-.94-2.06-.94L8.5 2.5l-.94 2.06-2.06.94zm10 10l.94 2.06.94-2.06 2.06-.94-2.06-.94-.94-2.06-.94 2.06-2.06.94z\"/><path d=\"M17.41 7.96l-1.37-1.37c-.4-.4-.92-.59-1.43-.59-.52 0-1.04.2-1.43.59L10.3 9.45l-7.72 7.72c-.78.78-.78 2.05 0 2.83L4 21.41c.39.39.9.59 1.41.59.51 0 1.02-.2 1.41-.59l7.78-7.78 2.81-2.81c.8-.78.8-2.07 0-2.86zM5.41 20L4 18.59l7.72-7.72 1.47 1.35L5.41 20z\"/>\n",
              "  </svg>\n",
              "      </button>\n",
              "      \n",
              "  <style>\n",
              "    .colab-df-container {\n",
              "      display:flex;\n",
              "      flex-wrap:wrap;\n",
              "      gap: 12px;\n",
              "    }\n",
              "\n",
              "    .colab-df-convert {\n",
              "      background-color: #E8F0FE;\n",
              "      border: none;\n",
              "      border-radius: 50%;\n",
              "      cursor: pointer;\n",
              "      display: none;\n",
              "      fill: #1967D2;\n",
              "      height: 32px;\n",
              "      padding: 0 0 0 0;\n",
              "      width: 32px;\n",
              "    }\n",
              "\n",
              "    .colab-df-convert:hover {\n",
              "      background-color: #E2EBFA;\n",
              "      box-shadow: 0px 1px 2px rgba(60, 64, 67, 0.3), 0px 1px 3px 1px rgba(60, 64, 67, 0.15);\n",
              "      fill: #174EA6;\n",
              "    }\n",
              "\n",
              "    [theme=dark] .colab-df-convert {\n",
              "      background-color: #3B4455;\n",
              "      fill: #D2E3FC;\n",
              "    }\n",
              "\n",
              "    [theme=dark] .colab-df-convert:hover {\n",
              "      background-color: #434B5C;\n",
              "      box-shadow: 0px 1px 3px 1px rgba(0, 0, 0, 0.15);\n",
              "      filter: drop-shadow(0px 1px 2px rgba(0, 0, 0, 0.3));\n",
              "      fill: #FFFFFF;\n",
              "    }\n",
              "  </style>\n",
              "\n",
              "      <script>\n",
              "        const buttonEl =\n",
              "          document.querySelector('#df-193038a5-65cd-4108-89e4-609ea0225fa3 button.colab-df-convert');\n",
              "        buttonEl.style.display =\n",
              "          google.colab.kernel.accessAllowed ? 'block' : 'none';\n",
              "\n",
              "        async function convertToInteractive(key) {\n",
              "          const element = document.querySelector('#df-193038a5-65cd-4108-89e4-609ea0225fa3');\n",
              "          const dataTable =\n",
              "            await google.colab.kernel.invokeFunction('convertToInteractive',\n",
              "                                                     [key], {});\n",
              "          if (!dataTable) return;\n",
              "\n",
              "          const docLinkHtml = 'Like what you see? Visit the ' +\n",
              "            '<a target=\"_blank\" href=https://colab.research.google.com/notebooks/data_table.ipynb>data table notebook</a>'\n",
              "            + ' to learn more about interactive tables.';\n",
              "          element.innerHTML = '';\n",
              "          dataTable['output_type'] = 'display_data';\n",
              "          await google.colab.output.renderOutput(dataTable, element);\n",
              "          const docLink = document.createElement('div');\n",
              "          docLink.innerHTML = docLinkHtml;\n",
              "          element.appendChild(docLink);\n",
              "        }\n",
              "      </script>\n",
              "    </div>\n",
              "  </div>\n",
              "  "
            ]
          },
          "metadata": {}
        }
      ],
      "source": [
        "df = df_with_rating_value.reset_index(drop=True)\n",
        "display(df)"
      ],
      "id": "tfgKWMZKHx3V"
    },
    {
      "cell_type": "markdown",
      "metadata": {
        "id": "e3cec4fc"
      },
      "source": [
        "## 3.3 Check for any missing values in each attribute. \n"
      ],
      "id": "e3cec4fc"
    },
    {
      "cell_type": "markdown",
      "metadata": {
        "id": "UilIF0VGsFIi"
      },
      "source": [
        "Missing values are replaced by the string 'Null' as placeholder"
      ],
      "id": "UilIF0VGsFIi"
    },
    {
      "cell_type": "code",
      "execution_count": null,
      "metadata": {
        "colab": {
          "base_uri": "https://localhost:8080/",
          "height": 1000
        },
        "id": "747250db",
        "outputId": "49a84da1-52e8-43aa-a4c9-6e27ccfd0cc3"
      },
      "outputs": [
        {
          "output_type": "display_data",
          "data": {
            "text/plain": [
              "Brand                       APPLE\n",
              "Processor                    Null\n",
              "RAM_type                     DDR4\n",
              "RAM_capacity                 8 GB\n",
              "OS                         Mac OS\n",
              "SSD_capacity               512 GB\n",
              "Display         13 inch - 14 inch\n",
              "Price_Range       Above ₹1,20,000\n",
              "Discount               30% to 40%\n",
              "Rating                 4.2 to 4.3\n",
              "Name: 188, dtype: object"
            ]
          },
          "metadata": {}
        },
        {
          "output_type": "stream",
          "name": "stdout",
          "text": [
            "----------------------------------\n"
          ]
        },
        {
          "output_type": "display_data",
          "data": {
            "text/plain": [
              "Brand                       APPLE\n",
              "Processor                    Null\n",
              "RAM_type                     DDR4\n",
              "RAM_capacity                 8 GB\n",
              "OS                         Mac OS\n",
              "SSD_capacity               256 GB\n",
              "Display         13 inch - 14 inch\n",
              "Price_Range       Above ₹1,20,000\n",
              "Discount               30% to 40%\n",
              "Rating                 4.4 to 4.5\n",
              "Name: 189, dtype: object"
            ]
          },
          "metadata": {}
        },
        {
          "output_type": "stream",
          "name": "stdout",
          "text": [
            "----------------------------------\n"
          ]
        },
        {
          "output_type": "display_data",
          "data": {
            "text/plain": [
              "Brand                           HP\n",
              "Processor                     Null\n",
              "RAM_type                      DDR4\n",
              "RAM_capacity                  8 GB\n",
              "OS                      Windows 10\n",
              "SSD_capacity                512 GB\n",
              "Display          15 inch - 16 inch\n",
              "Price_Range     ₹60,000 to ₹80,000\n",
              "Discount                10% to 20%\n",
              "Rating                  4.2 to 4.3\n",
              "Name: 194, dtype: object"
            ]
          },
          "metadata": {}
        },
        {
          "output_type": "stream",
          "name": "stdout",
          "text": [
            "----------------------------------\n"
          ]
        },
        {
          "output_type": "display_data",
          "data": {
            "text/plain": [
              "Brand                       APPLE\n",
              "Processor                    Null\n",
              "RAM_type                     DDR4\n",
              "RAM_capacity                 8 GB\n",
              "OS                         Mac OS\n",
              "SSD_capacity               512 GB\n",
              "Display         13 inch - 14 inch\n",
              "Price_Range       Above ₹1,20,000\n",
              "Discount               20% to 30%\n",
              "Rating                 4.3 to 4.4\n",
              "Name: 211, dtype: object"
            ]
          },
          "metadata": {}
        },
        {
          "output_type": "stream",
          "name": "stdout",
          "text": [
            "----------------------------------\n"
          ]
        },
        {
          "output_type": "display_data",
          "data": {
            "text/plain": [
              "Brand                       APPLE\n",
              "Processor                    Null\n",
              "RAM_type                     DDR4\n",
              "RAM_capacity                 8 GB\n",
              "OS                         Mac OS\n",
              "SSD_capacity               512 GB\n",
              "Display         13 inch - 14 inch\n",
              "Price_Range       Above ₹1,20,000\n",
              "Discount               40% to 50%\n",
              "Rating                 4.3 to 4.4\n",
              "Name: 223, dtype: object"
            ]
          },
          "metadata": {}
        },
        {
          "output_type": "stream",
          "name": "stdout",
          "text": [
            "----------------------------------\n"
          ]
        },
        {
          "output_type": "display_data",
          "data": {
            "text/plain": [
              "Brand                       APPLE\n",
              "Processor                    Null\n",
              "RAM_type                     DDR4\n",
              "RAM_capacity                 8 GB\n",
              "OS                         Mac OS\n",
              "SSD_capacity               256 GB\n",
              "Display         13 inch - 14 inch\n",
              "Price_Range       Above ₹1,20,000\n",
              "Discount               40% to 50%\n",
              "Rating                 4.3 to 4.4\n",
              "Name: 224, dtype: object"
            ]
          },
          "metadata": {}
        },
        {
          "output_type": "stream",
          "name": "stdout",
          "text": [
            "----------------------------------\n"
          ]
        },
        {
          "output_type": "display_data",
          "data": {
            "text/plain": [
              "Brand                      HP\n",
              "Processor                Null\n",
              "RAM_type                 DDR4\n",
              "RAM_capacity             4 GB\n",
              "OS                     Chrome\n",
              "SSD_capacity           512 GB\n",
              "Display         Below 12 inch\n",
              "Price_Range     Below ₹35,000\n",
              "Discount           20% to 30%\n",
              "Rating                 2 to 4\n",
              "Name: 393, dtype: object"
            ]
          },
          "metadata": {}
        },
        {
          "output_type": "stream",
          "name": "stdout",
          "text": [
            "----------------------------------\n"
          ]
        },
        {
          "output_type": "display_data",
          "data": {
            "text/plain": [
              "Brand                      HP\n",
              "Processor                Null\n",
              "RAM_type              LPDDR4X\n",
              "RAM_capacity             4 GB\n",
              "OS                     Chrome\n",
              "SSD_capacity           256 GB\n",
              "Display         Below 12 inch\n",
              "Price_Range     Below ₹35,000\n",
              "Discount           10% to 20%\n",
              "Rating                 2 to 4\n",
              "Name: 418, dtype: object"
            ]
          },
          "metadata": {}
        },
        {
          "output_type": "stream",
          "name": "stdout",
          "text": [
            "----------------------------------\n"
          ]
        },
        {
          "output_type": "display_data",
          "data": {
            "text/plain": [
              "Brand                          HP\n",
              "Processor                    Null\n",
              "RAM_type                   LPDDR4\n",
              "RAM_capacity                 4 GB\n",
              "OS                         Chrome\n",
              "SSD_capacity                 1 TB\n",
              "Display         14 inch - 15 inch\n",
              "Price_Range         Below ₹35,000\n",
              "Discount               20% to 30%\n",
              "Rating                     2 to 4\n",
              "Name: 592, dtype: object"
            ]
          },
          "metadata": {}
        },
        {
          "output_type": "stream",
          "name": "stdout",
          "text": [
            "----------------------------------\n",
            "9\n"
          ]
        }
      ],
      "source": [
        "##---------Type the code below this line------------------##\n",
        "num_nulls = 0\n",
        "\n",
        "for row_num in range(0, df.shape[0]):\n",
        "  for column_num in range(0, df.shape[1]):\n",
        "    if (df.iloc[row_num, column_num] == 'Null'):\n",
        "        num_nulls += 1\n",
        "        display(df.iloc[row_num])\n",
        "        print('----------------------------------')\n",
        "\n",
        "print(num_nulls)"
      ],
      "id": "747250db"
    },
    {
      "cell_type": "markdown",
      "metadata": {
        "id": "4EbDj-l8sOnW"
      },
      "source": [
        "therefore the number of missing values is equal to 3, all of the attribute 'Processor'"
      ],
      "id": "4EbDj-l8sOnW"
    },
    {
      "cell_type": "markdown",
      "metadata": {
        "id": "e7b4a34f"
      },
      "source": [
        "## 3.4 Clean the missing data using an imputation technique"
      ],
      "id": "e7b4a34f"
    },
    {
      "cell_type": "markdown",
      "metadata": {
        "id": "c7i3sKNIs6ft"
      },
      "source": [
        "Frequency Category Imputation method is used"
      ],
      "id": "c7i3sKNIs6ft"
    },
    {
      "cell_type": "code",
      "execution_count": null,
      "metadata": {
        "colab": {
          "base_uri": "https://localhost:8080/"
        },
        "id": "ee55faf4",
        "outputId": "117bd1ca-55e2-4d30-ff9c-0b71afc8ab46"
      },
      "outputs": [
        {
          "output_type": "stream",
          "name": "stdout",
          "text": [
            "Core i5\n"
          ]
        }
      ],
      "source": [
        "##---------Type the code below this line------------------##\n",
        "print(df['Processor'].value_counts().idxmax())"
      ],
      "id": "ee55faf4"
    },
    {
      "cell_type": "code",
      "execution_count": null,
      "metadata": {
        "id": "3nx_9E24wfaw"
      },
      "outputs": [],
      "source": [
        "for row_num in range(0, df.shape[0]):\n",
        "  for column_num in range(0, df.shape[1]):\n",
        "    if (df.iloc[row_num, column_num] == 'Null'):\n",
        "        df.iloc[row_num, column_num] = 'Core i5'"
      ],
      "id": "3nx_9E24wfaw"
    },
    {
      "cell_type": "code",
      "execution_count": null,
      "metadata": {
        "colab": {
          "base_uri": "https://localhost:8080/"
        },
        "id": "M-3RR5MIw3GY",
        "outputId": "f15212ff-d84f-44e9-8708-d4306a3bb577"
      },
      "outputs": [
        {
          "output_type": "stream",
          "name": "stdout",
          "text": [
            "0\n"
          ]
        }
      ],
      "source": [
        "num_nulls_ = 0\n",
        "\n",
        "for row_num in range(0, df.shape[0]):\n",
        "  for column_num in range(0, df.shape[1]):\n",
        "    if (df.iloc[row_num, column_num] == 'Null'):\n",
        "        num_nulls_ += 1\n",
        "        display(df.iloc[row_num])\n",
        "        print('----------------------------------')\n",
        "\n",
        "print(num_nulls_)"
      ],
      "id": "M-3RR5MIw3GY"
    },
    {
      "cell_type": "markdown",
      "metadata": {
        "id": "OlgT8MZZxo9x"
      },
      "source": [
        "The number of missing values is zero after cleaning"
      ],
      "id": "OlgT8MZZxo9x"
    },
    {
      "cell_type": "markdown",
      "metadata": {
        "id": "33700253"
      },
      "source": [
        "## 3.5 Check if all the attributes are following the same format and are consistent. If not, report all such attributes and what inconsistencies are present."
      ],
      "id": "33700253"
    },
    {
      "cell_type": "code",
      "execution_count": null,
      "metadata": {
        "id": "e9124fcc"
      },
      "outputs": [],
      "source": [
        "##---------Type the code below this line------------------##\n",
        "for column_num in range(0, df.shape[1]):\n",
        "  dtype = type(df.iloc[0, column_num])\n",
        "  for row_num in range(0, df.shape[0]):\n",
        "    if (type(df.iloc[row_num, column_num]) != dtype):\n",
        "      print('inconsistency in format')"
      ],
      "id": "e9124fcc"
    },
    {
      "cell_type": "markdown",
      "metadata": {
        "id": "hrzS-AWY0gyT"
      },
      "source": [
        "All the attributes are in same format"
      ],
      "id": "hrzS-AWY0gyT"
    },
    {
      "cell_type": "markdown",
      "metadata": {
        "id": "793cd04b"
      },
      "source": [
        "## 3.6 Identify the target variables.\n"
      ],
      "id": "793cd04b"
    },
    {
      "cell_type": "markdown",
      "metadata": {
        "id": "W3BYbZWS1Vuv"
      },
      "source": [
        "Target variables should have a fairly uniform distribution\n",
        "\n",
        "Given the problem statement, the two contenders of target variables are 'Price Range' and 'Rating'"
      ],
      "id": "W3BYbZWS1Vuv"
    },
    {
      "cell_type": "code",
      "execution_count": null,
      "metadata": {
        "colab": {
          "base_uri": "https://localhost:8080/",
          "height": 394
        },
        "id": "c9089b57",
        "outputId": "3b306671-3b2b-4bd3-d6df-17ae7afb65ee"
      },
      "outputs": [
        {
          "output_type": "display_data",
          "data": {
            "text/plain": [
              "<Figure size 432x288 with 1 Axes>"
            ],
            "image/png": "[encoded data removed]"
          },
          "metadata": {
            "needs_background": "light"
          }
        }
      ],
      "source": [
        "##---------Type the code below this line------------------##\n",
        "import matplotlib.pyplot as plt\n",
        "bar_graph = df.groupby('Price_Range').count().plot(kind='bar', title='Number of values from different Price_Range classes',\n",
        "                                               legend=False)"
      ],
      "id": "c9089b57"
    },
    {
      "cell_type": "code",
      "execution_count": null,
      "metadata": {
        "colab": {
          "base_uri": "https://localhost:8080/",
          "height": 333
        },
        "id": "pETQi6Nh1tQ3",
        "outputId": "e4e81136-6692-480e-cde9-bec7c56b9a8d"
      },
      "outputs": [
        {
          "output_type": "display_data",
          "data": {
            "text/plain": [
              "<Figure size 432x288 with 1 Axes>"
            ],
            "image/png": "[encoded data removed]"
          },
          "metadata": {
            "needs_background": "light"
          }
        }
      ],
      "source": [
        "bar_graph_ = df.groupby('Rating').count().plot(kind='bar', title='Number of values from different Rating classes',\n",
        "                                               legend=False)"
      ],
      "id": "pETQi6Nh1tQ3"
    },
    {
      "cell_type": "markdown",
      "metadata": {
        "id": "-QJ0vC29-MKz"
      },
      "source": [
        "'Rating' is a good choice of target variable"
      ],
      "id": "-QJ0vC29-MKz"
    },
    {
      "cell_type": "markdown",
      "metadata": {
        "id": "2d1ecddb"
      },
      "source": [
        "## 3.7 Separate the data from the target such that the dataset is in the form of (X,y) or (Features, Label)\n"
      ],
      "id": "2d1ecddb"
    },
    {
      "cell_type": "code",
      "execution_count": null,
      "metadata": {
        "colab": {
          "base_uri": "https://localhost:8080/",
          "height": 424
        },
        "id": "2258a7c9",
        "outputId": "446b8000-75c9-498d-f67b-c119ee6bafd9"
      },
      "outputs": [
        {
          "output_type": "display_data",
          "data": {
            "text/plain": [
              "         Rating\n",
              "0    4.2 to 4.3\n",
              "1        2 to 4\n",
              "2    4.2 to 4.3\n",
              "3      4 to 4.2\n",
              "4      4 to 4.2\n",
              "..          ...\n",
              "766  4.2 to 4.3\n",
              "767  4.4 to 4.5\n",
              "768  4.4 to 4.5\n",
              "769  4.4 to 4.5\n",
              "770  4.4 to 4.5\n",
              "\n",
              "[771 rows x 1 columns]"
            ],
            "text/html": [
              "\n",
              "  <div id=\"df-590084e9-4384-4a13-a60b-34b98aa825de\">\n",
              "    <div class=\"colab-df-container\">\n",
              "      <div>\n",
              "<style scoped>\n",
              "    .dataframe tbody tr th:only-of-type {\n",
              "        vertical-align: middle;\n",
              "    }\n",
              "\n",
              "    .dataframe tbody tr th {\n",
              "        vertical-align: top;\n",
              "    }\n",
              "\n",
              "    .dataframe thead th {\n",
              "        text-align: right;\n",
              "    }\n",
              "</style>\n",
              "<table border=\"1\" class=\"dataframe\">\n",
              "  <thead>\n",
              "    <tr style=\"text-align: right;\">\n",
              "      <th></th>\n",
              "      <th>Rating</th>\n",
              "    </tr>\n",
              "  </thead>\n",
              "  <tbody>\n",
              "    <tr>\n",
              "      <th>0</th>\n",
              "      <td>4.2 to 4.3</td>\n",
              "    </tr>\n",
              "    <tr>\n",
              "      <th>1</th>\n",
              "      <td>2 to 4</td>\n",
              "    </tr>\n",
              "    <tr>\n",
              "      <th>2</th>\n",
              "      <td>4.2 to 4.3</td>\n",
              "    </tr>\n",
              "    <tr>\n",
              "      <th>3</th>\n",
              "      <td>4 to 4.2</td>\n",
              "    </tr>\n",
              "    <tr>\n",
              "      <th>4</th>\n",
              "      <td>4 to 4.2</td>\n",
              "    </tr>\n",
              "    <tr>\n",
              "      <th>...</th>\n",
              "      <td>...</td>\n",
              "    </tr>\n",
              "    <tr>\n",
              "      <th>766</th>\n",
              "      <td>4.2 to 4.3</td>\n",
              "    </tr>\n",
              "    <tr>\n",
              "      <th>767</th>\n",
              "      <td>4.4 to 4.5</td>\n",
              "    </tr>\n",
              "    <tr>\n",
              "      <th>768</th>\n",
              "      <td>4.4 to 4.5</td>\n",
              "    </tr>\n",
              "    <tr>\n",
              "      <th>769</th>\n",
              "      <td>4.4 to 4.5</td>\n",
              "    </tr>\n",
              "    <tr>\n",
              "      <th>770</th>\n",
              "      <td>4.4 to 4.5</td>\n",
              "    </tr>\n",
              "  </tbody>\n",
              "</table>\n",
              "<p>771 rows × 1 columns</p>\n",
              "</div>\n",
              "      <button class=\"colab-df-convert\" onclick=\"convertToInteractive('df-590084e9-4384-4a13-a60b-34b98aa825de')\"\n",
              "              title=\"Convert this dataframe to an interactive table.\"\n",
              "              style=\"display:none;\">\n",
              "        \n",
              "  <svg xmlns=\"http://www.w3.org/2000/svg\" height=\"24px\"viewBox=\"0 0 24 24\"\n",
              "       width=\"24px\">\n",
              "    <path d=\"M0 0h24v24H0V0z\" fill=\"none\"/>\n",
              "    <path d=\"M18.56 5.44l.94 2.06.94-2.06 2.06-.94-2.06-.94-.94-2.06-.94 2.06-2.06.94zm-11 1L8.5 8.5l.94-2.06 2.06-.94-2.06-.94L8.5 2.5l-.94 2.06-2.06.94zm10 10l.94 2.06.94-2.06 2.06-.94-2.06-.94-.94-2.06-.94 2.06-2.06.94z\"/><path d=\"M17.41 7.96l-1.37-1.37c-.4-.4-.92-.59-1.43-.59-.52 0-1.04.2-1.43.59L10.3 9.45l-7.72 7.72c-.78.78-.78 2.05 0 2.83L4 21.41c.39.39.9.59 1.41.59.51 0 1.02-.2 1.41-.59l7.78-7.78 2.81-2.81c.8-.78.8-2.07 0-2.86zM5.41 20L4 18.59l7.72-7.72 1.47 1.35L5.41 20z\"/>\n",
              "  </svg>\n",
              "      </button>\n",
              "      \n",
              "  <style>\n",
              "    .colab-df-container {\n",
              "      display:flex;\n",
              "      flex-wrap:wrap;\n",
              "      gap: 12px;\n",
              "    }\n",
              "\n",
              "    .colab-df-convert {\n",
              "      background-color: #E8F0FE;\n",
              "      border: none;\n",
              "      border-radius: 50%;\n",
              "      cursor: pointer;\n",
              "      display: none;\n",
              "      fill: #1967D2;\n",
              "      height: 32px;\n",
              "      padding: 0 0 0 0;\n",
              "      width: 32px;\n",
              "    }\n",
              "\n",
              "    .colab-df-convert:hover {\n",
              "      background-color: #E2EBFA;\n",
              "      box-shadow: 0px 1px 2px rgba(60, 64, 67, 0.3), 0px 1px 3px 1px rgba(60, 64, 67, 0.15);\n",
              "      fill: #174EA6;\n",
              "    }\n",
              "\n",
              "    [theme=dark] .colab-df-convert {\n",
              "      background-color: #3B4455;\n",
              "      fill: #D2E3FC;\n",
              "    }\n",
              "\n",
              "    [theme=dark] .colab-df-convert:hover {\n",
              "      background-color: #434B5C;\n",
              "      box-shadow: 0px 1px 3px 1px rgba(0, 0, 0, 0.15);\n",
              "      filter: drop-shadow(0px 1px 2px rgba(0, 0, 0, 0.3));\n",
              "      fill: #FFFFFF;\n",
              "    }\n",
              "  </style>\n",
              "\n",
              "      <script>\n",
              "        const buttonEl =\n",
              "          document.querySelector('#df-590084e9-4384-4a13-a60b-34b98aa825de button.colab-df-convert');\n",
              "        buttonEl.style.display =\n",
              "          google.colab.kernel.accessAllowed ? 'block' : 'none';\n",
              "\n",
              "        async function convertToInteractive(key) {\n",
              "          const element = document.querySelector('#df-590084e9-4384-4a13-a60b-34b98aa825de');\n",
              "          const dataTable =\n",
              "            await google.colab.kernel.invokeFunction('convertToInteractive',\n",
              "                                                     [key], {});\n",
              "          if (!dataTable) return;\n",
              "\n",
              "          const docLinkHtml = 'Like what you see? Visit the ' +\n",
              "            '<a target=\"_blank\" href=https://colab.research.google.com/notebooks/data_table.ipynb>data table notebook</a>'\n",
              "            + ' to learn more about interactive tables.';\n",
              "          element.innerHTML = '';\n",
              "          dataTable['output_type'] = 'display_data';\n",
              "          await google.colab.output.renderOutput(dataTable, element);\n",
              "          const docLink = document.createElement('div');\n",
              "          docLink.innerHTML = docLinkHtml;\n",
              "          element.appendChild(docLink);\n",
              "        }\n",
              "      </script>\n",
              "    </div>\n",
              "  </div>\n",
              "  "
            ]
          },
          "metadata": {}
        }
      ],
      "source": [
        "##---------Type the code below this line------------------##\n",
        "y = pd.DataFrame([df['Rating']]).T\n",
        "display(y)"
      ],
      "id": "2258a7c9"
    },
    {
      "cell_type": "code",
      "execution_count": null,
      "metadata": {
        "colab": {
          "base_uri": "https://localhost:8080/",
          "height": 424
        },
        "id": "n0tXGSeL--m_",
        "outputId": "1fdd7ea4-c105-4c37-8600-477bacdd139c"
      },
      "outputs": [
        {
          "output_type": "display_data",
          "data": {
            "text/plain": [
              "      Brand          Processor RAM_type RAM_capacity          OS SSD_capacity  \\\n",
              "0    Lenovo            Core i3     DDR4         8 GB  Windows 11       512 GB   \n",
              "1      DELL            Core i3     DDR4         8 GB  Windows 11       512 GB   \n",
              "2    Lenovo            Core i3     DDR4         8 GB  Windows 11       256 GB   \n",
              "3      DELL          Dual Core     DDR4         8 GB  Windows 11       256 GB   \n",
              "4      DELL            Core i3     DDR4         8 GB  Windows 11       256 GB   \n",
              "..      ...                ...      ...          ...         ...          ...   \n",
              "766    ASUS            Core i7     DDR4         8 GB  Windows 10       512 GB   \n",
              "767  Lenovo  Ryzen 7 Octa Core     DDR4        16 GB  Windows 10       512 GB   \n",
              "768     MSI            Core i7  LPDDR4X        16 GB  Windows 10       512 GB   \n",
              "769    ASUS            Core i7   LPDDR5        16 GB  Windows 11         1 TB   \n",
              "770  Lenovo  Ryzen 7 Octa Core     DDR4        16 GB  Windows 10       512 GB   \n",
              "\n",
              "               Display           Price_Range    Discount  \n",
              "0    15 inch - 16 inch    ₹35,000 to ₹50,000  30% to 40%  \n",
              "1    15 inch - 16 inch         Below ₹35,000  30% to 40%  \n",
              "2    15 inch - 16 inch         Below ₹35,000  30% to 40%  \n",
              "3    15 inch - 16 inch         Below ₹35,000  30% to 40%  \n",
              "4    14 inch - 15 inch    ₹35,000 to ₹50,000  30% to 40%  \n",
              "..                 ...                   ...         ...  \n",
              "766  14 inch - 15 inch    ₹80,000 to ₹95,000  10% to 20%  \n",
              "767  13 inch - 14 inch    ₹60,000 to ₹80,000  10% to 20%  \n",
              "768  14 inch - 15 inch    ₹60,000 to ₹80,000  20% to 30%  \n",
              "769  15 inch - 16 inch       Above ₹1,20,000  10% to 20%  \n",
              "770  14 inch - 15 inch  ₹95,000 to ₹1,20,000  20% to 30%  \n",
              "\n",
              "[771 rows x 9 columns]"
            ],
            "text/html": [
              "\n",
              "  <div id=\"df-db2d02d3-e0f5-4221-82b9-c348d498affa\">\n",
              "    <div class=\"colab-df-container\">\n",
              "      <div>\n",
              "<style scoped>\n",
              "    .dataframe tbody tr th:only-of-type {\n",
              "        vertical-align: middle;\n",
              "    }\n",
              "\n",
              "    .dataframe tbody tr th {\n",
              "        vertical-align: top;\n",
              "    }\n",
              "\n",
              "    .dataframe thead th {\n",
              "        text-align: right;\n",
              "    }\n",
              "</style>\n",
              "<table border=\"1\" class=\"dataframe\">\n",
              "  <thead>\n",
              "    <tr style=\"text-align: right;\">\n",
              "      <th></th>\n",
              "      <th>Brand</th>\n",
              "      <th>Processor</th>\n",
              "      <th>RAM_type</th>\n",
              "      <th>RAM_capacity</th>\n",
              "      <th>OS</th>\n",
              "      <th>SSD_capacity</th>\n",
              "      <th>Display</th>\n",
              "      <th>Price_Range</th>\n",
              "      <th>Discount</th>\n",
              "    </tr>\n",
              "  </thead>\n",
              "  <tbody>\n",
              "    <tr>\n",
              "      <th>0</th>\n",
              "      <td>Lenovo</td>\n",
              "      <td>Core i3</td>\n",
              "      <td>DDR4</td>\n",
              "      <td>8 GB</td>\n",
              "      <td>Windows 11</td>\n",
              "      <td>512 GB</td>\n",
              "      <td>15 inch - 16 inch</td>\n",
              "      <td>₹35,000 to ₹50,000</td>\n",
              "      <td>30% to 40%</td>\n",
              "    </tr>\n",
              "    <tr>\n",
              "      <th>1</th>\n",
              "      <td>DELL</td>\n",
              "      <td>Core i3</td>\n",
              "      <td>DDR4</td>\n",
              "      <td>8 GB</td>\n",
              "      <td>Windows 11</td>\n",
              "      <td>512 GB</td>\n",
              "      <td>15 inch - 16 inch</td>\n",
              "      <td>Below ₹35,000</td>\n",
              "      <td>30% to 40%</td>\n",
              "    </tr>\n",
              "    <tr>\n",
              "      <th>2</th>\n",
              "      <td>Lenovo</td>\n",
              "      <td>Core i3</td>\n",
              "      <td>DDR4</td>\n",
              "      <td>8 GB</td>\n",
              "      <td>Windows 11</td>\n",
              "      <td>256 GB</td>\n",
              "      <td>15 inch - 16 inch</td>\n",
              "      <td>Below ₹35,000</td>\n",
              "      <td>30% to 40%</td>\n",
              "    </tr>\n",
              "    <tr>\n",
              "      <th>3</th>\n",
              "      <td>DELL</td>\n",
              "      <td>Dual Core</td>\n",
              "      <td>DDR4</td>\n",
              "      <td>8 GB</td>\n",
              "      <td>Windows 11</td>\n",
              "      <td>256 GB</td>\n",
              "      <td>15 inch - 16 inch</td>\n",
              "      <td>Below ₹35,000</td>\n",
              "      <td>30% to 40%</td>\n",
              "    </tr>\n",
              "    <tr>\n",
              "      <th>4</th>\n",
              "      <td>DELL</td>\n",
              "      <td>Core i3</td>\n",
              "      <td>DDR4</td>\n",
              "      <td>8 GB</td>\n",
              "      <td>Windows 11</td>\n",
              "      <td>256 GB</td>\n",
              "      <td>14 inch - 15 inch</td>\n",
              "      <td>₹35,000 to ₹50,000</td>\n",
              "      <td>30% to 40%</td>\n",
              "    </tr>\n",
              "    <tr>\n",
              "      <th>...</th>\n",
              "      <td>...</td>\n",
              "      <td>...</td>\n",
              "      <td>...</td>\n",
              "      <td>...</td>\n",
              "      <td>...</td>\n",
              "      <td>...</td>\n",
              "      <td>...</td>\n",
              "      <td>...</td>\n",
              "      <td>...</td>\n",
              "    </tr>\n",
              "    <tr>\n",
              "      <th>766</th>\n",
              "      <td>ASUS</td>\n",
              "      <td>Core i7</td>\n",
              "      <td>DDR4</td>\n",
              "      <td>8 GB</td>\n",
              "      <td>Windows 10</td>\n",
              "      <td>512 GB</td>\n",
              "      <td>14 inch - 15 inch</td>\n",
              "      <td>₹80,000 to ₹95,000</td>\n",
              "      <td>10% to 20%</td>\n",
              "    </tr>\n",
              "    <tr>\n",
              "      <th>767</th>\n",
              "      <td>Lenovo</td>\n",
              "      <td>Ryzen 7 Octa Core</td>\n",
              "      <td>DDR4</td>\n",
              "      <td>16 GB</td>\n",
              "      <td>Windows 10</td>\n",
              "      <td>512 GB</td>\n",
              "      <td>13 inch - 14 inch</td>\n",
              "      <td>₹60,000 to ₹80,000</td>\n",
              "      <td>10% to 20%</td>\n",
              "    </tr>\n",
              "    <tr>\n",
              "      <th>768</th>\n",
              "      <td>MSI</td>\n",
              "      <td>Core i7</td>\n",
              "      <td>LPDDR4X</td>\n",
              "      <td>16 GB</td>\n",
              "      <td>Windows 10</td>\n",
              "      <td>512 GB</td>\n",
              "      <td>14 inch - 15 inch</td>\n",
              "      <td>₹60,000 to ₹80,000</td>\n",
              "      <td>20% to 30%</td>\n",
              "    </tr>\n",
              "    <tr>\n",
              "      <th>769</th>\n",
              "      <td>ASUS</td>\n",
              "      <td>Core i7</td>\n",
              "      <td>LPDDR5</td>\n",
              "      <td>16 GB</td>\n",
              "      <td>Windows 11</td>\n",
              "      <td>1 TB</td>\n",
              "      <td>15 inch - 16 inch</td>\n",
              "      <td>Above ₹1,20,000</td>\n",
              "      <td>10% to 20%</td>\n",
              "    </tr>\n",
              "    <tr>\n",
              "      <th>770</th>\n",
              "      <td>Lenovo</td>\n",
              "      <td>Ryzen 7 Octa Core</td>\n",
              "      <td>DDR4</td>\n",
              "      <td>16 GB</td>\n",
              "      <td>Windows 10</td>\n",
              "      <td>512 GB</td>\n",
              "      <td>14 inch - 15 inch</td>\n",
              "      <td>₹95,000 to ₹1,20,000</td>\n",
              "      <td>20% to 30%</td>\n",
              "    </tr>\n",
              "  </tbody>\n",
              "</table>\n",
              "<p>771 rows × 9 columns</p>\n",
              "</div>\n",
              "      <button class=\"colab-df-convert\" onclick=\"convertToInteractive('df-db2d02d3-e0f5-4221-82b9-c348d498affa')\"\n",
              "              title=\"Convert this dataframe to an interactive table.\"\n",
              "              style=\"display:none;\">\n",
              "        \n",
              "  <svg xmlns=\"http://www.w3.org/2000/svg\" height=\"24px\"viewBox=\"0 0 24 24\"\n",
              "       width=\"24px\">\n",
              "    <path d=\"M0 0h24v24H0V0z\" fill=\"none\"/>\n",
              "    <path d=\"M18.56 5.44l.94 2.06.94-2.06 2.06-.94-2.06-.94-.94-2.06-.94 2.06-2.06.94zm-11 1L8.5 8.5l.94-2.06 2.06-.94-2.06-.94L8.5 2.5l-.94 2.06-2.06.94zm10 10l.94 2.06.94-2.06 2.06-.94-2.06-.94-.94-2.06-.94 2.06-2.06.94z\"/><path d=\"M17.41 7.96l-1.37-1.37c-.4-.4-.92-.59-1.43-.59-.52 0-1.04.2-1.43.59L10.3 9.45l-7.72 7.72c-.78.78-.78 2.05 0 2.83L4 21.41c.39.39.9.59 1.41.59.51 0 1.02-.2 1.41-.59l7.78-7.78 2.81-2.81c.8-.78.8-2.07 0-2.86zM5.41 20L4 18.59l7.72-7.72 1.47 1.35L5.41 20z\"/>\n",
              "  </svg>\n",
              "      </button>\n",
              "      \n",
              "  <style>\n",
              "    .colab-df-container {\n",
              "      display:flex;\n",
              "      flex-wrap:wrap;\n",
              "      gap: 12px;\n",
              "    }\n",
              "\n",
              "    .colab-df-convert {\n",
              "      background-color: #E8F0FE;\n",
              "      border: none;\n",
              "      border-radius: 50%;\n",
              "      cursor: pointer;\n",
              "      display: none;\n",
              "      fill: #1967D2;\n",
              "      height: 32px;\n",
              "      padding: 0 0 0 0;\n",
              "      width: 32px;\n",
              "    }\n",
              "\n",
              "    .colab-df-convert:hover {\n",
              "      background-color: #E2EBFA;\n",
              "      box-shadow: 0px 1px 2px rgba(60, 64, 67, 0.3), 0px 1px 3px 1px rgba(60, 64, 67, 0.15);\n",
              "      fill: #174EA6;\n",
              "    }\n",
              "\n",
              "    [theme=dark] .colab-df-convert {\n",
              "      background-color: #3B4455;\n",
              "      fill: #D2E3FC;\n",
              "    }\n",
              "\n",
              "    [theme=dark] .colab-df-convert:hover {\n",
              "      background-color: #434B5C;\n",
              "      box-shadow: 0px 1px 3px 1px rgba(0, 0, 0, 0.15);\n",
              "      filter: drop-shadow(0px 1px 2px rgba(0, 0, 0, 0.3));\n",
              "      fill: #FFFFFF;\n",
              "    }\n",
              "  </style>\n",
              "\n",
              "      <script>\n",
              "        const buttonEl =\n",
              "          document.querySelector('#df-db2d02d3-e0f5-4221-82b9-c348d498affa button.colab-df-convert');\n",
              "        buttonEl.style.display =\n",
              "          google.colab.kernel.accessAllowed ? 'block' : 'none';\n",
              "\n",
              "        async function convertToInteractive(key) {\n",
              "          const element = document.querySelector('#df-db2d02d3-e0f5-4221-82b9-c348d498affa');\n",
              "          const dataTable =\n",
              "            await google.colab.kernel.invokeFunction('convertToInteractive',\n",
              "                                                     [key], {});\n",
              "          if (!dataTable) return;\n",
              "\n",
              "          const docLinkHtml = 'Like what you see? Visit the ' +\n",
              "            '<a target=\"_blank\" href=https://colab.research.google.com/notebooks/data_table.ipynb>data table notebook</a>'\n",
              "            + ' to learn more about interactive tables.';\n",
              "          element.innerHTML = '';\n",
              "          dataTable['output_type'] = 'display_data';\n",
              "          await google.colab.output.renderOutput(dataTable, element);\n",
              "          const docLink = document.createElement('div');\n",
              "          docLink.innerHTML = docLinkHtml;\n",
              "          element.appendChild(docLink);\n",
              "        }\n",
              "      </script>\n",
              "    </div>\n",
              "  </div>\n",
              "  "
            ]
          },
          "metadata": {}
        }
      ],
      "source": [
        "X = df[['Brand', 'Processor', 'RAM_type',\t'RAM_capacity', 'OS',\t'SSD_capacity', 'Display', 'Price_Range', 'Discount']]\n",
        "display(X)"
      ],
      "id": "n0tXGSeL--m_"
    },
    {
      "cell_type": "markdown",
      "metadata": {
        "id": "280c1f13"
      },
      "source": [
        "## 3.8 Discretize the target variable or perform one-hot encoding on the target\n"
      ],
      "id": "280c1f13"
    },
    {
      "cell_type": "code",
      "execution_count": null,
      "metadata": {
        "colab": {
          "base_uri": "https://localhost:8080/",
          "height": 223
        },
        "id": "9a043cd5",
        "outputId": "429dcc8d-38f5-450f-90fc-12ee7c532667"
      },
      "outputs": [
        {
          "output_type": "display_data",
          "data": {
            "text/plain": [
              "   Rating\n",
              "0       2\n",
              "1       0\n",
              "2       2\n",
              "3       1\n",
              "4       1"
            ],
            "text/html": [
              "\n",
              "  <div id=\"df-1603edd9-6a70-4975-bb0f-f60f6f92c931\">\n",
              "    <div class=\"colab-df-container\">\n",
              "      <div>\n",
              "<style scoped>\n",
              "    .dataframe tbody tr th:only-of-type {\n",
              "        vertical-align: middle;\n",
              "    }\n",
              "\n",
              "    .dataframe tbody tr th {\n",
              "        vertical-align: top;\n",
              "    }\n",
              "\n",
              "    .dataframe thead th {\n",
              "        text-align: right;\n",
              "    }\n",
              "</style>\n",
              "<table border=\"1\" class=\"dataframe\">\n",
              "  <thead>\n",
              "    <tr style=\"text-align: right;\">\n",
              "      <th></th>\n",
              "      <th>Rating</th>\n",
              "    </tr>\n",
              "  </thead>\n",
              "  <tbody>\n",
              "    <tr>\n",
              "      <th>0</th>\n",
              "      <td>2</td>\n",
              "    </tr>\n",
              "    <tr>\n",
              "      <th>1</th>\n",
              "      <td>0</td>\n",
              "    </tr>\n",
              "    <tr>\n",
              "      <th>2</th>\n",
              "      <td>2</td>\n",
              "    </tr>\n",
              "    <tr>\n",
              "      <th>3</th>\n",
              "      <td>1</td>\n",
              "    </tr>\n",
              "    <tr>\n",
              "      <th>4</th>\n",
              "      <td>1</td>\n",
              "    </tr>\n",
              "  </tbody>\n",
              "</table>\n",
              "</div>\n",
              "      <button class=\"colab-df-convert\" onclick=\"convertToInteractive('df-1603edd9-6a70-4975-bb0f-f60f6f92c931')\"\n",
              "              title=\"Convert this dataframe to an interactive table.\"\n",
              "              style=\"display:none;\">\n",
              "        \n",
              "  <svg xmlns=\"http://www.w3.org/2000/svg\" height=\"24px\"viewBox=\"0 0 24 24\"\n",
              "       width=\"24px\">\n",
              "    <path d=\"M0 0h24v24H0V0z\" fill=\"none\"/>\n",
              "    <path d=\"M18.56 5.44l.94 2.06.94-2.06 2.06-.94-2.06-.94-.94-2.06-.94 2.06-2.06.94zm-11 1L8.5 8.5l.94-2.06 2.06-.94-2.06-.94L8.5 2.5l-.94 2.06-2.06.94zm10 10l.94 2.06.94-2.06 2.06-.94-2.06-.94-.94-2.06-.94 2.06-2.06.94z\"/><path d=\"M17.41 7.96l-1.37-1.37c-.4-.4-.92-.59-1.43-.59-.52 0-1.04.2-1.43.59L10.3 9.45l-7.72 7.72c-.78.78-.78 2.05 0 2.83L4 21.41c.39.39.9.59 1.41.59.51 0 1.02-.2 1.41-.59l7.78-7.78 2.81-2.81c.8-.78.8-2.07 0-2.86zM5.41 20L4 18.59l7.72-7.72 1.47 1.35L5.41 20z\"/>\n",
              "  </svg>\n",
              "      </button>\n",
              "      \n",
              "  <style>\n",
              "    .colab-df-container {\n",
              "      display:flex;\n",
              "      flex-wrap:wrap;\n",
              "      gap: 12px;\n",
              "    }\n",
              "\n",
              "    .colab-df-convert {\n",
              "      background-color: #E8F0FE;\n",
              "      border: none;\n",
              "      border-radius: 50%;\n",
              "      cursor: pointer;\n",
              "      display: none;\n",
              "      fill: #1967D2;\n",
              "      height: 32px;\n",
              "      padding: 0 0 0 0;\n",
              "      width: 32px;\n",
              "    }\n",
              "\n",
              "    .colab-df-convert:hover {\n",
              "      background-color: #E2EBFA;\n",
              "      box-shadow: 0px 1px 2px rgba(60, 64, 67, 0.3), 0px 1px 3px 1px rgba(60, 64, 67, 0.15);\n",
              "      fill: #174EA6;\n",
              "    }\n",
              "\n",
              "    [theme=dark] .colab-df-convert {\n",
              "      background-color: #3B4455;\n",
              "      fill: #D2E3FC;\n",
              "    }\n",
              "\n",
              "    [theme=dark] .colab-df-convert:hover {\n",
              "      background-color: #434B5C;\n",
              "      box-shadow: 0px 1px 3px 1px rgba(0, 0, 0, 0.15);\n",
              "      filter: drop-shadow(0px 1px 2px rgba(0, 0, 0, 0.3));\n",
              "      fill: #FFFFFF;\n",
              "    }\n",
              "  </style>\n",
              "\n",
              "      <script>\n",
              "        const buttonEl =\n",
              "          document.querySelector('#df-1603edd9-6a70-4975-bb0f-f60f6f92c931 button.colab-df-convert');\n",
              "        buttonEl.style.display =\n",
              "          google.colab.kernel.accessAllowed ? 'block' : 'none';\n",
              "\n",
              "        async function convertToInteractive(key) {\n",
              "          const element = document.querySelector('#df-1603edd9-6a70-4975-bb0f-f60f6f92c931');\n",
              "          const dataTable =\n",
              "            await google.colab.kernel.invokeFunction('convertToInteractive',\n",
              "                                                     [key], {});\n",
              "          if (!dataTable) return;\n",
              "\n",
              "          const docLinkHtml = 'Like what you see? Visit the ' +\n",
              "            '<a target=\"_blank\" href=https://colab.research.google.com/notebooks/data_table.ipynb>data table notebook</a>'\n",
              "            + ' to learn more about interactive tables.';\n",
              "          element.innerHTML = '';\n",
              "          dataTable['output_type'] = 'display_data';\n",
              "          await google.colab.output.renderOutput(dataTable, element);\n",
              "          const docLink = document.createElement('div');\n",
              "          docLink.innerHTML = docLinkHtml;\n",
              "          element.appendChild(docLink);\n",
              "        }\n",
              "      </script>\n",
              "    </div>\n",
              "  </div>\n",
              "  "
            ]
          },
          "metadata": {}
        },
        {
          "output_type": "stream",
          "name": "stdout",
          "text": [
            "['2 to 4', '4 to 4.2', '4.2 to 4.3', '4.3 to 4.4', '4.4 to 4.5', '4.5 to 5']\n"
          ]
        }
      ],
      "source": [
        "##---------Type the code below this line------------------##\n",
        "from sklearn.preprocessing import LabelEncoder\n",
        "\n",
        "le = LabelEncoder()\n",
        "for i in y:\n",
        "  y[i] = le.fit_transform(y[i])\n",
        "\n",
        "display(y.head())\n",
        "\n",
        "print(list(le.classes_))"
      ],
      "id": "9a043cd5"
    },
    {
      "cell_type": "markdown",
      "metadata": {
        "id": "3ae0b5d2"
      },
      "source": [
        "# 4. Data Exploration using various plots"
      ],
      "id": "3ae0b5d2"
    },
    {
      "cell_type": "markdown",
      "metadata": {
        "id": "186bf4d7"
      },
      "source": [
        "## 4.1 Scatter plot of each attribute with the target."
      ],
      "id": "186bf4d7"
    },
    {
      "cell_type": "code",
      "execution_count": null,
      "metadata": {
        "colab": {
          "base_uri": "https://localhost:8080/"
        },
        "id": "quPUSF0goQbc",
        "outputId": "d42471f3-9662-4a2e-ab09-1251723df7ad"
      },
      "outputs": [
        {
          "output_type": "stream",
          "name": "stdout",
          "text": [
            "['ALIENWARE', 'APPLE', 'ASUS', 'Avita', 'DELL', 'HP', 'Infinix', 'LG', 'Lenovo', 'MSI', 'Mi', 'Nokia', 'REDMI', 'SAMSUNG', 'Vaio', 'acer', 'realme']\n",
            "['Core i3', 'Core i5', 'Core i7', 'Core i9', 'Dual Core', 'Hexa Core i5', 'M1 Pro', 'Pentium Quad Core', 'Pentium Silver', 'Ryzen 3 Quad Core', 'Ryzen 5 Dual Core', 'Ryzen 5 Hexa Core', 'Ryzen 5 Octa Core', 'Ryzen 5 Quad Core', 'Ryzen 7 Hexa Core', 'Ryzen 7 Octa Core', 'Ryzen 7 Quad Core', 'Ryzen 9 Octa Core', 'Snapdragon 7c Gen 2']\n",
            "['DDR3', 'DDR4', 'DDR5', 'LPDDR3', 'LPDDR4', 'LPDDR4X', 'LPDDR5']\n",
            "['16 GB', '2 GB', '4 GB', '8 GB']\n",
            "['Chrome', 'DOS', 'Linux/Ubuntu', 'Mac OS', 'Windows 10', 'Windows 11']\n",
            "['1 TB', '2 TB', '256 GB', '512 GB', '8 GB']\n",
            "['13 inch - 14 inch', '14 inch - 15 inch', '15 inch - 16 inch', '16 inch - 18 inch', 'Below 12 inch']\n",
            "['Above ₹1,20,000', 'Below ₹35,000', '₹35,000 to ₹50,000', '₹50,000 to ₹60,000', '₹60,000 to ₹80,000', '₹80,000 to ₹95,000', '₹95,000 to ₹1,20,000']\n",
            "['10% and below', '10% to 20%', '20% to 30%', '30% to 40%', '40% to 50%']\n"
          ]
        },
        {
          "output_type": "stream",
          "name": "stderr",
          "text": [
            "/usr/local/lib/python3.7/dist-packages/ipykernel_launcher.py:3: SettingWithCopyWarning: \n",
            "A value is trying to be set on a copy of a slice from a DataFrame.\n",
            "Try using .loc[row_indexer,col_indexer] = value instead\n",
            "\n",
            "See the caveats in the documentation: https://pandas.pydata.org/pandas-docs/stable/user_guide/indexing.html#returning-a-view-versus-a-copy\n",
            "  This is separate from the ipykernel package so we can avoid doing imports until\n",
            "/usr/local/lib/python3.7/dist-packages/ipykernel_launcher.py:7: SettingWithCopyWarning: \n",
            "A value is trying to be set on a copy of a slice from a DataFrame.\n",
            "Try using .loc[row_indexer,col_indexer] = value instead\n",
            "\n",
            "See the caveats in the documentation: https://pandas.pydata.org/pandas-docs/stable/user_guide/indexing.html#returning-a-view-versus-a-copy\n",
            "  import sys\n",
            "/usr/local/lib/python3.7/dist-packages/ipykernel_launcher.py:11: SettingWithCopyWarning: \n",
            "A value is trying to be set on a copy of a slice from a DataFrame.\n",
            "Try using .loc[row_indexer,col_indexer] = value instead\n",
            "\n",
            "See the caveats in the documentation: https://pandas.pydata.org/pandas-docs/stable/user_guide/indexing.html#returning-a-view-versus-a-copy\n",
            "  # This is added back by InteractiveShellApp.init_path()\n",
            "/usr/local/lib/python3.7/dist-packages/ipykernel_launcher.py:15: SettingWithCopyWarning: \n",
            "A value is trying to be set on a copy of a slice from a DataFrame.\n",
            "Try using .loc[row_indexer,col_indexer] = value instead\n",
            "\n",
            "See the caveats in the documentation: https://pandas.pydata.org/pandas-docs/stable/user_guide/indexing.html#returning-a-view-versus-a-copy\n",
            "  from ipykernel import kernelapp as app\n",
            "/usr/local/lib/python3.7/dist-packages/ipykernel_launcher.py:19: SettingWithCopyWarning: \n",
            "A value is trying to be set on a copy of a slice from a DataFrame.\n",
            "Try using .loc[row_indexer,col_indexer] = value instead\n",
            "\n",
            "See the caveats in the documentation: https://pandas.pydata.org/pandas-docs/stable/user_guide/indexing.html#returning-a-view-versus-a-copy\n",
            "/usr/local/lib/python3.7/dist-packages/ipykernel_launcher.py:23: SettingWithCopyWarning: \n",
            "A value is trying to be set on a copy of a slice from a DataFrame.\n",
            "Try using .loc[row_indexer,col_indexer] = value instead\n",
            "\n",
            "See the caveats in the documentation: https://pandas.pydata.org/pandas-docs/stable/user_guide/indexing.html#returning-a-view-versus-a-copy\n",
            "/usr/local/lib/python3.7/dist-packages/ipykernel_launcher.py:27: SettingWithCopyWarning: \n",
            "A value is trying to be set on a copy of a slice from a DataFrame.\n",
            "Try using .loc[row_indexer,col_indexer] = value instead\n",
            "\n",
            "See the caveats in the documentation: https://pandas.pydata.org/pandas-docs/stable/user_guide/indexing.html#returning-a-view-versus-a-copy\n",
            "/usr/local/lib/python3.7/dist-packages/ipykernel_launcher.py:31: SettingWithCopyWarning: \n",
            "A value is trying to be set on a copy of a slice from a DataFrame.\n",
            "Try using .loc[row_indexer,col_indexer] = value instead\n",
            "\n",
            "See the caveats in the documentation: https://pandas.pydata.org/pandas-docs/stable/user_guide/indexing.html#returning-a-view-versus-a-copy\n",
            "/usr/local/lib/python3.7/dist-packages/ipykernel_launcher.py:35: SettingWithCopyWarning: \n",
            "A value is trying to be set on a copy of a slice from a DataFrame.\n",
            "Try using .loc[row_indexer,col_indexer] = value instead\n",
            "\n",
            "See the caveats in the documentation: https://pandas.pydata.org/pandas-docs/stable/user_guide/indexing.html#returning-a-view-versus-a-copy\n"
          ]
        }
      ],
      "source": [
        "##---------Type the code below this line------------------##\n",
        "le1 = LabelEncoder()\n",
        "X['Brand'] = le1.fit_transform(X['Brand'])\n",
        "print(list(le1.classes_))\n",
        "\n",
        "le2 = LabelEncoder()\n",
        "X['Processor'] = le2.fit_transform(X['Processor'])\n",
        "print(list(le2.classes_))\n",
        "\n",
        "le3 = LabelEncoder()\n",
        "X['RAM_type'] = le3.fit_transform(X['RAM_type'])\n",
        "print(list(le3.classes_))\n",
        "\n",
        "le4 = LabelEncoder()\n",
        "X['RAM_capacity'] = le4.fit_transform(X['RAM_capacity'])\n",
        "print(list(le4.classes_))\n",
        "\n",
        "le5 = LabelEncoder()\n",
        "X['OS'] = le5.fit_transform(X['OS'])\n",
        "print(list(le5.classes_))\n",
        "\n",
        "le6 = LabelEncoder()\n",
        "X['SSD_capacity'] = le6.fit_transform(X['SSD_capacity'])\n",
        "print(list(le6.classes_))\n",
        "\n",
        "le7 = LabelEncoder()\n",
        "X['Display'] = le7.fit_transform(X['Display'])\n",
        "print(list(le7.classes_))\n",
        "\n",
        "le8 = LabelEncoder()\n",
        "X['Price_Range'] = le8.fit_transform(X['Price_Range'])\n",
        "print(list(le8.classes_))\n",
        "\n",
        "le9 = LabelEncoder()\n",
        "X['Discount'] = le9.fit_transform(X['Discount'])\n",
        "print(list(le9.classes_))"
      ],
      "id": "quPUSF0goQbc"
    },
    {
      "cell_type": "code",
      "execution_count": null,
      "metadata": {
        "colab": {
          "base_uri": "https://localhost:8080/",
          "height": 279
        },
        "id": "KtWZ8pFdhKFe",
        "outputId": "cc738100-14c4-4771-f912-694d5eb379ec"
      },
      "outputs": [
        {
          "output_type": "display_data",
          "data": {
            "text/plain": [
              "<Figure size 432x288 with 1 Axes>"
            ],
            "image/png": "[encoded data removed]"
          },
          "metadata": {
            "needs_background": "light"
          }
        }
      ],
      "source": [
        "x_axis_labels = []\n",
        "for i in range(len(list(le1.classes_))):\n",
        "  x_axis_labels.append(i)\n",
        "\n",
        "fig, ax = plt.subplots()\n",
        "plt.scatter(X['Brand'].values.tolist(), rating_values_list, c =\"blue\")\n",
        "plt.xticks(x_axis_labels)\n",
        "plt.xlabel(\"Brand\")\n",
        "plt.ylabel(\"Rating\")\n",
        "plt.show()"
      ],
      "id": "KtWZ8pFdhKFe"
    },
    {
      "cell_type": "code",
      "execution_count": null,
      "metadata": {
        "colab": {
          "base_uri": "https://localhost:8080/",
          "height": 279
        },
        "id": "LqsymhvMjCAK",
        "outputId": "6b18e5d0-09e4-4d97-e7cf-dbe19b7be2fd"
      },
      "outputs": [
        {
          "output_type": "display_data",
          "data": {
            "text/plain": [
              "<Figure size 432x288 with 1 Axes>"
            ],
            "image/png": "[encoded data removed]"
          },
          "metadata": {
            "needs_background": "light"
          }
        }
      ],
      "source": [
        "x_axis_labels = []\n",
        "for i in range(len(list(le2.classes_))):\n",
        "  x_axis_labels.append(i)\n",
        "\n",
        "fig, ax = plt.subplots()\n",
        "plt.scatter(X['Processor'].values.tolist(), rating_values_list, c =\"blue\")\n",
        "plt.xticks(x_axis_labels)\n",
        "plt.xlabel('Processor')\n",
        "plt.ylabel(\"Rating\")\n",
        "plt.show()"
      ],
      "id": "LqsymhvMjCAK"
    },
    {
      "cell_type": "code",
      "execution_count": null,
      "metadata": {
        "colab": {
          "base_uri": "https://localhost:8080/",
          "height": 280
        },
        "id": "-H0czhoxra6O",
        "outputId": "73e41fff-126a-4262-ea3d-3eb8cac9ba1b"
      },
      "outputs": [
        {
          "output_type": "display_data",
          "data": {
            "text/plain": [
              "<Figure size 432x288 with 1 Axes>"
            ],
            "image/png": "[encoded data removed]"
          },
          "metadata": {
            "needs_background": "light"
          }
        }
      ],
      "source": [
        "x_axis_labels = []\n",
        "for i in range(len(list(le3.classes_))):\n",
        "  x_axis_labels.append(i)\n",
        "\n",
        "fig, ax = plt.subplots()\n",
        "plt.scatter(X['RAM_type'].values.tolist(), rating_values_list, c =\"blue\")\n",
        "plt.xticks(x_axis_labels)\n",
        "plt.xlabel('RAM_type')\n",
        "plt.ylabel(\"Rating\")\n",
        "plt.show()"
      ],
      "id": "-H0czhoxra6O"
    },
    {
      "cell_type": "code",
      "execution_count": null,
      "metadata": {
        "colab": {
          "base_uri": "https://localhost:8080/",
          "height": 280
        },
        "id": "78h1F9Esra97",
        "outputId": "34d7dc37-d471-48f7-9367-6ae14833f7a8"
      },
      "outputs": [
        {
          "output_type": "display_data",
          "data": {
            "text/plain": [
              "<Figure size 432x288 with 1 Axes>"
            ],
            "image/png": "[encoded data removed]"
          },
          "metadata": {
            "needs_background": "light"
          }
        }
      ],
      "source": [
        "x_axis_labels = []\n",
        "for i in range(len(list(le4.classes_))):\n",
        "  x_axis_labels.append(i)\n",
        "\n",
        "fig, ax = plt.subplots()\n",
        "plt.scatter(X['RAM_capacity'].values.tolist(), rating_values_list, c =\"blue\")\n",
        "plt.xticks(x_axis_labels)\n",
        "plt.xlabel('RAM_capacity')\n",
        "plt.ylabel(\"Rating\")\n",
        "plt.show()"
      ],
      "id": "78h1F9Esra97"
    },
    {
      "cell_type": "code",
      "execution_count": null,
      "metadata": {
        "colab": {
          "base_uri": "https://localhost:8080/",
          "height": 279
        },
        "id": "nISj29RVrbBN",
        "outputId": "52c2cdef-a8af-4e33-878e-b7dfe070b995"
      },
      "outputs": [
        {
          "output_type": "display_data",
          "data": {
            "text/plain": [
              "<Figure size 432x288 with 1 Axes>"
            ],
            "image/png": "[encoded data removed]"
          },
          "metadata": {
            "needs_background": "light"
          }
        }
      ],
      "source": [
        "x_axis_labels = []\n",
        "for i in range(len(list(le5.classes_))):\n",
        "  x_axis_labels.append(i)\n",
        "\n",
        "fig, ax = plt.subplots()\n",
        "plt.scatter(X['OS'].values.tolist(), rating_values_list, c =\"blue\")\n",
        "plt.xticks(x_axis_labels)\n",
        "plt.xlabel('OS')\n",
        "plt.ylabel(\"Rating\")\n",
        "plt.show()"
      ],
      "id": "nISj29RVrbBN"
    },
    {
      "cell_type": "code",
      "execution_count": null,
      "metadata": {
        "colab": {
          "base_uri": "https://localhost:8080/",
          "height": 280
        },
        "id": "ZFg5atQNrbEV",
        "outputId": "093b3b28-bcbd-4dd1-ab4e-399bbd3d5e94"
      },
      "outputs": [
        {
          "output_type": "display_data",
          "data": {
            "text/plain": [
              "<Figure size 432x288 with 1 Axes>"
            ],
            "image/png": "[encoded data removed]"
          },
          "metadata": {
            "needs_background": "light"
          }
        }
      ],
      "source": [
        "x_axis_labels = []\n",
        "for i in range(len(list(le6.classes_))):\n",
        "  x_axis_labels.append(i)\n",
        "\n",
        "fig, ax = plt.subplots()\n",
        "plt.scatter(X['SSD_capacity'].values.tolist(), rating_values_list, c =\"blue\")\n",
        "plt.xticks(x_axis_labels)\n",
        "plt.xlabel('SSD_capacity')\n",
        "plt.ylabel(\"Rating\")\n",
        "plt.show()"
      ],
      "id": "ZFg5atQNrbEV"
    },
    {
      "cell_type": "code",
      "execution_count": null,
      "metadata": {
        "colab": {
          "base_uri": "https://localhost:8080/",
          "height": 279
        },
        "id": "yND2uFGgrtk_",
        "outputId": "8861c172-c2a9-4035-bf07-6bca7792ac98"
      },
      "outputs": [
        {
          "output_type": "display_data",
          "data": {
            "text/plain": [
              "<Figure size 432x288 with 1 Axes>"
            ],
            "image/png": "[encoded data removed]"
          },
          "metadata": {
            "needs_background": "light"
          }
        }
      ],
      "source": [
        "x_axis_labels = []\n",
        "for i in range(len(list(le7.classes_))):\n",
        "  x_axis_labels.append(i)\n",
        "\n",
        "fig, ax = plt.subplots()\n",
        "plt.scatter(X['Display'].values.tolist(), rating_values_list, c =\"blue\")\n",
        "plt.xticks(x_axis_labels)\n",
        "plt.xlabel('Display')\n",
        "plt.ylabel(\"Rating\")\n",
        "plt.show()"
      ],
      "id": "yND2uFGgrtk_"
    },
    {
      "cell_type": "code",
      "execution_count": null,
      "metadata": {
        "colab": {
          "base_uri": "https://localhost:8080/",
          "height": 280
        },
        "id": "H7Q7FZRgrtqg",
        "outputId": "ca3b30a3-fd86-4b0d-a53b-7a2c3f21a89e"
      },
      "outputs": [
        {
          "output_type": "display_data",
          "data": {
            "text/plain": [
              "<Figure size 432x288 with 1 Axes>"
            ],
            "image/png": "[encoded data removed]"
          },
          "metadata": {
            "needs_background": "light"
          }
        }
      ],
      "source": [
        "x_axis_labels = []\n",
        "for i in range(len(list(le8.classes_))):\n",
        "  x_axis_labels.append(i)\n",
        "\n",
        "fig, ax = plt.subplots()\n",
        "plt.scatter(X['Price_Range'].values.tolist(), rating_values_list, c =\"blue\")\n",
        "plt.xticks(x_axis_labels)\n",
        "plt.xlabel('Price_Range')\n",
        "plt.ylabel(\"Rating\")\n",
        "plt.show()"
      ],
      "id": "H7Q7FZRgrtqg"
    },
    {
      "cell_type": "code",
      "execution_count": null,
      "metadata": {
        "colab": {
          "base_uri": "https://localhost:8080/",
          "height": 279
        },
        "id": "8JRZ_-0Vr3nY",
        "outputId": "25ccc0e1-af04-419e-ada3-8c7428d21d29"
      },
      "outputs": [
        {
          "output_type": "display_data",
          "data": {
            "text/plain": [
              "<Figure size 432x288 with 1 Axes>"
            ],
            "image/png": "[encoded data removed]"
          },
          "metadata": {
            "needs_background": "light"
          }
        }
      ],
      "source": [
        "x_axis_labels = []\n",
        "for i in range(len(list(le9.classes_))):\n",
        "  x_axis_labels.append(i)\n",
        "\n",
        "fig, ax = plt.subplots()\n",
        "plt.scatter(X['Discount'].values.tolist(), rating_values_list, c =\"blue\")\n",
        "plt.xticks(x_axis_labels)\n",
        "plt.xlabel('Discount')\n",
        "plt.ylabel(\"Rating\")\n",
        "plt.show()"
      ],
      "id": "8JRZ_-0Vr3nY"
    },
    {
      "cell_type": "markdown",
      "metadata": {
        "id": "57150fdd"
      },
      "source": [
        "## 4.2 Plotting Pair plot and Regression plot (if possible) of each attribute to identify the linear relationships among the attributes\n"
      ],
      "id": "57150fdd"
    },
    {
      "cell_type": "markdown",
      "metadata": {
        "id": "EFcQVSyIqu1d"
      },
      "source": [
        "Pair plot not possible as all the data is non-numeric and categorical"
      ],
      "id": "EFcQVSyIqu1d"
    },
    {
      "cell_type": "code",
      "execution_count": null,
      "metadata": {
        "colab": {
          "base_uri": "https://localhost:8080/",
          "height": 1000
        },
        "id": "dd3118eb",
        "outputId": "a02b4647-2191-4469-ac27-6ce3631738a7"
      },
      "outputs": [
        {
          "output_type": "execute_result",
          "data": {
            "text/plain": [
              "<seaborn.axisgrid.PairGrid at 0x7f1bacaa7d10>"
            ]
          },
          "metadata": {},
          "execution_count": 187
        },
        {
          "output_type": "display_data",
          "data": {
            "text/plain": [
              "<Figure size 1800x1800 with 110 Axes>"
            ],
            "image/png": "[encoded data removed]"
          },
          "metadata": {
            "needs_background": "light"
          }
        }
      ],
      "source": [
        "##---------Type the code below this line------------------##\n",
        "import seaborn as sns\n",
        "sns.pairplot(X.append(y))"
      ],
      "id": "dd3118eb"
    },
    {
      "cell_type": "markdown",
      "metadata": {
        "id": "HakfUEQoxBtu"
      },
      "source": [
        "Regression plot not possible as all the data is non-numeric and categorical"
      ],
      "id": "HakfUEQoxBtu"
    },
    {
      "cell_type": "markdown",
      "metadata": {
        "id": "575f9e37"
      },
      "source": [
        "## 4.3 Plotting barplots\n"
      ],
      "id": "575f9e37"
    },
    {
      "cell_type": "markdown",
      "metadata": {
        "id": "gdTo74FYcY6i"
      },
      "source": [
        "We can plot the barplot to identify optimal set of attributes. Bar graphs tell us how uniformly the data is distributed wrt to the attribute"
      ],
      "id": "gdTo74FYcY6i"
    },
    {
      "cell_type": "code",
      "execution_count": null,
      "metadata": {
        "id": "gtQFDiypyigr",
        "colab": {
          "base_uri": "https://localhost:8080/",
          "height": 296
        },
        "outputId": "b7594528-2061-469e-c0d0-f7a289ef4bcd"
      },
      "outputs": [
        {
          "output_type": "execute_result",
          "data": {
            "text/plain": [
              "<matplotlib.axes._subplots.AxesSubplot at 0x7f1baafd8f90>"
            ]
          },
          "metadata": {},
          "execution_count": 189
        },
        {
          "output_type": "display_data",
          "data": {
            "text/plain": [
              "<Figure size 432x288 with 1 Axes>"
            ],
            "image/png": "[encoded data removed]"
          },
          "metadata": {
            "needs_background": "light"
          }
        }
      ],
      "source": [
        "##---------Type the code below this line------------------##\n",
        "import seaborn as sns\n",
        "import numpy as np\n",
        "\n",
        "sns.barplot(x ='Brand', y = rating_values_list, data = df, palette ='plasma', estimator = np.std)"
      ],
      "id": "gtQFDiypyigr"
    },
    {
      "cell_type": "code",
      "execution_count": null,
      "metadata": {
        "colab": {
          "base_uri": "https://localhost:8080/",
          "height": 296
        },
        "id": "m9ouWHIbdqAK",
        "outputId": "b2d02599-6995-4606-8afc-ba5807983839"
      },
      "outputs": [
        {
          "output_type": "execute_result",
          "data": {
            "text/plain": [
              "<matplotlib.axes._subplots.AxesSubplot at 0x7f1baae55e90>"
            ]
          },
          "metadata": {},
          "execution_count": 190
        },
        {
          "output_type": "display_data",
          "data": {
            "text/plain": [
              "<Figure size 432x288 with 1 Axes>"
            ],
            "image/png": "[encoded data removed]"
          },
          "metadata": {
            "needs_background": "light"
          }
        }
      ],
      "source": [
        "sns.barplot(x ='Processor', y = rating_values_list, data = df, palette ='plasma', estimator = np.std)"
      ],
      "id": "m9ouWHIbdqAK"
    },
    {
      "cell_type": "code",
      "execution_count": null,
      "metadata": {
        "colab": {
          "base_uri": "https://localhost:8080/",
          "height": 297
        },
        "id": "_YRQodDSdqIP",
        "outputId": "42d5f990-caed-4c13-bf83-0649f488e35d"
      },
      "outputs": [
        {
          "output_type": "execute_result",
          "data": {
            "text/plain": [
              "<matplotlib.axes._subplots.AxesSubplot at 0x7f1bab4fba50>"
            ]
          },
          "metadata": {},
          "execution_count": 191
        },
        {
          "output_type": "display_data",
          "data": {
            "text/plain": [
              "<Figure size 432x288 with 1 Axes>"
            ],
            "image/png": "[encoded data removed]"
          },
          "metadata": {
            "needs_background": "light"
          }
        }
      ],
      "source": [
        "sns.barplot(x ='RAM_type', y = rating_values_list, data = df, palette ='plasma', estimator = np.std)"
      ],
      "id": "_YRQodDSdqIP"
    },
    {
      "cell_type": "code",
      "execution_count": null,
      "metadata": {
        "colab": {
          "base_uri": "https://localhost:8080/",
          "height": 297
        },
        "id": "TVpZL6L6dqLs",
        "outputId": "2365c2a9-4b3c-476e-afee-e938dc88c177"
      },
      "outputs": [
        {
          "output_type": "execute_result",
          "data": {
            "text/plain": [
              "<matplotlib.axes._subplots.AxesSubplot at 0x7f1baacfe250>"
            ]
          },
          "metadata": {},
          "execution_count": 192
        },
        {
          "output_type": "display_data",
          "data": {
            "text/plain": [
              "<Figure size 432x288 with 1 Axes>"
            ],
            "image/png": "[encoded data removed]"
          },
          "metadata": {
            "needs_background": "light"
          }
        }
      ],
      "source": [
        "sns.barplot(x ='RAM_capacity', y = rating_values_list, data = df, palette ='plasma', estimator = np.std)"
      ],
      "id": "TVpZL6L6dqLs"
    },
    {
      "cell_type": "code",
      "execution_count": null,
      "metadata": {
        "colab": {
          "base_uri": "https://localhost:8080/",
          "height": 296
        },
        "id": "afJRVVcgd6cK",
        "outputId": "1781799d-af04-4a2b-ab2c-cb58b4b431c3"
      },
      "outputs": [
        {
          "output_type": "execute_result",
          "data": {
            "text/plain": [
              "<matplotlib.axes._subplots.AxesSubplot at 0x7f1babcf7290>"
            ]
          },
          "metadata": {},
          "execution_count": 193
        },
        {
          "output_type": "display_data",
          "data": {
            "text/plain": [
              "<Figure size 432x288 with 1 Axes>"
            ],
            "image/png": "[encoded data removed]"
          },
          "metadata": {
            "needs_background": "light"
          }
        }
      ],
      "source": [
        "sns.barplot(x ='OS', y = rating_values_list, data = df, palette ='plasma', estimator = np.std)"
      ],
      "id": "afJRVVcgd6cK"
    },
    {
      "cell_type": "code",
      "execution_count": null,
      "metadata": {
        "colab": {
          "base_uri": "https://localhost:8080/",
          "height": 297
        },
        "id": "2VeJmin5d6hs",
        "outputId": "4c67a83f-24ce-4aa3-bb3e-4b2e3ffd83bb"
      },
      "outputs": [
        {
          "output_type": "execute_result",
          "data": {
            "text/plain": [
              "<matplotlib.axes._subplots.AxesSubplot at 0x7f1baabf4990>"
            ]
          },
          "metadata": {},
          "execution_count": 194
        },
        {
          "output_type": "display_data",
          "data": {
            "text/plain": [
              "<Figure size 432x288 with 1 Axes>"
            ],
            "image/png": "[encoded data removed]"
          },
          "metadata": {
            "needs_background": "light"
          }
        }
      ],
      "source": [
        "sns.barplot(x ='SSD_capacity', y = rating_values_list, data = df, palette ='plasma', estimator = np.std)"
      ],
      "id": "2VeJmin5d6hs"
    },
    {
      "cell_type": "code",
      "execution_count": null,
      "metadata": {
        "colab": {
          "base_uri": "https://localhost:8080/",
          "height": 297
        },
        "id": "shxc8Ci7d6kG",
        "outputId": "e11e40f3-1382-4d88-ff2f-4a8b7c4f2fa0"
      },
      "outputs": [
        {
          "output_type": "execute_result",
          "data": {
            "text/plain": [
              "<matplotlib.axes._subplots.AxesSubplot at 0x7f1baab927d0>"
            ]
          },
          "metadata": {},
          "execution_count": 195
        },
        {
          "output_type": "display_data",
          "data": {
            "text/plain": [
              "<Figure size 432x288 with 1 Axes>"
            ],
            "image/png": "[encoded data removed]"
          },
          "metadata": {
            "needs_background": "light"
          }
        }
      ],
      "source": [
        "sns.barplot(x ='Display', y = rating_values_list, data = df, palette ='plasma', estimator = np.std)"
      ],
      "id": "shxc8Ci7d6kG"
    },
    {
      "cell_type": "code",
      "execution_count": null,
      "metadata": {
        "colab": {
          "base_uri": "https://localhost:8080/",
          "height": 297
        },
        "id": "9DhKja5LyjB7",
        "outputId": "a32f585d-7b4f-4fde-8a9b-71c45ba58a85"
      },
      "outputs": [
        {
          "output_type": "execute_result",
          "data": {
            "text/plain": [
              "<matplotlib.axes._subplots.AxesSubplot at 0x7f1baaaeda50>"
            ]
          },
          "metadata": {},
          "execution_count": 196
        },
        {
          "output_type": "display_data",
          "data": {
            "text/plain": [
              "<Figure size 432x288 with 1 Axes>"
            ],
            "image/png": "[encoded data removed]"
          },
          "metadata": {
            "needs_background": "light"
          }
        }
      ],
      "source": [
        "sns.barplot(x ='Price_Range', y = rating_values_list, data = df, palette ='plasma', estimator = np.std)"
      ],
      "id": "9DhKja5LyjB7"
    },
    {
      "cell_type": "code",
      "execution_count": null,
      "metadata": {
        "colab": {
          "base_uri": "https://localhost:8080/",
          "height": 296
        },
        "id": "y9cWMximeLjS",
        "outputId": "3351cd65-ed19-4a36-93ec-d126d5713587"
      },
      "outputs": [
        {
          "output_type": "execute_result",
          "data": {
            "text/plain": [
              "<matplotlib.axes._subplots.AxesSubplot at 0x7f1baaa9d890>"
            ]
          },
          "metadata": {},
          "execution_count": 197
        },
        {
          "output_type": "display_data",
          "data": {
            "text/plain": [
              "<Figure size 432x288 with 1 Axes>"
            ],
            "image/png": "[encoded data removed]"
          },
          "metadata": {
            "needs_background": "light"
          }
        }
      ],
      "source": [
        "sns.barplot(x ='Discount', y = rating_values_list, data = df, palette ='plasma', estimator = np.std)"
      ],
      "id": "y9cWMximeLjS"
    },
    {
      "cell_type": "code",
      "execution_count": null,
      "metadata": {
        "id": "Bm_HAApZt4kc"
      },
      "outputs": [],
      "source": [
        "top_five_barplot = ['Price_Range', 'Discount', 'SSD_capacity', 'RAM_type', 'RAM_capacity']"
      ],
      "id": "Bm_HAApZt4kc"
    },
    {
      "cell_type": "markdown",
      "metadata": {
        "id": "8ox2Vdp-kAf1"
      },
      "source": [
        "Price_range, Discount, SSD_capacity, RAM_type and RAM_capacity attributes seem to be the most uniformly distributed"
      ],
      "id": "8ox2Vdp-kAf1"
    },
    {
      "cell_type": "markdown",
      "metadata": {
        "id": "bdbc82a1"
      },
      "source": [
        "# 5. Data Wrangling and Inference\n",
        "\n"
      ],
      "id": "bdbc82a1"
    },
    {
      "cell_type": "markdown",
      "metadata": {
        "id": "77e57102"
      },
      "source": [
        "## 5.1 Display correlation heatmap of each attribute against the target and report which features are significant."
      ],
      "id": "77e57102"
    },
    {
      "cell_type": "code",
      "execution_count": null,
      "metadata": {
        "id": "EuzNq3FzmSuK"
      },
      "outputs": [],
      "source": [
        "# ##---------Type the code below this line------------------##\n",
        "column_names = ['Brand', 'Processor', 'RAM_type', 'RAM_capacity', 'OS', 'SSD_capacity', 'Display', 'Price_Range', 'Discount']"
      ],
      "id": "EuzNq3FzmSuK"
    },
    {
      "cell_type": "code",
      "execution_count": null,
      "metadata": {
        "colab": {
          "base_uri": "https://localhost:8080/",
          "height": 363
        },
        "id": "7f20f541",
        "outputId": "8b81514b-1f0c-4cd7-ebd1-a209276034a6"
      },
      "outputs": [
        {
          "output_type": "execute_result",
          "data": {
            "text/plain": [
              "                 Brand  Processor  RAM_type  RAM_capacity        OS  \\\n",
              "Brand         1.000000   0.157526 -0.015992      0.014701  0.080653   \n",
              "Processor     0.157526   1.000000  0.164525      0.516477 -0.017948   \n",
              "RAM_type     -0.015992   0.164525  1.000000      0.192830  0.105184   \n",
              "RAM_capacity  0.014701   0.516477  0.192830      1.000000 -0.128573   \n",
              "OS            0.080653  -0.017948  0.105184     -0.128573  1.000000   \n",
              "SSD_capacity  0.075849   0.412625  0.175142      0.302602  0.037375   \n",
              "Display       0.055832   0.145936  0.226061      0.188745  0.163160   \n",
              "Price_Range   0.128885   0.598232  0.270235      0.612433  0.005421   \n",
              "Discount      0.126893   0.012926  0.094303     -0.004167  0.137389   \n",
              "Rating        0.116486   0.122255 -0.042820      0.110288 -0.045774   \n",
              "\n",
              "              SSD_capacity   Display  Price_Range  Discount    Rating  \n",
              "Brand             0.075849  0.055832     0.128885  0.126893  0.116486  \n",
              "Processor         0.412625  0.145936     0.598232  0.012926  0.122255  \n",
              "RAM_type          0.175142  0.226061     0.270235  0.094303 -0.042820  \n",
              "RAM_capacity      0.302602  0.188745     0.612433 -0.004167  0.110288  \n",
              "OS                0.037375  0.163160     0.005421  0.137389 -0.045774  \n",
              "SSD_capacity      1.000000  0.133342     0.343306 -0.030777 -0.012366  \n",
              "Display           0.133342  1.000000     0.227552 -0.031814  0.024926  \n",
              "Price_Range       0.343306  0.227552     1.000000  0.148081  0.201516  \n",
              "Discount         -0.030777 -0.031814     0.148081  1.000000  0.060029  \n",
              "Rating           -0.012366  0.024926     0.201516  0.060029  1.000000  "
            ],
            "text/html": [
              "\n",
              "  <div id=\"df-f91fc104-dc5c-45bd-b59e-98581a6fca21\">\n",
              "    <div class=\"colab-df-container\">\n",
              "      <div>\n",
              "<style scoped>\n",
              "    .dataframe tbody tr th:only-of-type {\n",
              "        vertical-align: middle;\n",
              "    }\n",
              "\n",
              "    .dataframe tbody tr th {\n",
              "        vertical-align: top;\n",
              "    }\n",
              "\n",
              "    .dataframe thead th {\n",
              "        text-align: right;\n",
              "    }\n",
              "</style>\n",
              "<table border=\"1\" class=\"dataframe\">\n",
              "  <thead>\n",
              "    <tr style=\"text-align: right;\">\n",
              "      <th></th>\n",
              "      <th>Brand</th>\n",
              "      <th>Processor</th>\n",
              "      <th>RAM_type</th>\n",
              "      <th>RAM_capacity</th>\n",
              "      <th>OS</th>\n",
              "      <th>SSD_capacity</th>\n",
              "      <th>Display</th>\n",
              "      <th>Price_Range</th>\n",
              "      <th>Discount</th>\n",
              "      <th>Rating</th>\n",
              "    </tr>\n",
              "  </thead>\n",
              "  <tbody>\n",
              "    <tr>\n",
              "      <th>Brand</th>\n",
              "      <td>1.000000</td>\n",
              "      <td>0.157526</td>\n",
              "      <td>-0.015992</td>\n",
              "      <td>0.014701</td>\n",
              "      <td>0.080653</td>\n",
              "      <td>0.075849</td>\n",
              "      <td>0.055832</td>\n",
              "      <td>0.128885</td>\n",
              "      <td>0.126893</td>\n",
              "      <td>0.116486</td>\n",
              "    </tr>\n",
              "    <tr>\n",
              "      <th>Processor</th>\n",
              "      <td>0.157526</td>\n",
              "      <td>1.000000</td>\n",
              "      <td>0.164525</td>\n",
              "      <td>0.516477</td>\n",
              "      <td>-0.017948</td>\n",
              "      <td>0.412625</td>\n",
              "      <td>0.145936</td>\n",
              "      <td>0.598232</td>\n",
              "      <td>0.012926</td>\n",
              "      <td>0.122255</td>\n",
              "    </tr>\n",
              "    <tr>\n",
              "      <th>RAM_type</th>\n",
              "      <td>-0.015992</td>\n",
              "      <td>0.164525</td>\n",
              "      <td>1.000000</td>\n",
              "      <td>0.192830</td>\n",
              "      <td>0.105184</td>\n",
              "      <td>0.175142</td>\n",
              "      <td>0.226061</td>\n",
              "      <td>0.270235</td>\n",
              "      <td>0.094303</td>\n",
              "      <td>-0.042820</td>\n",
              "    </tr>\n",
              "    <tr>\n",
              "      <th>RAM_capacity</th>\n",
              "      <td>0.014701</td>\n",
              "      <td>0.516477</td>\n",
              "      <td>0.192830</td>\n",
              "      <td>1.000000</td>\n",
              "      <td>-0.128573</td>\n",
              "      <td>0.302602</td>\n",
              "      <td>0.188745</td>\n",
              "      <td>0.612433</td>\n",
              "      <td>-0.004167</td>\n",
              "      <td>0.110288</td>\n",
              "    </tr>\n",
              "    <tr>\n",
              "      <th>OS</th>\n",
              "      <td>0.080653</td>\n",
              "      <td>-0.017948</td>\n",
              "      <td>0.105184</td>\n",
              "      <td>-0.128573</td>\n",
              "      <td>1.000000</td>\n",
              "      <td>0.037375</td>\n",
              "      <td>0.163160</td>\n",
              "      <td>0.005421</td>\n",
              "      <td>0.137389</td>\n",
              "      <td>-0.045774</td>\n",
              "    </tr>\n",
              "    <tr>\n",
              "      <th>SSD_capacity</th>\n",
              "      <td>0.075849</td>\n",
              "      <td>0.412625</td>\n",
              "      <td>0.175142</td>\n",
              "      <td>0.302602</td>\n",
              "      <td>0.037375</td>\n",
              "      <td>1.000000</td>\n",
              "      <td>0.133342</td>\n",
              "      <td>0.343306</td>\n",
              "      <td>-0.030777</td>\n",
              "      <td>-0.012366</td>\n",
              "    </tr>\n",
              "    <tr>\n",
              "      <th>Display</th>\n",
              "      <td>0.055832</td>\n",
              "      <td>0.145936</td>\n",
              "      <td>0.226061</td>\n",
              "      <td>0.188745</td>\n",
              "      <td>0.163160</td>\n",
              "      <td>0.133342</td>\n",
              "      <td>1.000000</td>\n",
              "      <td>0.227552</td>\n",
              "      <td>-0.031814</td>\n",
              "      <td>0.024926</td>\n",
              "    </tr>\n",
              "    <tr>\n",
              "      <th>Price_Range</th>\n",
              "      <td>0.128885</td>\n",
              "      <td>0.598232</td>\n",
              "      <td>0.270235</td>\n",
              "      <td>0.612433</td>\n",
              "      <td>0.005421</td>\n",
              "      <td>0.343306</td>\n",
              "      <td>0.227552</td>\n",
              "      <td>1.000000</td>\n",
              "      <td>0.148081</td>\n",
              "      <td>0.201516</td>\n",
              "    </tr>\n",
              "    <tr>\n",
              "      <th>Discount</th>\n",
              "      <td>0.126893</td>\n",
              "      <td>0.012926</td>\n",
              "      <td>0.094303</td>\n",
              "      <td>-0.004167</td>\n",
              "      <td>0.137389</td>\n",
              "      <td>-0.030777</td>\n",
              "      <td>-0.031814</td>\n",
              "      <td>0.148081</td>\n",
              "      <td>1.000000</td>\n",
              "      <td>0.060029</td>\n",
              "    </tr>\n",
              "    <tr>\n",
              "      <th>Rating</th>\n",
              "      <td>0.116486</td>\n",
              "      <td>0.122255</td>\n",
              "      <td>-0.042820</td>\n",
              "      <td>0.110288</td>\n",
              "      <td>-0.045774</td>\n",
              "      <td>-0.012366</td>\n",
              "      <td>0.024926</td>\n",
              "      <td>0.201516</td>\n",
              "      <td>0.060029</td>\n",
              "      <td>1.000000</td>\n",
              "    </tr>\n",
              "  </tbody>\n",
              "</table>\n",
              "</div>\n",
              "      <button class=\"colab-df-convert\" onclick=\"convertToInteractive('df-f91fc104-dc5c-45bd-b59e-98581a6fca21')\"\n",
              "              title=\"Convert this dataframe to an interactive table.\"\n",
              "              style=\"display:none;\">\n",
              "        \n",
              "  <svg xmlns=\"http://www.w3.org/2000/svg\" height=\"24px\"viewBox=\"0 0 24 24\"\n",
              "       width=\"24px\">\n",
              "    <path d=\"M0 0h24v24H0V0z\" fill=\"none\"/>\n",
              "    <path d=\"M18.56 5.44l.94 2.06.94-2.06 2.06-.94-2.06-.94-.94-2.06-.94 2.06-2.06.94zm-11 1L8.5 8.5l.94-2.06 2.06-.94-2.06-.94L8.5 2.5l-.94 2.06-2.06.94zm10 10l.94 2.06.94-2.06 2.06-.94-2.06-.94-.94-2.06-.94 2.06-2.06.94z\"/><path d=\"M17.41 7.96l-1.37-1.37c-.4-.4-.92-.59-1.43-.59-.52 0-1.04.2-1.43.59L10.3 9.45l-7.72 7.72c-.78.78-.78 2.05 0 2.83L4 21.41c.39.39.9.59 1.41.59.51 0 1.02-.2 1.41-.59l7.78-7.78 2.81-2.81c.8-.78.8-2.07 0-2.86zM5.41 20L4 18.59l7.72-7.72 1.47 1.35L5.41 20z\"/>\n",
              "  </svg>\n",
              "      </button>\n",
              "      \n",
              "  <style>\n",
              "    .colab-df-container {\n",
              "      display:flex;\n",
              "      flex-wrap:wrap;\n",
              "      gap: 12px;\n",
              "    }\n",
              "\n",
              "    .colab-df-convert {\n",
              "      background-color: #E8F0FE;\n",
              "      border: none;\n",
              "      border-radius: 50%;\n",
              "      cursor: pointer;\n",
              "      display: none;\n",
              "      fill: #1967D2;\n",
              "      height: 32px;\n",
              "      padding: 0 0 0 0;\n",
              "      width: 32px;\n",
              "    }\n",
              "\n",
              "    .colab-df-convert:hover {\n",
              "      background-color: #E2EBFA;\n",
              "      box-shadow: 0px 1px 2px rgba(60, 64, 67, 0.3), 0px 1px 3px 1px rgba(60, 64, 67, 0.15);\n",
              "      fill: #174EA6;\n",
              "    }\n",
              "\n",
              "    [theme=dark] .colab-df-convert {\n",
              "      background-color: #3B4455;\n",
              "      fill: #D2E3FC;\n",
              "    }\n",
              "\n",
              "    [theme=dark] .colab-df-convert:hover {\n",
              "      background-color: #434B5C;\n",
              "      box-shadow: 0px 1px 3px 1px rgba(0, 0, 0, 0.15);\n",
              "      filter: drop-shadow(0px 1px 2px rgba(0, 0, 0, 0.3));\n",
              "      fill: #FFFFFF;\n",
              "    }\n",
              "  </style>\n",
              "\n",
              "      <script>\n",
              "        const buttonEl =\n",
              "          document.querySelector('#df-f91fc104-dc5c-45bd-b59e-98581a6fca21 button.colab-df-convert');\n",
              "        buttonEl.style.display =\n",
              "          google.colab.kernel.accessAllowed ? 'block' : 'none';\n",
              "\n",
              "        async function convertToInteractive(key) {\n",
              "          const element = document.querySelector('#df-f91fc104-dc5c-45bd-b59e-98581a6fca21');\n",
              "          const dataTable =\n",
              "            await google.colab.kernel.invokeFunction('convertToInteractive',\n",
              "                                                     [key], {});\n",
              "          if (!dataTable) return;\n",
              "\n",
              "          const docLinkHtml = 'Like what you see? Visit the ' +\n",
              "            '<a target=\"_blank\" href=https://colab.research.google.com/notebooks/data_table.ipynb>data table notebook</a>'\n",
              "            + ' to learn more about interactive tables.';\n",
              "          element.innerHTML = '';\n",
              "          dataTable['output_type'] = 'display_data';\n",
              "          await google.colab.output.renderOutput(dataTable, element);\n",
              "          const docLink = document.createElement('div');\n",
              "          docLink.innerHTML = docLinkHtml;\n",
              "          element.appendChild(docLink);\n",
              "        }\n",
              "      </script>\n",
              "    </div>\n",
              "  </div>\n",
              "  "
            ]
          },
          "metadata": {},
          "execution_count": 200
        }
      ],
      "source": [
        "correlation = df.apply(lambda x: x.factorize()[0]).corr()\n",
        "correlation"
      ],
      "id": "7f20f541"
    },
    {
      "cell_type": "code",
      "execution_count": null,
      "metadata": {
        "id": "DWUt_4PK9_W8",
        "colab": {
          "base_uri": "https://localhost:8080/",
          "height": 328
        },
        "outputId": "f6e973c9-1b7b-4382-ac5b-3e367cad00eb"
      },
      "outputs": [
        {
          "output_type": "display_data",
          "data": {
            "text/plain": [
              "<Figure size 432x288 with 2 Axes>"
            ],
            "image/png": "[encoded data removed]"
          },
          "metadata": {
            "needs_background": "light"
          }
        }
      ],
      "source": [
        "import seaborn as sns\n",
        "dataplot = sns.heatmap(correlation, cmap=\"YlGnBu\", annot=True)"
      ],
      "id": "DWUt_4PK9_W8"
    },
    {
      "cell_type": "markdown",
      "metadata": {
        "id": "vgFkhkQgjID-"
      },
      "source": [
        "The features with high (magnitude close to 1) values wrt to the target variable (Rating) are considered significant."
      ],
      "id": "vgFkhkQgjID-"
    },
    {
      "cell_type": "code",
      "execution_count": null,
      "metadata": {
        "id": "yUvAMhv9eylP"
      },
      "outputs": [],
      "source": [
        "Feature_values_list = list(map(abs, correlation['Rating'].values.tolist()))\n",
        "Feature_values_list_sorted = Feature_values_list.copy()\n",
        "Feature_values_list_sorted.sort()"
      ],
      "id": "yUvAMhv9eylP"
    },
    {
      "cell_type": "code",
      "execution_count": null,
      "metadata": {
        "id": "JhNoQoslg7lM",
        "colab": {
          "base_uri": "https://localhost:8080/"
        },
        "outputId": "49ce5387-f3b3-49df-b8a3-e6415d846ac9"
      },
      "outputs": [
        {
          "output_type": "stream",
          "name": "stdout",
          "text": [
            "Top 5 features, from the correlation heatmap, in increasing order of significance are\n",
            "Discount\n",
            "RAM_capacity\n",
            "Brand\n",
            "Processor\n",
            "Price_Range\n"
          ]
        }
      ],
      "source": [
        "top_five_correlation = []\n",
        "print(\"Top 5 features, from the correlation heatmap, in increasing order of significance are\")\n",
        "for i in range(5):\n",
        "  feature__ = column_names[Feature_values_list.index(Feature_values_list_sorted[-6:][i])]\n",
        "  top_five_correlation.append(feature__)\n",
        "  print(feature__)\n",
        "top_five_correlation.reverse()"
      ],
      "id": "JhNoQoslg7lM"
    },
    {
      "cell_type": "markdown",
      "metadata": {
        "id": "ca214eb3"
      },
      "source": [
        "## 5.2 Univariate Filters – Identifying top 5 significant features by evaluating each feature independently with respect to the target variable by exploring \n",
        "1. Mutual Information (Information Gain)\n",
        "2. Gini index\n",
        "3. Gain Ratio\n",
        "4. Chi-Squared test\n",
        "5. Fisher Score"
      ],
      "id": "ca214eb3"
    },
    {
      "cell_type": "markdown",
      "metadata": {
        "id": "gOXI0qitX_yS"
      },
      "source": [
        "1. Information Gain"
      ],
      "id": "gOXI0qitX_yS"
    },
    {
      "cell_type": "code",
      "execution_count": null,
      "metadata": {
        "id": "wm-8lcJhVk6J"
      },
      "outputs": [],
      "source": [
        "##---------Type the code below this line------------------##\n",
        "def compute_impurity(feature, impurity_criterion):\n",
        "\n",
        "    probs = feature.value_counts(normalize=True)\n",
        "    \n",
        "    if impurity_criterion == 'entropy':\n",
        "        impurity = -1 * np.sum(np.log2(probs) * probs)\n",
        "    elif impurity_criterion == 'gini':\n",
        "        impurity = 1 - np.sum(np.square(probs))        \n",
        "    return(round(impurity, 3))"
      ],
      "id": "wm-8lcJhVk6J"
    },
    {
      "cell_type": "code",
      "execution_count": null,
      "metadata": {
        "id": "rPLGnfhGVk9u"
      },
      "outputs": [],
      "source": [
        "def comp_feature_information_gain(df, target, descriptive_feature, split_criterion):\n",
        "\n",
        "    print('target feature:', target)\n",
        "    print('descriptive_feature:', descriptive_feature)\n",
        "            \n",
        "    target_entropy = compute_impurity(df[target], split_criterion)\n",
        "\n",
        "    entropy_list = []\n",
        "    weight_list = []\n",
        "    \n",
        "    for level in df[descriptive_feature].unique():\n",
        "        df_feature_level = df[df[descriptive_feature] == level]\n",
        "        entropy_level = compute_impurity(df_feature_level[target], split_criterion)\n",
        "        entropy_list.append(round(entropy_level, 3))\n",
        "        weight_level = len(df_feature_level) / len(df)\n",
        "        weight_list.append(round(weight_level, 3))\n",
        "\n",
        "    feature_remaining_impurity = np.sum(np.array(entropy_list) * np.array(weight_list))\n",
        "    \n",
        "    information_gain = target_entropy - feature_remaining_impurity\n",
        "    print('information gain:', information_gain)\n",
        "    \n",
        "    print('====================')\n",
        "\n",
        "    return(information_gain)"
      ],
      "id": "rPLGnfhGVk9u"
    },
    {
      "cell_type": "code",
      "execution_count": null,
      "metadata": {
        "id": "k3rVRws1Yh7z",
        "colab": {
          "base_uri": "https://localhost:8080/"
        },
        "outputId": "a30acdea-9796-41c8-b01d-19aeb79090f5"
      },
      "outputs": [
        {
          "output_type": "stream",
          "name": "stdout",
          "text": [
            "target feature: Rating\n",
            "descriptive_feature: Brand\n",
            "information gain: 0.10943399999999981\n",
            "====================\n",
            "target feature: Rating\n",
            "descriptive_feature: Processor\n",
            "information gain: 0.11886000000000019\n",
            "====================\n",
            "target feature: Rating\n",
            "descriptive_feature: RAM_type\n",
            "information gain: 0.0384910000000005\n",
            "====================\n",
            "target feature: Rating\n",
            "descriptive_feature: RAM_capacity\n",
            "information gain: 0.027286000000000143\n",
            "====================\n",
            "target feature: Rating\n",
            "descriptive_feature: OS\n",
            "information gain: 0.05521100000000079\n",
            "====================\n",
            "target feature: Rating\n",
            "descriptive_feature: SSD_capacity\n",
            "information gain: 0.02477499999999999\n",
            "====================\n",
            "target feature: Rating\n",
            "descriptive_feature: Display\n",
            "information gain: 0.020566000000000084\n",
            "====================\n",
            "target feature: Rating\n",
            "descriptive_feature: Price_Range\n",
            "information gain: 0.07481600000000022\n",
            "====================\n",
            "target feature: Rating\n",
            "descriptive_feature: Discount\n",
            "information gain: 0.019781000000000493\n",
            "====================\n"
          ]
        }
      ],
      "source": [
        "info_gain_list = []\n",
        "for feature in df.drop(columns='Rating').columns:\n",
        "    info_gain_list.append(comp_feature_information_gain(df, 'Rating', feature, 'entropy'))"
      ],
      "id": "k3rVRws1Yh7z"
    },
    {
      "cell_type": "code",
      "execution_count": null,
      "metadata": {
        "id": "wOWnkc1Anm_A",
        "colab": {
          "base_uri": "https://localhost:8080/",
          "height": 332
        },
        "outputId": "45594f88-9365-4c5f-8479-5b68c0b50b19"
      },
      "outputs": [
        {
          "output_type": "display_data",
          "data": {
            "text/plain": [
              "      Attribute  Info_gain\n",
              "1     Processor   0.118860\n",
              "0         Brand   0.109434\n",
              "7   Price_Range   0.074816\n",
              "4            OS   0.055211\n",
              "2      RAM_type   0.038491\n",
              "3  RAM_capacity   0.027286\n",
              "5  SSD_capacity   0.024775\n",
              "6       Display   0.020566\n",
              "8      Discount   0.019781"
            ],
            "text/html": [
              "\n",
              "  <div id=\"df-35c0edd4-03b1-4bbe-8a51-cb1d2a717475\">\n",
              "    <div class=\"colab-df-container\">\n",
              "      <div>\n",
              "<style scoped>\n",
              "    .dataframe tbody tr th:only-of-type {\n",
              "        vertical-align: middle;\n",
              "    }\n",
              "\n",
              "    .dataframe tbody tr th {\n",
              "        vertical-align: top;\n",
              "    }\n",
              "\n",
              "    .dataframe thead th {\n",
              "        text-align: right;\n",
              "    }\n",
              "</style>\n",
              "<table border=\"1\" class=\"dataframe\">\n",
              "  <thead>\n",
              "    <tr style=\"text-align: right;\">\n",
              "      <th></th>\n",
              "      <th>Attribute</th>\n",
              "      <th>Info_gain</th>\n",
              "    </tr>\n",
              "  </thead>\n",
              "  <tbody>\n",
              "    <tr>\n",
              "      <th>1</th>\n",
              "      <td>Processor</td>\n",
              "      <td>0.118860</td>\n",
              "    </tr>\n",
              "    <tr>\n",
              "      <th>0</th>\n",
              "      <td>Brand</td>\n",
              "      <td>0.109434</td>\n",
              "    </tr>\n",
              "    <tr>\n",
              "      <th>7</th>\n",
              "      <td>Price_Range</td>\n",
              "      <td>0.074816</td>\n",
              "    </tr>\n",
              "    <tr>\n",
              "      <th>4</th>\n",
              "      <td>OS</td>\n",
              "      <td>0.055211</td>\n",
              "    </tr>\n",
              "    <tr>\n",
              "      <th>2</th>\n",
              "      <td>RAM_type</td>\n",
              "      <td>0.038491</td>\n",
              "    </tr>\n",
              "    <tr>\n",
              "      <th>3</th>\n",
              "      <td>RAM_capacity</td>\n",
              "      <td>0.027286</td>\n",
              "    </tr>\n",
              "    <tr>\n",
              "      <th>5</th>\n",
              "      <td>SSD_capacity</td>\n",
              "      <td>0.024775</td>\n",
              "    </tr>\n",
              "    <tr>\n",
              "      <th>6</th>\n",
              "      <td>Display</td>\n",
              "      <td>0.020566</td>\n",
              "    </tr>\n",
              "    <tr>\n",
              "      <th>8</th>\n",
              "      <td>Discount</td>\n",
              "      <td>0.019781</td>\n",
              "    </tr>\n",
              "  </tbody>\n",
              "</table>\n",
              "</div>\n",
              "      <button class=\"colab-df-convert\" onclick=\"convertToInteractive('df-35c0edd4-03b1-4bbe-8a51-cb1d2a717475')\"\n",
              "              title=\"Convert this dataframe to an interactive table.\"\n",
              "              style=\"display:none;\">\n",
              "        \n",
              "  <svg xmlns=\"http://www.w3.org/2000/svg\" height=\"24px\"viewBox=\"0 0 24 24\"\n",
              "       width=\"24px\">\n",
              "    <path d=\"M0 0h24v24H0V0z\" fill=\"none\"/>\n",
              "    <path d=\"M18.56 5.44l.94 2.06.94-2.06 2.06-.94-2.06-.94-.94-2.06-.94 2.06-2.06.94zm-11 1L8.5 8.5l.94-2.06 2.06-.94-2.06-.94L8.5 2.5l-.94 2.06-2.06.94zm10 10l.94 2.06.94-2.06 2.06-.94-2.06-.94-.94-2.06-.94 2.06-2.06.94z\"/><path d=\"M17.41 7.96l-1.37-1.37c-.4-.4-.92-.59-1.43-.59-.52 0-1.04.2-1.43.59L10.3 9.45l-7.72 7.72c-.78.78-.78 2.05 0 2.83L4 21.41c.39.39.9.59 1.41.59.51 0 1.02-.2 1.41-.59l7.78-7.78 2.81-2.81c.8-.78.8-2.07 0-2.86zM5.41 20L4 18.59l7.72-7.72 1.47 1.35L5.41 20z\"/>\n",
              "  </svg>\n",
              "      </button>\n",
              "      \n",
              "  <style>\n",
              "    .colab-df-container {\n",
              "      display:flex;\n",
              "      flex-wrap:wrap;\n",
              "      gap: 12px;\n",
              "    }\n",
              "\n",
              "    .colab-df-convert {\n",
              "      background-color: #E8F0FE;\n",
              "      border: none;\n",
              "      border-radius: 50%;\n",
              "      cursor: pointer;\n",
              "      display: none;\n",
              "      fill: #1967D2;\n",
              "      height: 32px;\n",
              "      padding: 0 0 0 0;\n",
              "      width: 32px;\n",
              "    }\n",
              "\n",
              "    .colab-df-convert:hover {\n",
              "      background-color: #E2EBFA;\n",
              "      box-shadow: 0px 1px 2px rgba(60, 64, 67, 0.3), 0px 1px 3px 1px rgba(60, 64, 67, 0.15);\n",
              "      fill: #174EA6;\n",
              "    }\n",
              "\n",
              "    [theme=dark] .colab-df-convert {\n",
              "      background-color: #3B4455;\n",
              "      fill: #D2E3FC;\n",
              "    }\n",
              "\n",
              "    [theme=dark] .colab-df-convert:hover {\n",
              "      background-color: #434B5C;\n",
              "      box-shadow: 0px 1px 3px 1px rgba(0, 0, 0, 0.15);\n",
              "      filter: drop-shadow(0px 1px 2px rgba(0, 0, 0, 0.3));\n",
              "      fill: #FFFFFF;\n",
              "    }\n",
              "  </style>\n",
              "\n",
              "      <script>\n",
              "        const buttonEl =\n",
              "          document.querySelector('#df-35c0edd4-03b1-4bbe-8a51-cb1d2a717475 button.colab-df-convert');\n",
              "        buttonEl.style.display =\n",
              "          google.colab.kernel.accessAllowed ? 'block' : 'none';\n",
              "\n",
              "        async function convertToInteractive(key) {\n",
              "          const element = document.querySelector('#df-35c0edd4-03b1-4bbe-8a51-cb1d2a717475');\n",
              "          const dataTable =\n",
              "            await google.colab.kernel.invokeFunction('convertToInteractive',\n",
              "                                                     [key], {});\n",
              "          if (!dataTable) return;\n",
              "\n",
              "          const docLinkHtml = 'Like what you see? Visit the ' +\n",
              "            '<a target=\"_blank\" href=https://colab.research.google.com/notebooks/data_table.ipynb>data table notebook</a>'\n",
              "            + ' to learn more about interactive tables.';\n",
              "          element.innerHTML = '';\n",
              "          dataTable['output_type'] = 'display_data';\n",
              "          await google.colab.output.renderOutput(dataTable, element);\n",
              "          const docLink = document.createElement('div');\n",
              "          docLink.innerHTML = docLinkHtml;\n",
              "          element.appendChild(docLink);\n",
              "        }\n",
              "      </script>\n",
              "    </div>\n",
              "  </div>\n",
              "  "
            ]
          },
          "metadata": {}
        }
      ],
      "source": [
        "info_gain_table = pd.DataFrame(list(zip(column_names, info_gain_list)), \n",
        "                  columns =['Attribute', 'Info_gain'])\n",
        "info_gain_table = info_gain_table.sort_values(by = 'Info_gain', ascending=False)\n",
        "top_five_info_gain = info_gain_table['Attribute'].tolist()[:5]\n",
        "display(info_gain_table )"
      ],
      "id": "wOWnkc1Anm_A"
    },
    {
      "cell_type": "markdown",
      "metadata": {
        "id": "x0CqI4eCYuMK"
      },
      "source": [
        "Higher Information gain indicates purity of split data.\n",
        "\n"
      ],
      "id": "x0CqI4eCYuMK"
    },
    {
      "cell_type": "markdown",
      "metadata": {
        "id": "NXTGa711T8gI"
      },
      "source": [
        "2. Gini Index"
      ],
      "id": "NXTGa711T8gI"
    },
    {
      "cell_type": "code",
      "execution_count": null,
      "metadata": {
        "id": "a85e9754"
      },
      "outputs": [],
      "source": [
        "import numpy as np\n",
        "\n",
        "def calculate_gini_index(column_name):\n",
        "  probs = df[column_name].value_counts(normalize=True)\n",
        "  entropy = -1 * np.sum(np.log2(probs) * probs)\n",
        "  gini_index = 1 - np.sum(np.square(probs))\n",
        "  return gini_index"
      ],
      "id": "a85e9754"
    },
    {
      "cell_type": "code",
      "execution_count": null,
      "metadata": {
        "id": "AIG1g9b-TTJz",
        "colab": {
          "base_uri": "https://localhost:8080/",
          "height": 332
        },
        "outputId": "76592d4a-f85a-4f6c-b78d-356a5a3cbd88"
      },
      "outputs": [
        {
          "output_type": "display_data",
          "data": {
            "text/plain": [
              "      Attribute  Gini_Index\n",
              "2      RAM_type    0.260487\n",
              "4            OS    0.534021\n",
              "3  RAM_capacity    0.558875\n",
              "5  SSD_capacity    0.571458\n",
              "6       Display    0.609591\n",
              "8      Discount    0.730525\n",
              "1     Processor    0.802623\n",
              "0         Brand    0.814493\n",
              "7   Price_Range    0.833465"
            ],
            "text/html": [
              "\n",
              "  <div id=\"df-0c2c7393-df80-4ede-8c6c-a8aff330ca8a\">\n",
              "    <div class=\"colab-df-container\">\n",
              "      <div>\n",
              "<style scoped>\n",
              "    .dataframe tbody tr th:only-of-type {\n",
              "        vertical-align: middle;\n",
              "    }\n",
              "\n",
              "    .dataframe tbody tr th {\n",
              "        vertical-align: top;\n",
              "    }\n",
              "\n",
              "    .dataframe thead th {\n",
              "        text-align: right;\n",
              "    }\n",
              "</style>\n",
              "<table border=\"1\" class=\"dataframe\">\n",
              "  <thead>\n",
              "    <tr style=\"text-align: right;\">\n",
              "      <th></th>\n",
              "      <th>Attribute</th>\n",
              "      <th>Gini_Index</th>\n",
              "    </tr>\n",
              "  </thead>\n",
              "  <tbody>\n",
              "    <tr>\n",
              "      <th>2</th>\n",
              "      <td>RAM_type</td>\n",
              "      <td>0.260487</td>\n",
              "    </tr>\n",
              "    <tr>\n",
              "      <th>4</th>\n",
              "      <td>OS</td>\n",
              "      <td>0.534021</td>\n",
              "    </tr>\n",
              "    <tr>\n",
              "      <th>3</th>\n",
              "      <td>RAM_capacity</td>\n",
              "      <td>0.558875</td>\n",
              "    </tr>\n",
              "    <tr>\n",
              "      <th>5</th>\n",
              "      <td>SSD_capacity</td>\n",
              "      <td>0.571458</td>\n",
              "    </tr>\n",
              "    <tr>\n",
              "      <th>6</th>\n",
              "      <td>Display</td>\n",
              "      <td>0.609591</td>\n",
              "    </tr>\n",
              "    <tr>\n",
              "      <th>8</th>\n",
              "      <td>Discount</td>\n",
              "      <td>0.730525</td>\n",
              "    </tr>\n",
              "    <tr>\n",
              "      <th>1</th>\n",
              "      <td>Processor</td>\n",
              "      <td>0.802623</td>\n",
              "    </tr>\n",
              "    <tr>\n",
              "      <th>0</th>\n",
              "      <td>Brand</td>\n",
              "      <td>0.814493</td>\n",
              "    </tr>\n",
              "    <tr>\n",
              "      <th>7</th>\n",
              "      <td>Price_Range</td>\n",
              "      <td>0.833465</td>\n",
              "    </tr>\n",
              "  </tbody>\n",
              "</table>\n",
              "</div>\n",
              "      <button class=\"colab-df-convert\" onclick=\"convertToInteractive('df-0c2c7393-df80-4ede-8c6c-a8aff330ca8a')\"\n",
              "              title=\"Convert this dataframe to an interactive table.\"\n",
              "              style=\"display:none;\">\n",
              "        \n",
              "  <svg xmlns=\"http://www.w3.org/2000/svg\" height=\"24px\"viewBox=\"0 0 24 24\"\n",
              "       width=\"24px\">\n",
              "    <path d=\"M0 0h24v24H0V0z\" fill=\"none\"/>\n",
              "    <path d=\"M18.56 5.44l.94 2.06.94-2.06 2.06-.94-2.06-.94-.94-2.06-.94 2.06-2.06.94zm-11 1L8.5 8.5l.94-2.06 2.06-.94-2.06-.94L8.5 2.5l-.94 2.06-2.06.94zm10 10l.94 2.06.94-2.06 2.06-.94-2.06-.94-.94-2.06-.94 2.06-2.06.94z\"/><path d=\"M17.41 7.96l-1.37-1.37c-.4-.4-.92-.59-1.43-.59-.52 0-1.04.2-1.43.59L10.3 9.45l-7.72 7.72c-.78.78-.78 2.05 0 2.83L4 21.41c.39.39.9.59 1.41.59.51 0 1.02-.2 1.41-.59l7.78-7.78 2.81-2.81c.8-.78.8-2.07 0-2.86zM5.41 20L4 18.59l7.72-7.72 1.47 1.35L5.41 20z\"/>\n",
              "  </svg>\n",
              "      </button>\n",
              "      \n",
              "  <style>\n",
              "    .colab-df-container {\n",
              "      display:flex;\n",
              "      flex-wrap:wrap;\n",
              "      gap: 12px;\n",
              "    }\n",
              "\n",
              "    .colab-df-convert {\n",
              "      background-color: #E8F0FE;\n",
              "      border: none;\n",
              "      border-radius: 50%;\n",
              "      cursor: pointer;\n",
              "      display: none;\n",
              "      fill: #1967D2;\n",
              "      height: 32px;\n",
              "      padding: 0 0 0 0;\n",
              "      width: 32px;\n",
              "    }\n",
              "\n",
              "    .colab-df-convert:hover {\n",
              "      background-color: #E2EBFA;\n",
              "      box-shadow: 0px 1px 2px rgba(60, 64, 67, 0.3), 0px 1px 3px 1px rgba(60, 64, 67, 0.15);\n",
              "      fill: #174EA6;\n",
              "    }\n",
              "\n",
              "    [theme=dark] .colab-df-convert {\n",
              "      background-color: #3B4455;\n",
              "      fill: #D2E3FC;\n",
              "    }\n",
              "\n",
              "    [theme=dark] .colab-df-convert:hover {\n",
              "      background-color: #434B5C;\n",
              "      box-shadow: 0px 1px 3px 1px rgba(0, 0, 0, 0.15);\n",
              "      filter: drop-shadow(0px 1px 2px rgba(0, 0, 0, 0.3));\n",
              "      fill: #FFFFFF;\n",
              "    }\n",
              "  </style>\n",
              "\n",
              "      <script>\n",
              "        const buttonEl =\n",
              "          document.querySelector('#df-0c2c7393-df80-4ede-8c6c-a8aff330ca8a button.colab-df-convert');\n",
              "        buttonEl.style.display =\n",
              "          google.colab.kernel.accessAllowed ? 'block' : 'none';\n",
              "\n",
              "        async function convertToInteractive(key) {\n",
              "          const element = document.querySelector('#df-0c2c7393-df80-4ede-8c6c-a8aff330ca8a');\n",
              "          const dataTable =\n",
              "            await google.colab.kernel.invokeFunction('convertToInteractive',\n",
              "                                                     [key], {});\n",
              "          if (!dataTable) return;\n",
              "\n",
              "          const docLinkHtml = 'Like what you see? Visit the ' +\n",
              "            '<a target=\"_blank\" href=https://colab.research.google.com/notebooks/data_table.ipynb>data table notebook</a>'\n",
              "            + ' to learn more about interactive tables.';\n",
              "          element.innerHTML = '';\n",
              "          dataTable['output_type'] = 'display_data';\n",
              "          await google.colab.output.renderOutput(dataTable, element);\n",
              "          const docLink = document.createElement('div');\n",
              "          docLink.innerHTML = docLinkHtml;\n",
              "          element.appendChild(docLink);\n",
              "        }\n",
              "      </script>\n",
              "    </div>\n",
              "  </div>\n",
              "  "
            ]
          },
          "metadata": {}
        }
      ],
      "source": [
        "gini_indices = []\n",
        "\n",
        "for column_name in column_names:\n",
        "  gini_indices.append(calculate_gini_index(column_name))\n",
        "\n",
        "gini_index_table = pd.DataFrame(list(zip(column_names, gini_indices)), \n",
        "                  columns =['Attribute', 'Gini_Index'])\n",
        "gini_index_table = gini_index_table.sort_values(by = 'Gini_Index')\n",
        "top_five_gini_index = gini_index_table['Attribute'].tolist()[:5]\n",
        "display(gini_index_table)"
      ],
      "id": "AIG1g9b-TTJz"
    },
    {
      "cell_type": "markdown",
      "metadata": {
        "id": "75kguD2KVAOe"
      },
      "source": [
        "Gini Index closer to zero represents purity, which is a favourable metric for a significant feature. \n"
      ],
      "id": "75kguD2KVAOe"
    },
    {
      "cell_type": "markdown",
      "metadata": {
        "id": "9g0bxuzkd69E"
      },
      "source": [
        "4. Chi-Squared test"
      ],
      "id": "9g0bxuzkd69E"
    },
    {
      "cell_type": "code",
      "execution_count": null,
      "metadata": {
        "id": "AfmUyClgVlcf"
      },
      "outputs": [],
      "source": [
        "from scipy import stats\n",
        "from scipy.stats import chi2\n",
        "\n",
        "def chi_sqaure_test(attribute_column_name, target_variable_name):\n",
        "  crosstab = pd.crosstab(df[attribute_column_name], df[target_variable_name])\n",
        "  chi_squared_value = stats.chi2_contingency(crosstab)[0]\n",
        "  critical_chi_sqaured_value = chi2.ppf(stats.chi2_contingency(crosstab)[1], stats.chi2_contingency(crosstab)[2])\n",
        "  return (critical_chi_sqaured_value - chi_squared_value)"
      ],
      "id": "AfmUyClgVlcf"
    },
    {
      "cell_type": "code",
      "execution_count": null,
      "metadata": {
        "id": "MGipfg6udY3v",
        "colab": {
          "base_uri": "https://localhost:8080/",
          "height": 332
        },
        "outputId": "fc8cafb2-85ca-461b-a8ed-93fab12b5071"
      },
      "outputs": [
        {
          "output_type": "display_data",
          "data": {
            "text/plain": [
              "      Attribute  Chi_Sqaure_test_result\n",
              "8      Discount               -5.212479\n",
              "5  SSD_capacity               -5.644993\n",
              "6       Display               -5.779018\n",
              "2      RAM_type              -21.674989\n",
              "3  RAM_capacity              -21.974814\n",
              "4            OS              -54.382851\n",
              "0         Brand              -63.227729\n",
              "7   Price_Range              -75.656401\n",
              "1     Processor              -78.133325"
            ],
            "text/html": [
              "\n",
              "  <div id=\"df-e7ed1219-c4dc-47b8-9017-4f60ed917b7e\">\n",
              "    <div class=\"colab-df-container\">\n",
              "      <div>\n",
              "<style scoped>\n",
              "    .dataframe tbody tr th:only-of-type {\n",
              "        vertical-align: middle;\n",
              "    }\n",
              "\n",
              "    .dataframe tbody tr th {\n",
              "        vertical-align: top;\n",
              "    }\n",
              "\n",
              "    .dataframe thead th {\n",
              "        text-align: right;\n",
              "    }\n",
              "</style>\n",
              "<table border=\"1\" class=\"dataframe\">\n",
              "  <thead>\n",
              "    <tr style=\"text-align: right;\">\n",
              "      <th></th>\n",
              "      <th>Attribute</th>\n",
              "      <th>Chi_Sqaure_test_result</th>\n",
              "    </tr>\n",
              "  </thead>\n",
              "  <tbody>\n",
              "    <tr>\n",
              "      <th>8</th>\n",
              "      <td>Discount</td>\n",
              "      <td>-5.212479</td>\n",
              "    </tr>\n",
              "    <tr>\n",
              "      <th>5</th>\n",
              "      <td>SSD_capacity</td>\n",
              "      <td>-5.644993</td>\n",
              "    </tr>\n",
              "    <tr>\n",
              "      <th>6</th>\n",
              "      <td>Display</td>\n",
              "      <td>-5.779018</td>\n",
              "    </tr>\n",
              "    <tr>\n",
              "      <th>2</th>\n",
              "      <td>RAM_type</td>\n",
              "      <td>-21.674989</td>\n",
              "    </tr>\n",
              "    <tr>\n",
              "      <th>3</th>\n",
              "      <td>RAM_capacity</td>\n",
              "      <td>-21.974814</td>\n",
              "    </tr>\n",
              "    <tr>\n",
              "      <th>4</th>\n",
              "      <td>OS</td>\n",
              "      <td>-54.382851</td>\n",
              "    </tr>\n",
              "    <tr>\n",
              "      <th>0</th>\n",
              "      <td>Brand</td>\n",
              "      <td>-63.227729</td>\n",
              "    </tr>\n",
              "    <tr>\n",
              "      <th>7</th>\n",
              "      <td>Price_Range</td>\n",
              "      <td>-75.656401</td>\n",
              "    </tr>\n",
              "    <tr>\n",
              "      <th>1</th>\n",
              "      <td>Processor</td>\n",
              "      <td>-78.133325</td>\n",
              "    </tr>\n",
              "  </tbody>\n",
              "</table>\n",
              "</div>\n",
              "      <button class=\"colab-df-convert\" onclick=\"convertToInteractive('df-e7ed1219-c4dc-47b8-9017-4f60ed917b7e')\"\n",
              "              title=\"Convert this dataframe to an interactive table.\"\n",
              "              style=\"display:none;\">\n",
              "        \n",
              "  <svg xmlns=\"http://www.w3.org/2000/svg\" height=\"24px\"viewBox=\"0 0 24 24\"\n",
              "       width=\"24px\">\n",
              "    <path d=\"M0 0h24v24H0V0z\" fill=\"none\"/>\n",
              "    <path d=\"M18.56 5.44l.94 2.06.94-2.06 2.06-.94-2.06-.94-.94-2.06-.94 2.06-2.06.94zm-11 1L8.5 8.5l.94-2.06 2.06-.94-2.06-.94L8.5 2.5l-.94 2.06-2.06.94zm10 10l.94 2.06.94-2.06 2.06-.94-2.06-.94-.94-2.06-.94 2.06-2.06.94z\"/><path d=\"M17.41 7.96l-1.37-1.37c-.4-.4-.92-.59-1.43-.59-.52 0-1.04.2-1.43.59L10.3 9.45l-7.72 7.72c-.78.78-.78 2.05 0 2.83L4 21.41c.39.39.9.59 1.41.59.51 0 1.02-.2 1.41-.59l7.78-7.78 2.81-2.81c.8-.78.8-2.07 0-2.86zM5.41 20L4 18.59l7.72-7.72 1.47 1.35L5.41 20z\"/>\n",
              "  </svg>\n",
              "      </button>\n",
              "      \n",
              "  <style>\n",
              "    .colab-df-container {\n",
              "      display:flex;\n",
              "      flex-wrap:wrap;\n",
              "      gap: 12px;\n",
              "    }\n",
              "\n",
              "    .colab-df-convert {\n",
              "      background-color: #E8F0FE;\n",
              "      border: none;\n",
              "      border-radius: 50%;\n",
              "      cursor: pointer;\n",
              "      display: none;\n",
              "      fill: #1967D2;\n",
              "      height: 32px;\n",
              "      padding: 0 0 0 0;\n",
              "      width: 32px;\n",
              "    }\n",
              "\n",
              "    .colab-df-convert:hover {\n",
              "      background-color: #E2EBFA;\n",
              "      box-shadow: 0px 1px 2px rgba(60, 64, 67, 0.3), 0px 1px 3px 1px rgba(60, 64, 67, 0.15);\n",
              "      fill: #174EA6;\n",
              "    }\n",
              "\n",
              "    [theme=dark] .colab-df-convert {\n",
              "      background-color: #3B4455;\n",
              "      fill: #D2E3FC;\n",
              "    }\n",
              "\n",
              "    [theme=dark] .colab-df-convert:hover {\n",
              "      background-color: #434B5C;\n",
              "      box-shadow: 0px 1px 3px 1px rgba(0, 0, 0, 0.15);\n",
              "      filter: drop-shadow(0px 1px 2px rgba(0, 0, 0, 0.3));\n",
              "      fill: #FFFFFF;\n",
              "    }\n",
              "  </style>\n",
              "\n",
              "      <script>\n",
              "        const buttonEl =\n",
              "          document.querySelector('#df-e7ed1219-c4dc-47b8-9017-4f60ed917b7e button.colab-df-convert');\n",
              "        buttonEl.style.display =\n",
              "          google.colab.kernel.accessAllowed ? 'block' : 'none';\n",
              "\n",
              "        async function convertToInteractive(key) {\n",
              "          const element = document.querySelector('#df-e7ed1219-c4dc-47b8-9017-4f60ed917b7e');\n",
              "          const dataTable =\n",
              "            await google.colab.kernel.invokeFunction('convertToInteractive',\n",
              "                                                     [key], {});\n",
              "          if (!dataTable) return;\n",
              "\n",
              "          const docLinkHtml = 'Like what you see? Visit the ' +\n",
              "            '<a target=\"_blank\" href=https://colab.research.google.com/notebooks/data_table.ipynb>data table notebook</a>'\n",
              "            + ' to learn more about interactive tables.';\n",
              "          element.innerHTML = '';\n",
              "          dataTable['output_type'] = 'display_data';\n",
              "          await google.colab.output.renderOutput(dataTable, element);\n",
              "          const docLink = document.createElement('div');\n",
              "          docLink.innerHTML = docLinkHtml;\n",
              "          element.appendChild(docLink);\n",
              "        }\n",
              "      </script>\n",
              "    </div>\n",
              "  </div>\n",
              "  "
            ]
          },
          "metadata": {}
        }
      ],
      "source": [
        "chi_sqaure_test_results = []\n",
        "\n",
        "for column_name in column_names:\n",
        "  chi_sqaure_test_results.append(chi_sqaure_test(column_name, 'Rating'))\n",
        "\n",
        "chi_square_test_table = pd.DataFrame(list(zip(column_names, chi_sqaure_test_results)), \n",
        "                  columns =['Attribute', 'Chi_Sqaure_test_result'])\n",
        "chi_square_test_table = chi_square_test_table.sort_values(by = 'Chi_Sqaure_test_result', ascending=False)\n",
        "top_five_chi_square = chi_square_test_table['Attribute'].tolist()[:5]\n",
        "display(chi_square_test_table)"
      ],
      "id": "MGipfg6udY3v"
    },
    {
      "cell_type": "markdown",
      "metadata": {
        "id": "clO1tCy4nut9"
      },
      "source": [
        "More positive the difference (critical_chi_sqaured_value - chi_squared_value), more significant the feature\n",
        "\n"
      ],
      "id": "clO1tCy4nut9"
    },
    {
      "cell_type": "markdown",
      "metadata": {
        "id": "06f1173c"
      },
      "source": [
        "## 5.3 Train a “DecisionTreeClassifier” on the entire data and use the classifier to extract the top 5 significant features"
      ],
      "id": "06f1173c"
    },
    {
      "cell_type": "code",
      "execution_count": null,
      "metadata": {
        "id": "9zde9VSr76YH",
        "colab": {
          "base_uri": "https://localhost:8080/"
        },
        "outputId": "d8f878a9-e9fc-47ac-bdb1-591294e7c7bc"
      },
      "outputs": [
        {
          "output_type": "execute_result",
          "data": {
            "text/plain": [
              "DecisionTreeClassifier(max_depth=6, min_samples_split=40)"
            ]
          },
          "metadata": {},
          "execution_count": 212
        }
      ],
      "source": [
        "##---------Type the code below this line------------------##\n",
        "from sklearn.tree import DecisionTreeClassifier \n",
        "\n",
        "tree = DecisionTreeClassifier(criterion='gini', splitter='best', max_depth=6, min_samples_split=40, min_samples_leaf=1, min_weight_fraction_leaf=0.0, max_features=None, random_state=None, max_leaf_nodes=None, min_impurity_decrease=0.0, class_weight=None, ccp_alpha=0.0)\n",
        "tree.fit(X, y)"
      ],
      "id": "9zde9VSr76YH"
    },
    {
      "cell_type": "code",
      "execution_count": null,
      "metadata": {
        "id": "atbCSm3gwS7n",
        "colab": {
          "base_uri": "https://localhost:8080/"
        },
        "outputId": "ab2e2e88-dfe3-42ca-a093-90e2b3fd6708"
      },
      "outputs": [
        {
          "output_type": "stream",
          "name": "stdout",
          "text": [
            "The top 5 significant features according to Decision Tree Classifier are Price_Range , Processor , Brand , OS , Discount\n"
          ]
        }
      ],
      "source": [
        "importances = tree.feature_importances_\n",
        "importances_ = np.copy(importances)\n",
        "top_five_DTC = []\n",
        "for k in range(5):\n",
        "  top_five_DTC.append(column_names[np.argmax(importances_)])\n",
        "  importances_[np.argmax(importances_)] = 0\n",
        "print(\"The top 5 significant features according to Decision Tree Classifier are\", top_five_DTC[0],\",\", top_five_DTC[1], \",\", top_five_DTC[2], \",\", top_five_DTC[3], \",\", top_five_DTC[4])"
      ],
      "id": "atbCSm3gwS7n"
    },
    {
      "cell_type": "code",
      "execution_count": null,
      "metadata": {
        "id": "4Me1KnXdw9dZ",
        "colab": {
          "base_uri": "https://localhost:8080/",
          "height": 297
        },
        "outputId": "4f66c726-05d6-420b-ab1e-e4edaeb8ebb9"
      },
      "outputs": [
        {
          "output_type": "display_data",
          "data": {
            "text/plain": [
              "<Figure size 432x288 with 1 Axes>"
            ],
            "image/png": "[encoded data removed]"
          },
          "metadata": {
            "needs_background": "light"
          }
        }
      ],
      "source": [
        "std = np.std([tree.feature_importances_], axis=0)\n",
        "forest_importances = pd.Series(importances, index=column_names)\n",
        "\n",
        "fig, ax = plt.subplots()\n",
        "forest_importances.plot.bar(yerr=std, ax=ax)\n",
        "ax.set_title(\"Feature importances using MDI\")\n",
        "ax.set_ylabel(\"Mean decrease in impurity\")\n",
        "fig.tight_layout()"
      ],
      "id": "4Me1KnXdw9dZ"
    },
    {
      "cell_type": "markdown",
      "metadata": {
        "id": "040afed8"
      },
      "source": [
        "## 5.4 Using \"mlxtend\" library perform SequentialFeatureSelector to identify top 5 features."
      ],
      "id": "040afed8"
    },
    {
      "cell_type": "code",
      "execution_count": null,
      "metadata": {
        "id": "oieq-uksauGB",
        "colab": {
          "base_uri": "https://localhost:8080/"
        },
        "outputId": "b2373a02-1aed-43f7-b559-7930a14eddc2"
      },
      "outputs": [
        {
          "output_type": "stream",
          "name": "stdout",
          "text": [
            "Looking in indexes: https://pypi.org/simple, https://us-python.pkg.dev/colab-wheels/public/simple/\n",
            "Requirement already satisfied: mlxtend in /usr/local/lib/python3.7/dist-packages (0.14.0)\n",
            "Requirement already satisfied: pandas>=0.17.1 in /usr/local/lib/python3.7/dist-packages (from mlxtend) (1.3.5)\n",
            "Requirement already satisfied: scipy>=0.17 in /usr/local/lib/python3.7/dist-packages (from mlxtend) (1.4.1)\n",
            "Requirement already satisfied: setuptools in /usr/local/lib/python3.7/dist-packages (from mlxtend) (57.4.0)\n",
            "Requirement already satisfied: numpy>=1.10.4 in /usr/local/lib/python3.7/dist-packages (from mlxtend) (1.21.6)\n",
            "Requirement already satisfied: matplotlib>=1.5.1 in /usr/local/lib/python3.7/dist-packages (from mlxtend) (3.2.2)\n",
            "Requirement already satisfied: scikit-learn>=0.18 in /usr/local/lib/python3.7/dist-packages (from mlxtend) (1.0.2)\n",
            "Requirement already satisfied: python-dateutil>=2.1 in /usr/local/lib/python3.7/dist-packages (from matplotlib>=1.5.1->mlxtend) (2.8.2)\n",
            "Requirement already satisfied: cycler>=0.10 in /usr/local/lib/python3.7/dist-packages (from matplotlib>=1.5.1->mlxtend) (0.11.0)\n",
            "Requirement already satisfied: pyparsing!=2.0.4,!=2.1.2,!=2.1.6,>=2.0.1 in /usr/local/lib/python3.7/dist-packages (from matplotlib>=1.5.1->mlxtend) (3.0.9)\n",
            "Requirement already satisfied: kiwisolver>=1.0.1 in /usr/local/lib/python3.7/dist-packages (from matplotlib>=1.5.1->mlxtend) (1.4.3)\n",
            "Requirement already satisfied: typing-extensions in /usr/local/lib/python3.7/dist-packages (from kiwisolver>=1.0.1->matplotlib>=1.5.1->mlxtend) (4.1.1)\n",
            "Requirement already satisfied: pytz>=2017.3 in /usr/local/lib/python3.7/dist-packages (from pandas>=0.17.1->mlxtend) (2022.1)\n",
            "Requirement already satisfied: six>=1.5 in /usr/local/lib/python3.7/dist-packages (from python-dateutil>=2.1->matplotlib>=1.5.1->mlxtend) (1.15.0)\n",
            "Requirement already satisfied: threadpoolctl>=2.0.0 in /usr/local/lib/python3.7/dist-packages (from scikit-learn>=0.18->mlxtend) (3.1.0)\n",
            "Requirement already satisfied: joblib>=0.11 in /usr/local/lib/python3.7/dist-packages (from scikit-learn>=0.18->mlxtend) (1.1.0)\n"
          ]
        }
      ],
      "source": [
        "##---------Type the code below this line------------------##\n",
        "! pip install mlxtend"
      ],
      "id": "oieq-uksauGB"
    },
    {
      "cell_type": "code",
      "execution_count": null,
      "metadata": {
        "id": "5shegZ_wtd0i"
      },
      "outputs": [],
      "source": [
        "import joblib\n",
        "import sys\n",
        "sys.modules['sklearn.externals.joblib'] = joblib\n",
        "from mlxtend.feature_selection import SequentialFeatureSelector as SFS"
      ],
      "id": "5shegZ_wtd0i"
    },
    {
      "cell_type": "code",
      "execution_count": null,
      "metadata": {
        "id": "HsOVpDahWgOr"
      },
      "outputs": [],
      "source": [
        "tree_ = DecisionTreeClassifier(criterion='gini', splitter='best', max_depth=6, min_samples_split=40, min_samples_leaf=1, min_weight_fraction_leaf=0.0, \n",
        "                               max_features=None, random_state=None, max_leaf_nodes=None, min_impurity_decrease=0.0, class_weight=None, ccp_alpha=0.0)"
      ],
      "id": "HsOVpDahWgOr"
    },
    {
      "cell_type": "code",
      "execution_count": null,
      "metadata": {
        "id": "M2yHpn82avAv",
        "colab": {
          "base_uri": "https://localhost:8080/"
        },
        "outputId": "1c71184e-e7f4-4161-a876-6274e74d320a"
      },
      "outputs": [
        {
          "output_type": "stream",
          "name": "stderr",
          "text": [
            "[Parallel(n_jobs=1)]: Using backend SequentialBackend with 1 concurrent workers.\n",
            "[Parallel(n_jobs=1)]: Done   1 out of   1 | elapsed:    0.0s remaining:    0.0s\n",
            "[Parallel(n_jobs=1)]: Done   9 out of   9 | elapsed:    0.0s finished\n",
            "\n",
            "[2022-07-03 08:19:58] Features: 1/5 -- score: 0.28327228327228327[Parallel(n_jobs=1)]: Using backend SequentialBackend with 1 concurrent workers.\n",
            "[Parallel(n_jobs=1)]: Done   1 out of   1 | elapsed:    0.0s remaining:    0.0s\n",
            "[Parallel(n_jobs=1)]: Done   8 out of   8 | elapsed:    0.0s finished\n",
            "\n",
            "[2022-07-03 08:19:58] Features: 2/5 -- score: 0.3199023199023199[Parallel(n_jobs=1)]: Using backend SequentialBackend with 1 concurrent workers.\n",
            "[Parallel(n_jobs=1)]: Done   1 out of   1 | elapsed:    0.0s remaining:    0.0s\n",
            "[Parallel(n_jobs=1)]: Done   7 out of   7 | elapsed:    0.0s finished\n",
            "\n",
            "[2022-07-03 08:19:58] Features: 3/5 -- score: 0.3321123321123321[Parallel(n_jobs=1)]: Using backend SequentialBackend with 1 concurrent workers.\n",
            "[Parallel(n_jobs=1)]: Done   1 out of   1 | elapsed:    0.0s remaining:    0.0s\n",
            "[Parallel(n_jobs=1)]: Done   6 out of   6 | elapsed:    0.0s finished\n",
            "\n",
            "[2022-07-03 08:19:58] Features: 4/5 -- score: 0.33577533577533575[Parallel(n_jobs=1)]: Using backend SequentialBackend with 1 concurrent workers.\n",
            "[Parallel(n_jobs=1)]: Done   1 out of   1 | elapsed:    0.0s remaining:    0.0s\n",
            "[Parallel(n_jobs=1)]: Done   5 out of   5 | elapsed:    0.0s finished\n",
            "\n",
            "[2022-07-03 08:19:58] Features: 5/5 -- score: 0.33577533577533575"
          ]
        }
      ],
      "source": [
        "sfs1 = SFS(tree_, \n",
        "           k_features=5, \n",
        "           forward=True, \n",
        "           floating=False, \n",
        "           verbose=2,\n",
        "           scoring='accuracy',\n",
        "           cv=0)\n",
        "\n",
        "sfs1 = sfs1.fit(X, y, custom_feature_names=column_names)"
      ],
      "id": "M2yHpn82avAv"
    },
    {
      "cell_type": "code",
      "execution_count": null,
      "metadata": {
        "id": "KYumuxzfbJsh",
        "colab": {
          "base_uri": "https://localhost:8080/"
        },
        "outputId": "0ca1ee68-8b78-4cb1-fcef-2fe0ef8710e1"
      },
      "outputs": [
        {
          "output_type": "execute_result",
          "data": {
            "text/plain": [
              "{1: {'avg_score': 0.28327228327228327,\n",
              "  'cv_scores': array([0.28327228]),\n",
              "  'feature_idx': (0,),\n",
              "  'feature_names': ('Brand',)},\n",
              " 2: {'avg_score': 0.3199023199023199,\n",
              "  'cv_scores': array([0.31990232]),\n",
              "  'feature_idx': (0, 7),\n",
              "  'feature_names': ('Brand', 'Price_Range')},\n",
              " 3: {'avg_score': 0.3321123321123321,\n",
              "  'cv_scores': array([0.33211233]),\n",
              "  'feature_idx': (0, 1, 7),\n",
              "  'feature_names': ('Brand', 'Processor', 'Price_Range')},\n",
              " 4: {'avg_score': 0.33577533577533575,\n",
              "  'cv_scores': array([0.33577534]),\n",
              "  'feature_idx': (0, 1, 4, 7),\n",
              "  'feature_names': ('Brand', 'Processor', 'OS', 'Price_Range')},\n",
              " 5: {'avg_score': 0.33577533577533575,\n",
              "  'cv_scores': array([0.33577534]),\n",
              "  'feature_idx': (0, 1, 2, 4, 7),\n",
              "  'feature_names': ('Brand', 'Processor', 'RAM_type', 'OS', 'Price_Range')}}"
            ]
          },
          "metadata": {},
          "execution_count": 139
        }
      ],
      "source": [
        "sfs1.subsets_"
      ],
      "id": "KYumuxzfbJsh"
    },
    {
      "cell_type": "code",
      "execution_count": null,
      "metadata": {
        "id": "cGcM_VYfavFr",
        "colab": {
          "base_uri": "https://localhost:8080/"
        },
        "outputId": "3c1e3aa0-c107-44ab-a178-f845aa322bb8"
      },
      "outputs": [
        {
          "output_type": "stream",
          "name": "stdout",
          "text": [
            "['Brand', 'Processor', 'RAM_type', 'OS', 'Price_Range']\n"
          ]
        }
      ],
      "source": [
        "top_five_sfs = list(sfs1.k_feature_names_)\n",
        "print(top_five_sfs)"
      ],
      "id": "cGcM_VYfavFr"
    },
    {
      "cell_type": "markdown",
      "metadata": {
        "id": "eb57940c"
      },
      "source": [
        "## 5.5 Conclude the top 3 significant features with necessary justifications."
      ],
      "id": "eb57940c"
    },
    {
      "cell_type": "code",
      "execution_count": null,
      "metadata": {
        "colab": {
          "base_uri": "https://localhost:8080/"
        },
        "id": "AQ_hCGNnxAmL",
        "outputId": "b6e02b7e-8ea3-4f55-d0a8-720e0d01dbf1"
      },
      "outputs": [
        {
          "output_type": "stream",
          "name": "stdout",
          "text": [
            "['Brand', 'Processor', 'RAM_type', 'RAM_capacity', 'OS', 'SSD_capacity', 'Display', 'Price_Range', 'Discount']\n",
            "['Price_Range', 'Discount', 'SSD_capacity', 'RAM_type', 'RAM_capacity']\n",
            "['Price_Range', 'Processor', 'RAM_capacity', 'Brand', 'OS']\n",
            "['Processor', 'Price_Range', 'Brand', 'OS', 'RAM_capacity']\n",
            "['RAM_type', 'OS', 'RAM_capacity', 'SSD_capacity', 'Display']\n",
            "['Discount', 'Display', 'RAM_type', 'SSD_capacity', 'RAM_capacity']\n",
            "['Price_Range', 'Processor', 'OS', 'Brand', 'SSD_capacity']\n",
            "['Brand', 'Processor', 'RAM_type', 'OS', 'Price_Range']\n"
          ]
        }
      ],
      "source": [
        "print(column_names)\n",
        "print(top_five_barplot)\n",
        "print(top_five_correlation)\n",
        "print(top_five_info_gain)\n",
        "print(top_five_gini_index)\n",
        "print(top_five_chi_square)\n",
        "print(top_five_DTC)\n",
        "print(top_five_sfs)"
      ],
      "id": "AQ_hCGNnxAmL"
    },
    {
      "cell_type": "code",
      "execution_count": null,
      "metadata": {
        "id": "MAgkIr3fxApK"
      },
      "outputs": [],
      "source": [
        "Scores = [0, 0, 0, 0, 0, 0, 0, 0, 0]\n",
        "for att in column_names:\n",
        "  if att in top_five_barplot:\n",
        "    Scores[column_names.index(att)] += 1\n",
        "  if att in top_five_correlation:\n",
        "    Scores[column_names.index(att)] += 1\n",
        "  if att in top_five_info_gain:\n",
        "    Scores[column_names.index(att)] += 1\n",
        "  if att in top_five_gini_index:\n",
        "    Scores[column_names.index(att)] += 1\n",
        "  if att in top_five_chi_square:\n",
        "    Scores[column_names.index(att)] += 1\n",
        "  if att in top_five_DTC:\n",
        "    Scores[column_names.index(att)] += 1\n",
        "  if att in top_five_sfs:\n",
        "    Scores[column_names.index(att)] += 1"
      ],
      "id": "MAgkIr3fxApK"
    },
    {
      "cell_type": "markdown",
      "metadata": {
        "id": "324448eb"
      },
      "source": [
        "In conclusion, the top three significant features are - \n",
        "\n"
      ],
      "id": "324448eb"
    },
    {
      "cell_type": "code",
      "execution_count": null,
      "metadata": {
        "colab": {
          "base_uri": "https://localhost:8080/",
          "height": 332
        },
        "id": "mOoQtGVe0rIc",
        "outputId": "432d4d00-a3a0-4104-be7c-ff810c75ad8e"
      },
      "outputs": [
        {
          "output_type": "display_data",
          "data": {
            "text/plain": [
              "      Attribute  Score\n",
              "3  RAM_capacity      5\n",
              "4            OS      5\n",
              "7   Price_Range      5\n",
              "0         Brand      4\n",
              "1     Processor      4\n",
              "2      RAM_type      4\n",
              "5  SSD_capacity      4\n",
              "6       Display      2\n",
              "8      Discount      2"
            ],
            "text/html": [
              "\n",
              "  <div id=\"df-67adfe57-d5bc-40f0-94bd-426eaefe3a20\">\n",
              "    <div class=\"colab-df-container\">\n",
              "      <div>\n",
              "<style scoped>\n",
              "    .dataframe tbody tr th:only-of-type {\n",
              "        vertical-align: middle;\n",
              "    }\n",
              "\n",
              "    .dataframe tbody tr th {\n",
              "        vertical-align: top;\n",
              "    }\n",
              "\n",
              "    .dataframe thead th {\n",
              "        text-align: right;\n",
              "    }\n",
              "</style>\n",
              "<table border=\"1\" class=\"dataframe\">\n",
              "  <thead>\n",
              "    <tr style=\"text-align: right;\">\n",
              "      <th></th>\n",
              "      <th>Attribute</th>\n",
              "      <th>Score</th>\n",
              "    </tr>\n",
              "  </thead>\n",
              "  <tbody>\n",
              "    <tr>\n",
              "      <th>3</th>\n",
              "      <td>RAM_capacity</td>\n",
              "      <td>5</td>\n",
              "    </tr>\n",
              "    <tr>\n",
              "      <th>4</th>\n",
              "      <td>OS</td>\n",
              "      <td>5</td>\n",
              "    </tr>\n",
              "    <tr>\n",
              "      <th>7</th>\n",
              "      <td>Price_Range</td>\n",
              "      <td>5</td>\n",
              "    </tr>\n",
              "    <tr>\n",
              "      <th>0</th>\n",
              "      <td>Brand</td>\n",
              "      <td>4</td>\n",
              "    </tr>\n",
              "    <tr>\n",
              "      <th>1</th>\n",
              "      <td>Processor</td>\n",
              "      <td>4</td>\n",
              "    </tr>\n",
              "    <tr>\n",
              "      <th>2</th>\n",
              "      <td>RAM_type</td>\n",
              "      <td>4</td>\n",
              "    </tr>\n",
              "    <tr>\n",
              "      <th>5</th>\n",
              "      <td>SSD_capacity</td>\n",
              "      <td>4</td>\n",
              "    </tr>\n",
              "    <tr>\n",
              "      <th>6</th>\n",
              "      <td>Display</td>\n",
              "      <td>2</td>\n",
              "    </tr>\n",
              "    <tr>\n",
              "      <th>8</th>\n",
              "      <td>Discount</td>\n",
              "      <td>2</td>\n",
              "    </tr>\n",
              "  </tbody>\n",
              "</table>\n",
              "</div>\n",
              "      <button class=\"colab-df-convert\" onclick=\"convertToInteractive('df-67adfe57-d5bc-40f0-94bd-426eaefe3a20')\"\n",
              "              title=\"Convert this dataframe to an interactive table.\"\n",
              "              style=\"display:none;\">\n",
              "        \n",
              "  <svg xmlns=\"http://www.w3.org/2000/svg\" height=\"24px\"viewBox=\"0 0 24 24\"\n",
              "       width=\"24px\">\n",
              "    <path d=\"M0 0h24v24H0V0z\" fill=\"none\"/>\n",
              "    <path d=\"M18.56 5.44l.94 2.06.94-2.06 2.06-.94-2.06-.94-.94-2.06-.94 2.06-2.06.94zm-11 1L8.5 8.5l.94-2.06 2.06-.94-2.06-.94L8.5 2.5l-.94 2.06-2.06.94zm10 10l.94 2.06.94-2.06 2.06-.94-2.06-.94-.94-2.06-.94 2.06-2.06.94z\"/><path d=\"M17.41 7.96l-1.37-1.37c-.4-.4-.92-.59-1.43-.59-.52 0-1.04.2-1.43.59L10.3 9.45l-7.72 7.72c-.78.78-.78 2.05 0 2.83L4 21.41c.39.39.9.59 1.41.59.51 0 1.02-.2 1.41-.59l7.78-7.78 2.81-2.81c.8-.78.8-2.07 0-2.86zM5.41 20L4 18.59l7.72-7.72 1.47 1.35L5.41 20z\"/>\n",
              "  </svg>\n",
              "      </button>\n",
              "      \n",
              "  <style>\n",
              "    .colab-df-container {\n",
              "      display:flex;\n",
              "      flex-wrap:wrap;\n",
              "      gap: 12px;\n",
              "    }\n",
              "\n",
              "    .colab-df-convert {\n",
              "      background-color: #E8F0FE;\n",
              "      border: none;\n",
              "      border-radius: 50%;\n",
              "      cursor: pointer;\n",
              "      display: none;\n",
              "      fill: #1967D2;\n",
              "      height: 32px;\n",
              "      padding: 0 0 0 0;\n",
              "      width: 32px;\n",
              "    }\n",
              "\n",
              "    .colab-df-convert:hover {\n",
              "      background-color: #E2EBFA;\n",
              "      box-shadow: 0px 1px 2px rgba(60, 64, 67, 0.3), 0px 1px 3px 1px rgba(60, 64, 67, 0.15);\n",
              "      fill: #174EA6;\n",
              "    }\n",
              "\n",
              "    [theme=dark] .colab-df-convert {\n",
              "      background-color: #3B4455;\n",
              "      fill: #D2E3FC;\n",
              "    }\n",
              "\n",
              "    [theme=dark] .colab-df-convert:hover {\n",
              "      background-color: #434B5C;\n",
              "      box-shadow: 0px 1px 3px 1px rgba(0, 0, 0, 0.15);\n",
              "      filter: drop-shadow(0px 1px 2px rgba(0, 0, 0, 0.3));\n",
              "      fill: #FFFFFF;\n",
              "    }\n",
              "  </style>\n",
              "\n",
              "      <script>\n",
              "        const buttonEl =\n",
              "          document.querySelector('#df-67adfe57-d5bc-40f0-94bd-426eaefe3a20 button.colab-df-convert');\n",
              "        buttonEl.style.display =\n",
              "          google.colab.kernel.accessAllowed ? 'block' : 'none';\n",
              "\n",
              "        async function convertToInteractive(key) {\n",
              "          const element = document.querySelector('#df-67adfe57-d5bc-40f0-94bd-426eaefe3a20');\n",
              "          const dataTable =\n",
              "            await google.colab.kernel.invokeFunction('convertToInteractive',\n",
              "                                                     [key], {});\n",
              "          if (!dataTable) return;\n",
              "\n",
              "          const docLinkHtml = 'Like what you see? Visit the ' +\n",
              "            '<a target=\"_blank\" href=https://colab.research.google.com/notebooks/data_table.ipynb>data table notebook</a>'\n",
              "            + ' to learn more about interactive tables.';\n",
              "          element.innerHTML = '';\n",
              "          dataTable['output_type'] = 'display_data';\n",
              "          await google.colab.output.renderOutput(dataTable, element);\n",
              "          const docLink = document.createElement('div');\n",
              "          docLink.innerHTML = docLinkHtml;\n",
              "          element.appendChild(docLink);\n",
              "        }\n",
              "      </script>\n",
              "    </div>\n",
              "  </div>\n",
              "  "
            ]
          },
          "metadata": {}
        }
      ],
      "source": [
        "scorecard = pd.DataFrame(list(zip(column_names, Scores)), \n",
        "                  columns =['Attribute', 'Score'])\n",
        "scorecard = scorecard.sort_values(by = 'Score', ascending=False)\n",
        "display(scorecard)"
      ],
      "id": "mOoQtGVe0rIc"
    },
    {
      "cell_type": "markdown",
      "metadata": {
        "id": "LoFWAkzK1a2_"
      },
      "source": [
        "This has been decided based on the reults obtained from barplot, correlation, univariate filters, decision tree classifer and SequentialFeatureSelector"
      ],
      "id": "LoFWAkzK1a2_"
    }
  ],
  "metadata": {
    "colab": {
      "collapsed_sections": [
        "7b1fea4d",
        "bb84fc56",
        "2bcb953b",
        "06fdebf8",
        "77e57102"
      ],
      "provenance": []
    },
    "gpuClass": "standard",
    "kernelspec": {
      "display_name": "Python 3 (ipykernel)",
      "language": "python",
      "name": "python3"
    },
    "language_info": {
      "codemirror_mode": {
        "name": "ipython",
        "version": 3
      },
      "file_extension": ".py",
      "mimetype": "text/x-python",
      "name": "python",
      "nbconvert_exporter": "python",
      "pygments_lexer": "ipython3",
      "version": "3.8.10"
    }
  },
  "nbformat": 4,
  "nbformat_minor": 5
}